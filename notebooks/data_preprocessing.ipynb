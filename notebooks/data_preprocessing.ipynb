{
 "cells": [
  {
   "cell_type": "code",
   "execution_count": 3,
   "metadata": {},
   "outputs": [],
   "source": [
    "import folium                                 # visualization\n",
    "import geopandas as gpd                        # data analysis and manipulation\n",
    "import glob                                   # data access\n",
    "import json                                   # JSON encoder and decoder\n",
    "import matplotlib.pyplot as plt               # create visualizations\n",
    "import numpy as np                            # scientific computing\n",
    "import os                                     # data access\n",
    "from datetime import date                     # dates, times and intervals\n",
    "from folium import plugins                    # visualization\n",
    "from scripts.credential import username_landsat, password_landsat, username_sentinel, password_sentinel\n",
    "from scripts.download_imagery import DownloadImagery\n",
    "from sentinelsat.sentinel import SentinelAPI, read_geojson, geojson_to_wkt  # interface to Open Access Hub\n",
    "from shapely.geometry import Polygon, Point\n",
    "from zipfile import ZipFile                   # file management\n",
    "import pandas as pd\n",
    "import time                                   # time assessment\n",
    "import rasterio as rio\n"
   ]
  },
  {
   "cell_type": "code",
   "execution_count": 23,
   "metadata": {},
   "outputs": [
    {
     "data": {
      "text/plain": [
       "[]"
      ]
     },
     "execution_count": 23,
     "metadata": {},
     "output_type": "execute_result"
    }
   ],
   "source": [
    "bands_path = './extracted/S2A_MSIL2A_20200125T085241_N0213_R107_T36TVS_20200125T114313/IMG_DATA/R10m'\n",
    "\n",
    "full_bands_path = os.path.join(bands_path, '*B02_10m.jp2')\n",
    "\n",
    "multi_bands = glob.glob(full_bands_path)\n",
    "\n",
    "multi_bands.sort()\n",
    "\n",
    "multi_bands"
   ]
  },
  {
   "cell_type": "code",
   "execution_count": 6,
   "metadata": {},
   "outputs": [
    {
     "name": "stdout",
     "output_type": "stream",
     "text": [
      "./extracted/S2A_MSIL2A_20200125T085241_N0213_R107_T36TVS_20200125T114313/IMG_DATA/R10m/_*B0[2:3:4]_10m.jp2\n"
     ]
    },
    {
     "ename": "ValueError",
     "evalue": "need at least one array to stack",
     "output_type": "error",
     "traceback": [
      "\u001b[1;31m---------------------------------------------------------------------------\u001b[0m",
      "\u001b[1;31mValueError\u001b[0m                                Traceback (most recent call last)",
      "Cell \u001b[1;32mIn[6], line 19\u001b[0m\n\u001b[0;32m     16\u001b[0m         out_meta \u001b[39m=\u001b[39m img_file\u001b[39m.\u001b[39mprofile\n\u001b[0;32m     17\u001b[0m         img_file\u001b[39m.\u001b[39mclose()\n\u001b[1;32m---> 19\u001b[0m arr_st \u001b[39m=\u001b[39m np\u001b[39m.\u001b[39;49mstack(img_list)\n\u001b[0;32m     21\u001b[0m \u001b[39m# Updating metadata\u001b[39;00m\n\u001b[0;32m     22\u001b[0m out_meta\u001b[39m.\u001b[39mupdate({\u001b[39m\"\u001b[39m\u001b[39mcount\u001b[39m\u001b[39m\"\u001b[39m: \u001b[39mlen\u001b[39m(multi_bands)})\n",
      "File \u001b[1;32m<__array_function__ internals>:180\u001b[0m, in \u001b[0;36mstack\u001b[1;34m(*args, **kwargs)\u001b[0m\n",
      "File \u001b[1;32m~\\AppData\\Roaming\\Python\\Python39\\site-packages\\numpy\\core\\shape_base.py:422\u001b[0m, in \u001b[0;36mstack\u001b[1;34m(arrays, axis, out)\u001b[0m\n\u001b[0;32m    420\u001b[0m arrays \u001b[39m=\u001b[39m [asanyarray(arr) \u001b[39mfor\u001b[39;00m arr \u001b[39min\u001b[39;00m arrays]\n\u001b[0;32m    421\u001b[0m \u001b[39mif\u001b[39;00m \u001b[39mnot\u001b[39;00m arrays:\n\u001b[1;32m--> 422\u001b[0m     \u001b[39mraise\u001b[39;00m \u001b[39mValueError\u001b[39;00m(\u001b[39m'\u001b[39m\u001b[39mneed at least one array to stack\u001b[39m\u001b[39m'\u001b[39m)\n\u001b[0;32m    424\u001b[0m shapes \u001b[39m=\u001b[39m {arr\u001b[39m.\u001b[39mshape \u001b[39mfor\u001b[39;00m arr \u001b[39min\u001b[39;00m arrays}\n\u001b[0;32m    425\u001b[0m \u001b[39mif\u001b[39;00m \u001b[39mlen\u001b[39m(shapes) \u001b[39m!=\u001b[39m \u001b[39m1\u001b[39m:\n",
      "\u001b[1;31mValueError\u001b[0m: need at least one array to stack"
     ]
    }
   ],
   "source": [
    "\n",
    "multi_bands = glob.glob(full_bands_path)\n",
    "\n",
    "multi_bands.sort()\n",
    "\n",
    "img_list = []\n",
    "\n",
    "for img in multi_bands:\n",
    "    with rio.open(img, 'r') as img_file:\n",
    "        img_list.append(img_file.read(1))\n",
    "        out_meta = img_file.profile\n",
    "        img_file.close()\n",
    "\n",
    "arr_st = np.stack(img_list)\n",
    "\n",
    "# Updating metadata\n",
    "out_meta.update({\"count\": len(multi_bands)})\n",
    "\n",
    "outpath = os.getcwd()\n",
    "name_output = 'sentinel_stacked_2020_01_25'\n",
    "\n",
    "# Saving multi stack to disk\n",
    "with rio.open(os.path.join(outpath, f'{name_output}.tif'), 'w', **out_meta) as src:\n",
    "    src.write(arr_st)"
   ]
  },
  {
   "cell_type": "code",
   "execution_count": 2,
   "metadata": {},
   "outputs": [
    {
     "ename": "ValueError",
     "evalue": "need at least one array to stack",
     "output_type": "error",
     "traceback": [
      "\u001b[1;31m---------------------------------------------------------------------------\u001b[0m",
      "\u001b[1;31mValueError\u001b[0m                                Traceback (most recent call last)",
      "Cell \u001b[1;32mIn[2], line 1\u001b[0m\n\u001b[1;32m----> 1\u001b[0m DownloadImagery\u001b[39m.\u001b[39;49mstakingBands(\u001b[39m'\u001b[39;49m\u001b[39msentinel\u001b[39;49m\u001b[39m'\u001b[39;49m,\n\u001b[0;32m      2\u001b[0m                              \u001b[39m'\u001b[39;49m\u001b[39m./extracted/S2A_MSIL2A_20200125T085241_N0213_R107_T36TVS_20200125T114313/IMG_DATA/R10m/\u001b[39;49m\u001b[39m'\u001b[39;49m,\n\u001b[0;32m      3\u001b[0m                              os\u001b[39m.\u001b[39;49mgetcwd(),\n\u001b[0;32m      4\u001b[0m                              name_output\u001b[39m=\u001b[39;49m \u001b[39m'\u001b[39;49m\u001b[39msentinel_stacked_2020_01_25\u001b[39;49m\u001b[39m'\u001b[39;49m\n\u001b[0;32m      5\u001b[0m                             )\n",
      "File \u001b[1;32md:\\satellite_flood_detection\\notebooks\\scripts\\download_imagery.py:289\u001b[0m, in \u001b[0;36mDownloadImagery.stakingBands\u001b[1;34m(satellite, bands_path, outpath, name_output)\u001b[0m\n\u001b[0;32m    286\u001b[0m         out_meta \u001b[39m=\u001b[39m img_file\u001b[39m.\u001b[39mprofile\n\u001b[0;32m    287\u001b[0m         img_file\u001b[39m.\u001b[39mclose()\n\u001b[1;32m--> 289\u001b[0m arr_st \u001b[39m=\u001b[39m np\u001b[39m.\u001b[39;49mstack(img_list)\n\u001b[0;32m    291\u001b[0m \u001b[39m# Updating metadata\u001b[39;00m\n\u001b[0;32m    292\u001b[0m out_meta\u001b[39m.\u001b[39mupdate({\u001b[39m\"\u001b[39m\u001b[39mcount\u001b[39m\u001b[39m\"\u001b[39m: \u001b[39mlen\u001b[39m(multi_bands)})\n",
      "File \u001b[1;32m<__array_function__ internals>:180\u001b[0m, in \u001b[0;36mstack\u001b[1;34m(*args, **kwargs)\u001b[0m\n",
      "File \u001b[1;32m~\\AppData\\Roaming\\Python\\Python39\\site-packages\\numpy\\core\\shape_base.py:422\u001b[0m, in \u001b[0;36mstack\u001b[1;34m(arrays, axis, out)\u001b[0m\n\u001b[0;32m    420\u001b[0m arrays \u001b[39m=\u001b[39m [asanyarray(arr) \u001b[39mfor\u001b[39;00m arr \u001b[39min\u001b[39;00m arrays]\n\u001b[0;32m    421\u001b[0m \u001b[39mif\u001b[39;00m \u001b[39mnot\u001b[39;00m arrays:\n\u001b[1;32m--> 422\u001b[0m     \u001b[39mraise\u001b[39;00m \u001b[39mValueError\u001b[39;00m(\u001b[39m'\u001b[39m\u001b[39mneed at least one array to stack\u001b[39m\u001b[39m'\u001b[39m)\n\u001b[0;32m    424\u001b[0m shapes \u001b[39m=\u001b[39m {arr\u001b[39m.\u001b[39mshape \u001b[39mfor\u001b[39;00m arr \u001b[39min\u001b[39;00m arrays}\n\u001b[0;32m    425\u001b[0m \u001b[39mif\u001b[39;00m \u001b[39mlen\u001b[39m(shapes) \u001b[39m!=\u001b[39m \u001b[39m1\u001b[39m:\n",
      "\u001b[1;31mValueError\u001b[0m: need at least one array to stack"
     ]
    }
   ],
   "source": [
    "DownloadImagery.stakingBands('sentinel',\n",
    "                             './extracted/S2A_MSIL2A_20200125T085241_N0213_R107_T36TVS_20200125T114313/IMG_DATA/R10m/',\n",
    "                             os.getcwd(),\n",
    "                             name_output= 'sentinel_stacked_2020_01_25'\n",
    "                            )"
   ]
  }
 ],
 "metadata": {
  "kernelspec": {
   "display_name": "flooding",
   "language": "python",
   "name": "python3"
  },
  "language_info": {
   "codemirror_mode": {
    "name": "ipython",
    "version": 3
   },
   "file_extension": ".py",
   "mimetype": "text/x-python",
   "name": "python",
   "nbconvert_exporter": "python",
   "pygments_lexer": "ipython3",
   "version": "3.9.16"
  },
  "orig_nbformat": 4
 },
 "nbformat": 4,
 "nbformat_minor": 2
}
