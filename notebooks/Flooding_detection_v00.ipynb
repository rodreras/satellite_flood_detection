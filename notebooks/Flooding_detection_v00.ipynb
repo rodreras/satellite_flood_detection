{
 "cells": [
  {
   "cell_type": "code",
   "execution_count": 1,
   "metadata": {},
   "outputs": [],
   "source": [
    "#Improt libraries\n",
    "import numpy as np\n",
    "import rasterio as rio"
   ]
  },
  {
   "cell_type": "code",
   "execution_count": 7,
   "metadata": {},
   "outputs": [
    {
     "name": "stderr",
     "output_type": "stream",
     "text": [
      "C:\\Users\\cande\\AppData\\Local\\Temp\\ipykernel_7176\\2106278468.py:10: RuntimeWarning: invalid value encountered in divide\n",
      "  ndwi = (green_band - nir_band) / (green_band + nir_band)\n"
     ]
    }
   ],
   "source": [
    "#PRE IMAGE\n",
    "\n",
    "# Open the Landsat image using rasterio\n",
    "with rio.open('../raw_data/stacked_clipped_20230601.tif') as src:\n",
    "    green_band = src.read(3)  # Green band\n",
    "    nir_band = src.read(5)  # Near-infrared band\n",
    "    profile = src.profile  # Get the profile for metadata\n",
    "\n",
    "# Calculate NDWI\n",
    "ndwi = (green_band - nir_band) / (green_band + nir_band)\n",
    "\n",
    "\n",
    "# Create a new raster with the filtered bands\n",
    "ndwi_PRE_path = '../raw_data/pre_ndwi.tif'\n",
    "with rio.open(ndwi_PRE_path, 'w', **profile) as dst:\n",
    "    dst.write(ndwi, 1)  # Write the NDWI array"
   ]
  },
  {
   "cell_type": "code",
   "execution_count": 8,
   "metadata": {},
   "outputs": [
    {
     "name": "stderr",
     "output_type": "stream",
     "text": [
      "C:\\Users\\cande\\AppData\\Local\\Temp\\ipykernel_7176\\157012058.py:8: RuntimeWarning: invalid value encountered in divide\n",
      "  ndwi = (green_band - nir_band) / (green_band + nir_band)\n"
     ]
    }
   ],
   "source": [
    "# Open the Landsat image using rasterio\n",
    "with rio.open('../raw_data/stacked_clipped_20230703.tif') as src:\n",
    "    green_band = src.read(3)  # Green band\n",
    "    nir_band = src.read(5)  # Near-infrared band\n",
    "    profile = src.profile  # Get the profile for metadata\n",
    "\n",
    "# Calculate NDWI\n",
    "ndwi = (green_band - nir_band) / (green_band + nir_band)\n",
    "\n",
    "\n",
    "# Create a new raster with the filtered bands\n",
    "ndwi_POST_path = '../raw_data/pre_ndwi.tif'\n",
    "with rio.open(ndwi_POST_path, 'w', **profile) as dst:\n",
    "    dst.write(ndwi, 1)  # Write the NDWI array"
   ]
  }
 ],
 "metadata": {
  "kernelspec": {
   "display_name": "flooding",
   "language": "python",
   "name": "python3"
  },
  "language_info": {
   "codemirror_mode": {
    "name": "ipython",
    "version": 3
   },
   "file_extension": ".py",
   "mimetype": "text/x-python",
   "name": "python",
   "nbconvert_exporter": "python",
   "pygments_lexer": "ipython3",
   "version": "3.9.16"
  },
  "orig_nbformat": 4
 },
 "nbformat": 4,
 "nbformat_minor": 2
}
