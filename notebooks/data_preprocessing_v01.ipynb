{
 "cells": [
  {
   "cell_type": "code",
   "execution_count": 1,
   "metadata": {},
   "outputs": [
    {
     "name": "stderr",
     "output_type": "stream",
     "text": [
      "c:\\Users\\cande\\anaconda3\\envs\\flooding\\lib\\site-packages\\tqdm\\auto.py:21: TqdmWarning: IProgress not found. Please update jupyter and ipywidgets. See https://ipywidgets.readthedocs.io/en/stable/user_install.html\n",
      "  from .autonotebook import tqdm as notebook_tqdm\n"
     ]
    }
   ],
   "source": [
    "import folium                                 # visualization\n",
    "import geopandas as gpd                        # data analysis and manipulation\n",
    "import glob                                   # data access\n",
    "import json                                   # JSON encoder and decoder\n",
    "import matplotlib.pyplot as plt               # create visualizations\n",
    "import numpy as np                            # scientific computing\n",
    "import os                                     # data access\n",
    "from datetime import date                     # dates, times and intervals\n",
    "from folium import plugins                    # visualization\n",
    "from scripts.credential import username_landsat, password_landsat, username_sentinel, password_sentinel\n",
    "from scripts.download_imagery import DownloadImagery\n",
    "from sentinelsat.sentinel import SentinelAPI, read_geojson, geojson_to_wkt  # interface to Open Access Hub\n",
    "from shapely.geometry import Polygon, Point\n",
    "from zipfile import ZipFile                   # file management\n",
    "import pandas as pd\n",
    "import time                                   # time assessment\n",
    "import rasterio as rio\n"
   ]
  },
  {
   "cell_type": "code",
   "execution_count": 27,
   "metadata": {},
   "outputs": [],
   "source": [
    "#PRE\n",
    "multibands_PRE = glob.glob('..\\output\\LC82000312018109LGN00\\LC08_L1TP_200031_20180419_20201015_02_T1_*B[2:3:4:5:6].TIF')\n",
    "\n",
    "multibands_PRE.sort()\n",
    "\n",
    "img_list_PRE= []\n",
    "\n",
    "for img in multibands_PRE:\n",
    "    with rio.open(img, 'r') as img_file:\n",
    "        img_list_PRE.append(img_file.read(1))\n",
    "        out_meta = img_file.profile\n",
    "        img_file.close()\n",
    "\n",
    "arr_st_PRE = np.stack(img_list_PRE)"
   ]
  },
  {
   "cell_type": "code",
   "execution_count": 28,
   "metadata": {},
   "outputs": [
    {
     "data": {
      "text/plain": [
       "{'driver': 'GTiff', 'dtype': 'uint16', 'nodata': 0.0, 'width': 7691, 'height': 7821, 'count': 5, 'crs': CRS.from_wkt('PROJCS[\"WGS 84 / UTM zone 30N\",GEOGCS[\"WGS 84\",DATUM[\"World Geodetic System 1984\",SPHEROID[\"WGS 84\",6378137,298.257223563]],PRIMEM[\"Greenwich\",0],UNIT[\"degree\",0.0174532925199433,AUTHORITY[\"EPSG\",\"9122\"]]],PROJECTION[\"Transverse_Mercator\"],PARAMETER[\"latitude_of_origin\",0],PARAMETER[\"central_meridian\",-3],PARAMETER[\"scale_factor\",0.9996],PARAMETER[\"false_easting\",500000],PARAMETER[\"false_northing\",0],UNIT[\"metre\",1,AUTHORITY[\"EPSG\",\"9001\"]],AXIS[\"Easting\",EAST],AXIS[\"Northing\",NORTH]]'), 'transform': Affine(30.0, 0.0, 483285.0,\n",
       "       0.0, -30.0, 4740615.0), 'blockxsize': 256, 'blockysize': 256, 'tiled': True, 'compress': 'deflate', 'interleave': 'band'}"
      ]
     },
     "execution_count": 28,
     "metadata": {},
     "output_type": "execute_result"
    }
   ],
   "source": [
    "#updating metadata\n",
    "out_meta.update({\"count\":5})\n",
    "out_meta"
   ]
  },
  {
   "cell_type": "code",
   "execution_count": 29,
   "metadata": {},
   "outputs": [],
   "source": [
    "#saving multistack to disk\n",
    "with rio.open(\"..\\output\\LC82000312018109LGN00\\stacked_PRE.TIF\", \"w\", **out_meta) as src:\n",
    "    src.write(arr_st_PRE)"
   ]
  },
  {
   "cell_type": "code",
   "execution_count": 30,
   "metadata": {},
   "outputs": [],
   "source": [
    "#POST\n",
    "multibands_POST = glob.glob('..\\output\\LC81990312018086LGN00\\LC08_L1TP_199031_20180327_20200901_02_T1_*B[2:3:4:5:6].TIF')\n",
    "multibands_POST.sort()\n",
    "\n",
    "img_list_POST= []\n",
    "\n",
    "for img in multibands_POST:\n",
    "    with rio.open(img, 'r') as img_file:\n",
    "        img_list_POST.append(img_file.read(1))\n",
    "        out_meta = img_file.profile\n",
    "        img_file.close()\n",
    "\n",
    "arr_st_POST = np.stack(img_list_POST)"
   ]
  },
  {
   "cell_type": "code",
   "execution_count": 31,
   "metadata": {},
   "outputs": [
    {
     "data": {
      "text/plain": [
       "{'driver': 'GTiff', 'dtype': 'uint16', 'nodata': 0.0, 'width': 7601, 'height': 7731, 'count': 5, 'crs': CRS.from_wkt('PROJCS[\"WGS 84 / UTM zone 30N\",GEOGCS[\"WGS 84\",DATUM[\"World Geodetic System 1984\",SPHEROID[\"WGS 84\",6378137,298.257223563]],PRIMEM[\"Greenwich\",0],UNIT[\"degree\",0.0174532925199433,AUTHORITY[\"EPSG\",\"9122\"]]],PROJECTION[\"Transverse_Mercator\"],PARAMETER[\"latitude_of_origin\",0],PARAMETER[\"central_meridian\",-3],PARAMETER[\"scale_factor\",0.9996],PARAMETER[\"false_easting\",500000],PARAMETER[\"false_northing\",0],UNIT[\"metre\",1,AUTHORITY[\"EPSG\",\"9001\"]],AXIS[\"Easting\",EAST],AXIS[\"Northing\",NORTH]]'), 'transform': Affine(30.0, 0.0, 614085.0,\n",
       "       0.0, -30.0, 4742115.0), 'blockxsize': 256, 'blockysize': 256, 'tiled': True, 'compress': 'deflate', 'interleave': 'band'}"
      ]
     },
     "execution_count": 31,
     "metadata": {},
     "output_type": "execute_result"
    }
   ],
   "source": [
    "#updating metadata\n",
    "out_meta.update({\"count\":5})\n",
    "out_meta"
   ]
  },
  {
   "cell_type": "code",
   "execution_count": 32,
   "metadata": {},
   "outputs": [],
   "source": [
    "#saving multistack to disk\n",
    "with rio.open(\"..\\output\\LC81990312018086LGN00\\stacked_POST.TIF\", \"w\", **out_meta) as src:\n",
    "    src.write(arr_st_POST)"
   ]
  }
 ],
 "metadata": {
  "kernelspec": {
   "display_name": "flooding",
   "language": "python",
   "name": "python3"
  },
  "language_info": {
   "codemirror_mode": {
    "name": "ipython",
    "version": 3
   },
   "file_extension": ".py",
   "mimetype": "text/x-python",
   "name": "python",
   "nbconvert_exporter": "python",
   "pygments_lexer": "ipython3",
   "version": "3.9.16"
  },
  "orig_nbformat": 4
 },
 "nbformat": 4,
 "nbformat_minor": 2
}
