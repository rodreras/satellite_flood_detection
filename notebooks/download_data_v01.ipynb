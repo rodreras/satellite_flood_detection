{
 "cells": [
  {
   "cell_type": "markdown",
   "metadata": {},
   "source": [
    "## Importing Libraries"
   ]
  },
  {
   "cell_type": "code",
   "execution_count": 2,
   "metadata": {},
   "outputs": [
    {
     "name": "stderr",
     "output_type": "stream",
     "text": [
      "c:\\Users\\cande\\anaconda3\\envs\\flooding\\lib\\site-packages\\tqdm\\auto.py:21: TqdmWarning: IProgress not found. Please update jupyter and ipywidgets. See https://ipywidgets.readthedocs.io/en/stable/user_install.html\n",
      "  from .autonotebook import tqdm as notebook_tqdm\n"
     ]
    }
   ],
   "source": [
    "#import folium                                 # visualization\n",
    "import geopandas as gpd                        # data analysis and manipulation\n",
    "import glob                                   # data access\n",
    "import json                                   # JSON encoder and decoder\n",
    "import matplotlib.pyplot as plt               # create visualizations\n",
    "import numpy as np                            # scientific computing\n",
    "import os                                     # data access\n",
    "from datetime import date                     # dates, times and intervals\n",
    "from folium import plugins                    # visualization\n",
    "from scripts.credential import username_landsat, password_landsat, username_sentinel, password_sentinel\n",
    "from scripts.download_imagery import DownloadImagery\n",
    "from sentinelsat.sentinel import SentinelAPI, read_geojson, geojson_to_wkt  # interface to Open Access Hub\n",
    "from shapely.geometry import Polygon, Point\n",
    "from zipfile import ZipFile                   # file management\n",
    "import pandas as pd\n",
    "import time                                   # time assessment\n",
    "from zipfile import ZipFile                   # file management\n"
   ]
  },
  {
   "cell_type": "markdown",
   "metadata": {},
   "source": [
    "## Reading Area of Interest"
   ]
  },
  {
   "cell_type": "code",
   "execution_count": 3,
   "metadata": {},
   "outputs": [
    {
     "data": {
      "text/html": [
       "<div>\n",
       "<style scoped>\n",
       "    .dataframe tbody tr th:only-of-type {\n",
       "        vertical-align: middle;\n",
       "    }\n",
       "\n",
       "    .dataframe tbody tr th {\n",
       "        vertical-align: top;\n",
       "    }\n",
       "\n",
       "    .dataframe thead th {\n",
       "        text-align: right;\n",
       "    }\n",
       "</style>\n",
       "<table border=\"1\" class=\"dataframe\">\n",
       "  <thead>\n",
       "    <tr style=\"text-align: right;\">\n",
       "      <th></th>\n",
       "      <th>id</th>\n",
       "      <th>geometry</th>\n",
       "    </tr>\n",
       "  </thead>\n",
       "  <tbody>\n",
       "    <tr>\n",
       "      <th>0</th>\n",
       "      <td>1</td>\n",
       "      <td>MULTIPOLYGON (((-1.24849 41.85188, -1.11129 41...</td>\n",
       "    </tr>\n",
       "  </tbody>\n",
       "</table>\n",
       "</div>"
      ],
      "text/plain": [
       "   id                                           geometry\n",
       "0   1  MULTIPOLYGON (((-1.24849 41.85188, -1.11129 41..."
      ]
     },
     "execution_count": 3,
     "metadata": {},
     "output_type": "execute_result"
    }
   ],
   "source": [
    "geom = gpd.read_file('../raw_data/ebro_area.gpkg')\n",
    "geom.head()"
   ]
  },
  {
   "cell_type": "markdown",
   "metadata": {},
   "source": [
    "## Downloading Sentinel Imagery"
   ]
  },
  {
   "cell_type": "code",
   "execution_count": 3,
   "metadata": {},
   "outputs": [],
   "source": [
    "sentinel_gdf = DownloadImagery.search_sentinel(username = username_sentinel,\n",
    "                                                password = password_sentinel,\n",
    "                                                boundary= geom,\n",
    "                                                start_date= '20180301',\n",
    "                                                end_date= '20180430',\n",
    "                                                max_cloud_cover= 20)"
   ]
  },
  {
   "cell_type": "code",
   "execution_count": 4,
   "metadata": {},
   "outputs": [
    {
     "data": {
      "text/html": [
       "<div>\n",
       "<style scoped>\n",
       "    .dataframe tbody tr th:only-of-type {\n",
       "        vertical-align: middle;\n",
       "    }\n",
       "\n",
       "    .dataframe tbody tr th {\n",
       "        vertical-align: top;\n",
       "    }\n",
       "\n",
       "    .dataframe thead th {\n",
       "        text-align: right;\n",
       "    }\n",
       "</style>\n",
       "<table border=\"1\" class=\"dataframe\">\n",
       "  <thead>\n",
       "    <tr style=\"text-align: right;\">\n",
       "      <th></th>\n",
       "      <th>title</th>\n",
       "      <th>link</th>\n",
       "      <th>link_alternative</th>\n",
       "      <th>link_icon</th>\n",
       "      <th>summary</th>\n",
       "      <th>ondemand</th>\n",
       "      <th>ingestiondate</th>\n",
       "      <th>beginposition</th>\n",
       "      <th>endposition</th>\n",
       "      <th>orbitnumber</th>\n",
       "      <th>...</th>\n",
       "      <th>orbitdirection</th>\n",
       "      <th>platformserialidentifier</th>\n",
       "      <th>processingbaseline</th>\n",
       "      <th>processinglevel</th>\n",
       "      <th>producttype</th>\n",
       "      <th>platformname</th>\n",
       "      <th>size</th>\n",
       "      <th>uuid</th>\n",
       "      <th>geometry</th>\n",
       "      <th>contains</th>\n",
       "    </tr>\n",
       "  </thead>\n",
       "  <tbody>\n",
       "    <tr>\n",
       "      <th>2208cb58-7405-4bdf-be2b-0287ea18894d</th>\n",
       "      <td>S2B_MSIL2A_20180330T105619_N0207_R094_T30TXM_2...</td>\n",
       "      <td>https://scihub.copernicus.eu/dhus/odata/v1/Pro...</td>\n",
       "      <td>https://scihub.copernicus.eu/dhus/odata/v1/Pro...</td>\n",
       "      <td>https://scihub.copernicus.eu/dhus/odata/v1/Pro...</td>\n",
       "      <td>Date: 2018-03-30T10:56:19.027Z, Instrument: MS...</td>\n",
       "      <td>false</td>\n",
       "      <td>2018-03-30 16:28:15.393</td>\n",
       "      <td>2018-03-30 10:56:19.027</td>\n",
       "      <td>2018-03-30 10:56:19.027</td>\n",
       "      <td>5554</td>\n",
       "      <td>...</td>\n",
       "      <td>DESCENDING</td>\n",
       "      <td>Sentinel-2B</td>\n",
       "      <td>02.07</td>\n",
       "      <td>Level-2A</td>\n",
       "      <td>S2MSI2A</td>\n",
       "      <td>Sentinel-2</td>\n",
       "      <td>1.24 GB</td>\n",
       "      <td>2208cb58-7405-4bdf-be2b-0287ea18894d</td>\n",
       "      <td>POLYGON ((-1.78400 42.44624, -0.44979 42.42431...</td>\n",
       "      <td>True</td>\n",
       "    </tr>\n",
       "    <tr>\n",
       "      <th>fc8cfbc4-a79d-4438-96e1-a5212d7a59d4</th>\n",
       "      <td>S2B_MSIL2A_20180419T105619_N0207_R094_T30TXM_2...</td>\n",
       "      <td>https://scihub.copernicus.eu/dhus/odata/v1/Pro...</td>\n",
       "      <td>https://scihub.copernicus.eu/dhus/odata/v1/Pro...</td>\n",
       "      <td>https://scihub.copernicus.eu/dhus/odata/v1/Pro...</td>\n",
       "      <td>Date: 2018-04-19T10:56:19.027Z, Instrument: MS...</td>\n",
       "      <td>false</td>\n",
       "      <td>2018-04-19 14:56:58.114</td>\n",
       "      <td>2018-04-19 10:56:19.027</td>\n",
       "      <td>2018-04-19 10:56:19.027</td>\n",
       "      <td>5840</td>\n",
       "      <td>...</td>\n",
       "      <td>DESCENDING</td>\n",
       "      <td>Sentinel-2B</td>\n",
       "      <td>02.07</td>\n",
       "      <td>Level-2A</td>\n",
       "      <td>S2MSI2A</td>\n",
       "      <td>Sentinel-2</td>\n",
       "      <td>1.26 GB</td>\n",
       "      <td>fc8cfbc4-a79d-4438-96e1-a5212d7a59d4</td>\n",
       "      <td>POLYGON ((-1.78400 42.44624, -0.44979 42.42431...</td>\n",
       "      <td>True</td>\n",
       "    </tr>\n",
       "    <tr>\n",
       "      <th>32d3b109-852c-4fe8-9c33-045de537aaba</th>\n",
       "      <td>S2A_MSIL2A_20180421T105031_N0207_R051_T30TXM_2...</td>\n",
       "      <td>https://scihub.copernicus.eu/dhus/odata/v1/Pro...</td>\n",
       "      <td>https://scihub.copernicus.eu/dhus/odata/v1/Pro...</td>\n",
       "      <td>https://scihub.copernicus.eu/dhus/odata/v1/Pro...</td>\n",
       "      <td>Date: 2018-04-21T10:50:31.026Z, Instrument: MS...</td>\n",
       "      <td>false</td>\n",
       "      <td>2018-04-21 17:28:14.799</td>\n",
       "      <td>2018-04-21 10:50:31.026</td>\n",
       "      <td>2018-04-21 10:50:31.026</td>\n",
       "      <td>14777</td>\n",
       "      <td>...</td>\n",
       "      <td>DESCENDING</td>\n",
       "      <td>Sentinel-2A</td>\n",
       "      <td>02.07</td>\n",
       "      <td>Level-2A</td>\n",
       "      <td>S2MSI2A</td>\n",
       "      <td>Sentinel-2</td>\n",
       "      <td>986.84 MB</td>\n",
       "      <td>32d3b109-852c-4fe8-9c33-045de537aaba</td>\n",
       "      <td>POLYGON ((-1.60160 41.45428, -1.58140 41.51887...</td>\n",
       "      <td>True</td>\n",
       "    </tr>\n",
       "    <tr>\n",
       "      <th>d1ff352f-f728-4dea-9076-cd9547e677e5</th>\n",
       "      <td>S2A_MSIL2A_20180424T105651_N0207_R094_T30TXM_2...</td>\n",
       "      <td>https://scihub.copernicus.eu/dhus/odata/v1/Pro...</td>\n",
       "      <td>https://scihub.copernicus.eu/dhus/odata/v1/Pro...</td>\n",
       "      <td>https://scihub.copernicus.eu/dhus/odata/v1/Pro...</td>\n",
       "      <td>Date: 2018-04-24T10:56:51.024Z, Instrument: MS...</td>\n",
       "      <td>false</td>\n",
       "      <td>2018-04-24 20:28:29.344</td>\n",
       "      <td>2018-04-24 10:56:51.024</td>\n",
       "      <td>2018-04-24 10:56:51.024</td>\n",
       "      <td>14820</td>\n",
       "      <td>...</td>\n",
       "      <td>DESCENDING</td>\n",
       "      <td>Sentinel-2A</td>\n",
       "      <td>02.07</td>\n",
       "      <td>Level-2A</td>\n",
       "      <td>S2MSI2A</td>\n",
       "      <td>Sentinel-2</td>\n",
       "      <td>1.28 GB</td>\n",
       "      <td>d1ff352f-f728-4dea-9076-cd9547e677e5</td>\n",
       "      <td>POLYGON ((-1.78400 42.44624, -0.44979 42.42431...</td>\n",
       "      <td>True</td>\n",
       "    </tr>\n",
       "    <tr>\n",
       "      <th>51941a00-aae1-4acc-9886-2a1b7f5379c2</th>\n",
       "      <td>S2B_MSIL2A_20180426T105029_N0207_R051_T30TXM_2...</td>\n",
       "      <td>https://scihub.copernicus.eu/dhus/odata/v1/Pro...</td>\n",
       "      <td>https://scihub.copernicus.eu/dhus/odata/v1/Pro...</td>\n",
       "      <td>https://scihub.copernicus.eu/dhus/odata/v1/Pro...</td>\n",
       "      <td>Date: 2018-04-26T10:50:29.027Z, Instrument: MS...</td>\n",
       "      <td>false</td>\n",
       "      <td>2018-04-26 21:40:38.097</td>\n",
       "      <td>2018-04-26 10:50:29.027</td>\n",
       "      <td>2018-04-26 10:50:29.027</td>\n",
       "      <td>5940</td>\n",
       "      <td>...</td>\n",
       "      <td>DESCENDING</td>\n",
       "      <td>Sentinel-2B</td>\n",
       "      <td>02.07</td>\n",
       "      <td>Level-2A</td>\n",
       "      <td>S2MSI2A</td>\n",
       "      <td>Sentinel-2</td>\n",
       "      <td>982.53 MB</td>\n",
       "      <td>51941a00-aae1-4acc-9886-2a1b7f5379c2</td>\n",
       "      <td>POLYGON ((-1.59654 41.45420, -1.56686 41.54860...</td>\n",
       "      <td>True</td>\n",
       "    </tr>\n",
       "  </tbody>\n",
       "</table>\n",
       "<p>5 rows × 36 columns</p>\n",
       "</div>"
      ],
      "text/plain": [
       "                                                                                  title  \\\n",
       "2208cb58-7405-4bdf-be2b-0287ea18894d  S2B_MSIL2A_20180330T105619_N0207_R094_T30TXM_2...   \n",
       "fc8cfbc4-a79d-4438-96e1-a5212d7a59d4  S2B_MSIL2A_20180419T105619_N0207_R094_T30TXM_2...   \n",
       "32d3b109-852c-4fe8-9c33-045de537aaba  S2A_MSIL2A_20180421T105031_N0207_R051_T30TXM_2...   \n",
       "d1ff352f-f728-4dea-9076-cd9547e677e5  S2A_MSIL2A_20180424T105651_N0207_R094_T30TXM_2...   \n",
       "51941a00-aae1-4acc-9886-2a1b7f5379c2  S2B_MSIL2A_20180426T105029_N0207_R051_T30TXM_2...   \n",
       "\n",
       "                                                                                   link  \\\n",
       "2208cb58-7405-4bdf-be2b-0287ea18894d  https://scihub.copernicus.eu/dhus/odata/v1/Pro...   \n",
       "fc8cfbc4-a79d-4438-96e1-a5212d7a59d4  https://scihub.copernicus.eu/dhus/odata/v1/Pro...   \n",
       "32d3b109-852c-4fe8-9c33-045de537aaba  https://scihub.copernicus.eu/dhus/odata/v1/Pro...   \n",
       "d1ff352f-f728-4dea-9076-cd9547e677e5  https://scihub.copernicus.eu/dhus/odata/v1/Pro...   \n",
       "51941a00-aae1-4acc-9886-2a1b7f5379c2  https://scihub.copernicus.eu/dhus/odata/v1/Pro...   \n",
       "\n",
       "                                                                       link_alternative  \\\n",
       "2208cb58-7405-4bdf-be2b-0287ea18894d  https://scihub.copernicus.eu/dhus/odata/v1/Pro...   \n",
       "fc8cfbc4-a79d-4438-96e1-a5212d7a59d4  https://scihub.copernicus.eu/dhus/odata/v1/Pro...   \n",
       "32d3b109-852c-4fe8-9c33-045de537aaba  https://scihub.copernicus.eu/dhus/odata/v1/Pro...   \n",
       "d1ff352f-f728-4dea-9076-cd9547e677e5  https://scihub.copernicus.eu/dhus/odata/v1/Pro...   \n",
       "51941a00-aae1-4acc-9886-2a1b7f5379c2  https://scihub.copernicus.eu/dhus/odata/v1/Pro...   \n",
       "\n",
       "                                                                              link_icon  \\\n",
       "2208cb58-7405-4bdf-be2b-0287ea18894d  https://scihub.copernicus.eu/dhus/odata/v1/Pro...   \n",
       "fc8cfbc4-a79d-4438-96e1-a5212d7a59d4  https://scihub.copernicus.eu/dhus/odata/v1/Pro...   \n",
       "32d3b109-852c-4fe8-9c33-045de537aaba  https://scihub.copernicus.eu/dhus/odata/v1/Pro...   \n",
       "d1ff352f-f728-4dea-9076-cd9547e677e5  https://scihub.copernicus.eu/dhus/odata/v1/Pro...   \n",
       "51941a00-aae1-4acc-9886-2a1b7f5379c2  https://scihub.copernicus.eu/dhus/odata/v1/Pro...   \n",
       "\n",
       "                                                                                summary  \\\n",
       "2208cb58-7405-4bdf-be2b-0287ea18894d  Date: 2018-03-30T10:56:19.027Z, Instrument: MS...   \n",
       "fc8cfbc4-a79d-4438-96e1-a5212d7a59d4  Date: 2018-04-19T10:56:19.027Z, Instrument: MS...   \n",
       "32d3b109-852c-4fe8-9c33-045de537aaba  Date: 2018-04-21T10:50:31.026Z, Instrument: MS...   \n",
       "d1ff352f-f728-4dea-9076-cd9547e677e5  Date: 2018-04-24T10:56:51.024Z, Instrument: MS...   \n",
       "51941a00-aae1-4acc-9886-2a1b7f5379c2  Date: 2018-04-26T10:50:29.027Z, Instrument: MS...   \n",
       "\n",
       "                                     ondemand           ingestiondate  \\\n",
       "2208cb58-7405-4bdf-be2b-0287ea18894d    false 2018-03-30 16:28:15.393   \n",
       "fc8cfbc4-a79d-4438-96e1-a5212d7a59d4    false 2018-04-19 14:56:58.114   \n",
       "32d3b109-852c-4fe8-9c33-045de537aaba    false 2018-04-21 17:28:14.799   \n",
       "d1ff352f-f728-4dea-9076-cd9547e677e5    false 2018-04-24 20:28:29.344   \n",
       "51941a00-aae1-4acc-9886-2a1b7f5379c2    false 2018-04-26 21:40:38.097   \n",
       "\n",
       "                                               beginposition  \\\n",
       "2208cb58-7405-4bdf-be2b-0287ea18894d 2018-03-30 10:56:19.027   \n",
       "fc8cfbc4-a79d-4438-96e1-a5212d7a59d4 2018-04-19 10:56:19.027   \n",
       "32d3b109-852c-4fe8-9c33-045de537aaba 2018-04-21 10:50:31.026   \n",
       "d1ff352f-f728-4dea-9076-cd9547e677e5 2018-04-24 10:56:51.024   \n",
       "51941a00-aae1-4acc-9886-2a1b7f5379c2 2018-04-26 10:50:29.027   \n",
       "\n",
       "                                                 endposition  orbitnumber  \\\n",
       "2208cb58-7405-4bdf-be2b-0287ea18894d 2018-03-30 10:56:19.027         5554   \n",
       "fc8cfbc4-a79d-4438-96e1-a5212d7a59d4 2018-04-19 10:56:19.027         5840   \n",
       "32d3b109-852c-4fe8-9c33-045de537aaba 2018-04-21 10:50:31.026        14777   \n",
       "d1ff352f-f728-4dea-9076-cd9547e677e5 2018-04-24 10:56:51.024        14820   \n",
       "51941a00-aae1-4acc-9886-2a1b7f5379c2 2018-04-26 10:50:29.027         5940   \n",
       "\n",
       "                                      ...  orbitdirection  \\\n",
       "2208cb58-7405-4bdf-be2b-0287ea18894d  ...      DESCENDING   \n",
       "fc8cfbc4-a79d-4438-96e1-a5212d7a59d4  ...      DESCENDING   \n",
       "32d3b109-852c-4fe8-9c33-045de537aaba  ...      DESCENDING   \n",
       "d1ff352f-f728-4dea-9076-cd9547e677e5  ...      DESCENDING   \n",
       "51941a00-aae1-4acc-9886-2a1b7f5379c2  ...      DESCENDING   \n",
       "\n",
       "                                      platformserialidentifier  \\\n",
       "2208cb58-7405-4bdf-be2b-0287ea18894d               Sentinel-2B   \n",
       "fc8cfbc4-a79d-4438-96e1-a5212d7a59d4               Sentinel-2B   \n",
       "32d3b109-852c-4fe8-9c33-045de537aaba               Sentinel-2A   \n",
       "d1ff352f-f728-4dea-9076-cd9547e677e5               Sentinel-2A   \n",
       "51941a00-aae1-4acc-9886-2a1b7f5379c2               Sentinel-2B   \n",
       "\n",
       "                                      processingbaseline  processinglevel  \\\n",
       "2208cb58-7405-4bdf-be2b-0287ea18894d               02.07         Level-2A   \n",
       "fc8cfbc4-a79d-4438-96e1-a5212d7a59d4               02.07         Level-2A   \n",
       "32d3b109-852c-4fe8-9c33-045de537aaba               02.07         Level-2A   \n",
       "d1ff352f-f728-4dea-9076-cd9547e677e5               02.07         Level-2A   \n",
       "51941a00-aae1-4acc-9886-2a1b7f5379c2               02.07         Level-2A   \n",
       "\n",
       "                                      producttype  platformname       size  \\\n",
       "2208cb58-7405-4bdf-be2b-0287ea18894d      S2MSI2A    Sentinel-2    1.24 GB   \n",
       "fc8cfbc4-a79d-4438-96e1-a5212d7a59d4      S2MSI2A    Sentinel-2    1.26 GB   \n",
       "32d3b109-852c-4fe8-9c33-045de537aaba      S2MSI2A    Sentinel-2  986.84 MB   \n",
       "d1ff352f-f728-4dea-9076-cd9547e677e5      S2MSI2A    Sentinel-2    1.28 GB   \n",
       "51941a00-aae1-4acc-9886-2a1b7f5379c2      S2MSI2A    Sentinel-2  982.53 MB   \n",
       "\n",
       "                                                                      uuid  \\\n",
       "2208cb58-7405-4bdf-be2b-0287ea18894d  2208cb58-7405-4bdf-be2b-0287ea18894d   \n",
       "fc8cfbc4-a79d-4438-96e1-a5212d7a59d4  fc8cfbc4-a79d-4438-96e1-a5212d7a59d4   \n",
       "32d3b109-852c-4fe8-9c33-045de537aaba  32d3b109-852c-4fe8-9c33-045de537aaba   \n",
       "d1ff352f-f728-4dea-9076-cd9547e677e5  d1ff352f-f728-4dea-9076-cd9547e677e5   \n",
       "51941a00-aae1-4acc-9886-2a1b7f5379c2  51941a00-aae1-4acc-9886-2a1b7f5379c2   \n",
       "\n",
       "                                                                               geometry  \\\n",
       "2208cb58-7405-4bdf-be2b-0287ea18894d  POLYGON ((-1.78400 42.44624, -0.44979 42.42431...   \n",
       "fc8cfbc4-a79d-4438-96e1-a5212d7a59d4  POLYGON ((-1.78400 42.44624, -0.44979 42.42431...   \n",
       "32d3b109-852c-4fe8-9c33-045de537aaba  POLYGON ((-1.60160 41.45428, -1.58140 41.51887...   \n",
       "d1ff352f-f728-4dea-9076-cd9547e677e5  POLYGON ((-1.78400 42.44624, -0.44979 42.42431...   \n",
       "51941a00-aae1-4acc-9886-2a1b7f5379c2  POLYGON ((-1.59654 41.45420, -1.56686 41.54860...   \n",
       "\n",
       "                                     contains  \n",
       "2208cb58-7405-4bdf-be2b-0287ea18894d     True  \n",
       "fc8cfbc4-a79d-4438-96e1-a5212d7a59d4     True  \n",
       "32d3b109-852c-4fe8-9c33-045de537aaba     True  \n",
       "d1ff352f-f728-4dea-9076-cd9547e677e5     True  \n",
       "51941a00-aae1-4acc-9886-2a1b7f5379c2     True  \n",
       "\n",
       "[5 rows x 36 columns]"
      ]
     },
     "execution_count": 4,
     "metadata": {},
     "output_type": "execute_result"
    }
   ],
   "source": [
    "sentinel_gdf"
   ]
  },
  {
   "cell_type": "code",
   "execution_count": 7,
   "metadata": {},
   "outputs": [
    {
     "data": {
      "text/plain": [
       "<Axes: >"
      ]
     },
     "execution_count": 7,
     "metadata": {},
     "output_type": "execute_result"
    },
    {
     "data": {
      "image/png": "[encoded data removed]",
      "text/plain": [
       "<Figure size 640x480 with 1 Axes>"
      ]
     },
     "metadata": {},
     "output_type": "display_data"
    }
   ],
   "source": [
    "ax = sentinel_gdf.plot('platformidentifier',\n",
    "                    alpha = 0.5,\n",
    "                    cmap = 'Set1',\n",
    "                    #legend = True\n",
    "                     )\n",
    "geom.plot(ax=ax)\n",
    "\n",
    "square_geom = DownloadImagery.create_square_bbox(geom['geometry'])\n",
    "\n",
    "square_geom.plot(ax=ax, color = 'yellow')"
   ]
  },
  {
   "cell_type": "code",
   "execution_count": 9,
   "metadata": {},
   "outputs": [
    {
     "name": "stderr",
     "output_type": "stream",
     "text": [
      "Downloading S2B_MSIL2A_20180330T105619_N0207_R094_T30TXM_20180330T130438.zip:   4%|▍         | 50.3M/1.33G [00:01<25:13, 845kB/s] \n"
     ]
    },
    {
     "name": "stdout",
     "output_type": "stream",
     "text": [
      "Not possible to download S2B_MSIL2A_20180330T105619_N0207_R094_T30TXM_20180330T130438.\n"
     ]
    },
    {
     "name": "stderr",
     "output_type": "stream",
     "text": [
      "Downloading S2B_MSIL2A_20180330T105619_N0207_R094_T30TXM_20180330T130438.zip:   9%|▉         | 120M/1.33G [00:10<04:10, 4.84MB/s] "
     ]
    },
    {
     "name": "stderr",
     "output_type": "stream",
     "text": [
      "Downloading S2B_MSIL2A_20180330T105619_N0207_R094_T30TXM_20180330T130438.zip:  10%|▉         | 127M/1.33G [00:12<03:40, 5.45MB/s]"
     ]
    }
   ],
   "source": [
    "#FOR DOWNLOADING ALL THE FOUND IMAGES\n",
    "for i in sentinel_gdf['identifier']:\n",
    "    try:\n",
    "        DownloadImagery.download_sentinel(username = username_sentinel,\n",
    "                                password = password_sentinel,\n",
    "                                gdf = sentinel_gdf,\n",
    "                                idx = i,\n",
    "                                bound_crs= geom)\n",
    "    except:\n",
    "        print(f'Not possible to download {i}.')\n",
    "        pass"
   ]
  },
  {
   "cell_type": "code",
   "execution_count": 9,
   "metadata": {},
   "outputs": [
    {
     "name": "stdout",
     "output_type": "stream",
     "text": [
      "Unzipping images\n",
      "Not possible to download.\n"
     ]
    }
   ],
   "source": [
    "#FOR INDIVIDUAL DOWNLOADING\n",
    "try:\n",
    "    DownloadImagery.download_sentinel(username = username_sentinel,\n",
    "                                password = password_sentinel,\n",
    "                                gdf = sentinel_gdf,\n",
    "                                idx = 0,\n",
    "                                bound_crs= geom)\n",
    "except:\n",
    "    print(f'Not possible to download.')\n",
    "    pass"
   ]
  },
  {
   "cell_type": "markdown",
   "metadata": {},
   "source": [
    "## Downloading Landsat imagery"
   ]
  },
  {
   "cell_type": "code",
   "execution_count": 4,
   "metadata": {},
   "outputs": [
    {
     "name": "stderr",
     "output_type": "stream",
     "text": [
      "C:\\Users\\cande\\AppData\\Local\\Temp\\ipykernel_17204\\1844159588.py:1: UserWarning: Geometry is in a geographic CRS. Results from 'centroid' are likely incorrect. Use 'GeoSeries.to_crs()' to re-project geometries to a projected CRS before this operation.\n",
      "\n",
      "  centroidx, centroidy = geom.centroid.x, geom.centroid.y\n",
      "C:\\Users\\cande\\AppData\\Local\\Temp\\ipykernel_17204\\1844159588.py:1: UserWarning: Geometry is in a geographic CRS. Results from 'centroid' are likely incorrect. Use 'GeoSeries.to_crs()' to re-project geometries to a projected CRS before this operation.\n",
      "\n",
      "  centroidx, centroidy = geom.centroid.x, geom.centroid.y\n"
     ]
    }
   ],
   "source": [
    "centroidx, centroidy = geom.centroid.x, geom.centroid.y"
   ]
  },
  {
   "cell_type": "code",
   "execution_count": 5,
   "metadata": {},
   "outputs": [
    {
     "name": "stdout",
     "output_type": "stream",
     "text": [
      "3 scenes found.\n"
     ]
    }
   ],
   "source": [
    "landsat_search = DownloadImagery.search_landast(lat = centroidy[0],\n",
    "                               long = centroidx[0],\n",
    "                               start_date = '2018-03-01', \n",
    "                               end_date = '2018-05-15',\n",
    "                               dataset='landsat_ot_c2_l1', \n",
    "                               max_cloud_cover=30)"
   ]
  },
  {
   "cell_type": "code",
   "execution_count": 6,
   "metadata": {},
   "outputs": [
    {
     "data": {
      "text/html": [
       "<div>\n",
       "<style scoped>\n",
       "    .dataframe tbody tr th:only-of-type {\n",
       "        vertical-align: middle;\n",
       "    }\n",
       "\n",
       "    .dataframe tbody tr th {\n",
       "        vertical-align: top;\n",
       "    }\n",
       "\n",
       "    .dataframe thead th {\n",
       "        text-align: right;\n",
       "    }\n",
       "</style>\n",
       "<table border=\"1\" class=\"dataframe\">\n",
       "  <thead>\n",
       "    <tr style=\"text-align: right;\">\n",
       "      <th></th>\n",
       "      <th>cloud_cover</th>\n",
       "      <th>entity_id</th>\n",
       "      <th>display_id</th>\n",
       "      <th>ordering_id</th>\n",
       "      <th>landsat_product_id</th>\n",
       "      <th>landsat_scene_id</th>\n",
       "      <th>acquisition_date</th>\n",
       "      <th>collection_category</th>\n",
       "      <th>collection_number</th>\n",
       "      <th>wrs_path</th>\n",
       "      <th>...</th>\n",
       "      <th>corner_lower_right_latitude</th>\n",
       "      <th>corner_lower_right_longitude</th>\n",
       "      <th>has_customized_metadata</th>\n",
       "      <th>options</th>\n",
       "      <th>selected</th>\n",
       "      <th>spatial_bounds</th>\n",
       "      <th>spatial_coverage</th>\n",
       "      <th>temporal_coverage</th>\n",
       "      <th>publish_date</th>\n",
       "      <th>geometry</th>\n",
       "    </tr>\n",
       "  </thead>\n",
       "  <tbody>\n",
       "    <tr>\n",
       "      <th>0</th>\n",
       "      <td>19</td>\n",
       "      <td>LC82000312018125LGN00</td>\n",
       "      <td>LC08_L1TP_200031_20180505_20200901_02_T1</td>\n",
       "      <td>None</td>\n",
       "      <td>LC08_L1TP_200031_20180505_20200901_02_T1</td>\n",
       "      <td>LC82000312018125LGN00</td>\n",
       "      <td>2018-05-05</td>\n",
       "      <td>2023-08-01</td>\n",
       "      <td>2</td>\n",
       "      <td>200</td>\n",
       "      <td>...</td>\n",
       "      <td>40.67737</td>\n",
       "      <td>-0.47854</td>\n",
       "      <td>None</td>\n",
       "      <td>{'bulk': True, 'download': True, 'order': Fals...</td>\n",
       "      <td>{'bulk': False, 'compare': False, 'order': False}</td>\n",
       "      <td>(-3.20916, 40.68879, -0.41343, 42.81482)</td>\n",
       "      <td>POLYGON ((-3.20916 41.0996, -1.00671 40.68879,...</td>\n",
       "      <td>[2018-05-05 00:00:00, 2018-05-05 00:00:00]</td>\n",
       "      <td>2022-07-25 10:37:22-05:00</td>\n",
       "      <td>POLYGON ((-3.20916 41.09960, -1.00671 40.68879...</td>\n",
       "    </tr>\n",
       "    <tr>\n",
       "      <th>1</th>\n",
       "      <td>0</td>\n",
       "      <td>LC82000312018109LGN00</td>\n",
       "      <td>LC08_L1TP_200031_20180419_20201015_02_T1</td>\n",
       "      <td>None</td>\n",
       "      <td>LC08_L1TP_200031_20180419_20201015_02_T1</td>\n",
       "      <td>LC82000312018109LGN00</td>\n",
       "      <td>2018-04-19</td>\n",
       "      <td>2023-08-01</td>\n",
       "      <td>2</td>\n",
       "      <td>200</td>\n",
       "      <td>...</td>\n",
       "      <td>40.67713</td>\n",
       "      <td>-0.46790</td>\n",
       "      <td>None</td>\n",
       "      <td>{'bulk': True, 'download': True, 'order': Fals...</td>\n",
       "      <td>{'bulk': False, 'compare': False, 'order': False}</td>\n",
       "      <td>(-3.19677, 40.68907, -0.40082, 42.8152)</td>\n",
       "      <td>POLYGON ((-3.19677 41.09996, -0.99415 40.68907...</td>\n",
       "      <td>[2018-04-19 00:00:00, 2018-04-19 00:00:00]</td>\n",
       "      <td>2022-06-22 18:27:47-05:00</td>\n",
       "      <td>POLYGON ((-3.19677 41.09996, -0.99415 40.68907...</td>\n",
       "    </tr>\n",
       "    <tr>\n",
       "      <th>2</th>\n",
       "      <td>27</td>\n",
       "      <td>LC81990312018086LGN00</td>\n",
       "      <td>LC08_L1TP_199031_20180327_20200901_02_T1</td>\n",
       "      <td>None</td>\n",
       "      <td>LC08_L1TP_199031_20180327_20200901_02_T1</td>\n",
       "      <td>LC81990312018086LGN00</td>\n",
       "      <td>2018-03-27</td>\n",
       "      <td>2023-08-01</td>\n",
       "      <td>2</td>\n",
       "      <td>199</td>\n",
       "      <td>...</td>\n",
       "      <td>40.67174</td>\n",
       "      <td>1.04718</td>\n",
       "      <td>None</td>\n",
       "      <td>{'bulk': True, 'download': True, 'order': Fals...</td>\n",
       "      <td>{'bulk': False, 'compare': False, 'order': False}</td>\n",
       "      <td>(-1.64057, 40.68864, 1.1551, 42.81475)</td>\n",
       "      <td>POLYGON ((-1.64057 41.09962, 0.56152 40.68864,...</td>\n",
       "      <td>[2018-03-27 00:00:00, 2018-03-27 00:00:00]</td>\n",
       "      <td>2022-06-22 18:27:47-05:00</td>\n",
       "      <td>POLYGON ((-1.64057 41.09962, 0.56152 40.68864,...</td>\n",
       "    </tr>\n",
       "  </tbody>\n",
       "</table>\n",
       "<p>3 rows × 68 columns</p>\n",
       "</div>"
      ],
      "text/plain": [
       "   cloud_cover              entity_id  \\\n",
       "0           19  LC82000312018125LGN00   \n",
       "1            0  LC82000312018109LGN00   \n",
       "2           27  LC81990312018086LGN00   \n",
       "\n",
       "                                 display_id ordering_id  \\\n",
       "0  LC08_L1TP_200031_20180505_20200901_02_T1        None   \n",
       "1  LC08_L1TP_200031_20180419_20201015_02_T1        None   \n",
       "2  LC08_L1TP_199031_20180327_20200901_02_T1        None   \n",
       "\n",
       "                         landsat_product_id       landsat_scene_id  \\\n",
       "0  LC08_L1TP_200031_20180505_20200901_02_T1  LC82000312018125LGN00   \n",
       "1  LC08_L1TP_200031_20180419_20201015_02_T1  LC82000312018109LGN00   \n",
       "2  LC08_L1TP_199031_20180327_20200901_02_T1  LC81990312018086LGN00   \n",
       "\n",
       "  acquisition_date collection_category  collection_number  wrs_path  ...  \\\n",
       "0       2018-05-05          2023-08-01                  2       200  ...   \n",
       "1       2018-04-19          2023-08-01                  2       200  ...   \n",
       "2       2018-03-27          2023-08-01                  2       199  ...   \n",
       "\n",
       "   corner_lower_right_latitude corner_lower_right_longitude  \\\n",
       "0                     40.67737                     -0.47854   \n",
       "1                     40.67713                     -0.46790   \n",
       "2                     40.67174                      1.04718   \n",
       "\n",
       "   has_customized_metadata                                            options  \\\n",
       "0                     None  {'bulk': True, 'download': True, 'order': Fals...   \n",
       "1                     None  {'bulk': True, 'download': True, 'order': Fals...   \n",
       "2                     None  {'bulk': True, 'download': True, 'order': Fals...   \n",
       "\n",
       "                                            selected  \\\n",
       "0  {'bulk': False, 'compare': False, 'order': False}   \n",
       "1  {'bulk': False, 'compare': False, 'order': False}   \n",
       "2  {'bulk': False, 'compare': False, 'order': False}   \n",
       "\n",
       "                             spatial_bounds  \\\n",
       "0  (-3.20916, 40.68879, -0.41343, 42.81482)   \n",
       "1   (-3.19677, 40.68907, -0.40082, 42.8152)   \n",
       "2    (-1.64057, 40.68864, 1.1551, 42.81475)   \n",
       "\n",
       "                                    spatial_coverage  \\\n",
       "0  POLYGON ((-3.20916 41.0996, -1.00671 40.68879,...   \n",
       "1  POLYGON ((-3.19677 41.09996, -0.99415 40.68907...   \n",
       "2  POLYGON ((-1.64057 41.09962, 0.56152 40.68864,...   \n",
       "\n",
       "                            temporal_coverage              publish_date  \\\n",
       "0  [2018-05-05 00:00:00, 2018-05-05 00:00:00] 2022-07-25 10:37:22-05:00   \n",
       "1  [2018-04-19 00:00:00, 2018-04-19 00:00:00] 2022-06-22 18:27:47-05:00   \n",
       "2  [2018-03-27 00:00:00, 2018-03-27 00:00:00] 2022-06-22 18:27:47-05:00   \n",
       "\n",
       "                                            geometry  \n",
       "0  POLYGON ((-3.20916 41.09960, -1.00671 40.68879...  \n",
       "1  POLYGON ((-3.19677 41.09996, -0.99415 40.68907...  \n",
       "2  POLYGON ((-1.64057 41.09962, 0.56152 40.68864,...  \n",
       "\n",
       "[3 rows x 68 columns]"
      ]
     },
     "execution_count": 6,
     "metadata": {},
     "output_type": "execute_result"
    }
   ],
   "source": [
    "landsat_search"
   ]
  },
  {
   "cell_type": "code",
   "execution_count": 17,
   "metadata": {},
   "outputs": [
    {
     "data": {
      "text/plain": [
       "<Axes: >"
      ]
     },
     "execution_count": 17,
     "metadata": {},
     "output_type": "execute_result"
    },
    {
     "data": {
      "image/png": "[encoded data removed]",
      "text/plain": [
       "<Figure size 640x480 with 1 Axes>"
      ]
     },
     "metadata": {},
     "output_type": "display_data"
    }
   ],
   "source": [
    "ax = landsat_search.plot('entity_id',\n",
    "                    alpha = 0.5,\n",
    "                    cmap = 'Set1',\n",
    "                    #legend = True\n",
    "                     )\n",
    "geom.plot(ax=ax)"
   ]
  },
  {
   "cell_type": "code",
   "execution_count": 19,
   "metadata": {},
   "outputs": [
    {
     "name": "stdout",
     "output_type": "stream",
     "text": [
      "Download failed with dataset id 1 of 2. Re-trying with the next one.\n"
     ]
    },
    {
     "name": "stderr",
     "output_type": "stream",
     "text": [
      "100%|██████████| 1.19G/1.19G [01:43<00:00, 11.1MB/s]  \n"
     ]
    },
    {
     "name": "stdout",
     "output_type": "stream",
     "text": [
      "Removing old satellite images...\n",
      "Unzipping images\n",
      "Download failed with dataset id 1 of 2. Re-trying with the next one.\n"
     ]
    },
    {
     "name": "stderr",
     "output_type": "stream",
     "text": [
      "1.25GB [02:16, 9.83MB/s]                            \n"
     ]
    },
    {
     "name": "stdout",
     "output_type": "stream",
     "text": [
      "Removing old satellite images...\n",
      "Unzipping images\n"
     ]
    }
   ],
   "source": [
    "#FOR DOWNLOADING ALL THE FOUND IMAGES\n",
    "for i in landsat_search['entity_id']:\n",
    "    try:\n",
    "        DownloadImagery.download_landsat(username = username_landsat,\n",
    "                                 password = password_landsat,\n",
    "                                 id = i,\n",
    "                                 output_dir = f'.././output/{i}')\n",
    "    except:\n",
    "        print(f'Not possible to download {i}.')\n",
    "        pass"
   ]
  },
  {
   "cell_type": "code",
   "execution_count": 36,
   "metadata": {},
   "outputs": [
    {
     "name": "stdout",
     "output_type": "stream",
     "text": [
      "Not possible to download LC81790282023152LGN00.\n"
     ]
    }
   ],
   "source": [
    "#FOR INDIVIDUAL DOWNLOADING\n",
    "try:\n",
    "    DownloadImagery.download_landsat(username = username_landsat,\n",
    "                                 password = password_landsat,\n",
    "                                 id = 'LC91790272023160LGN00',\n",
    "                                 output_dir = f'.././output/{i}')\n",
    "except:\n",
    "    print(f'Not possible to download {i}.')\n",
    "    pass"
   ]
  }
 ],
 "metadata": {
  "kernelspec": {
   "display_name": "flooding",
   "language": "python",
   "name": "python3"
  },
  "language_info": {
   "codemirror_mode": {
    "name": "ipython",
    "version": 3
   },
   "file_extension": ".py",
   "mimetype": "text/x-python",
   "name": "python",
   "nbconvert_exporter": "python",
   "pygments_lexer": "ipython3",
   "version": "3.9.16"
  },
  "orig_nbformat": 4
 },
 "nbformat": 4,
 "nbformat_minor": 2
}
