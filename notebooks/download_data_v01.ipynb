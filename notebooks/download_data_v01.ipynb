{
 "cells": [
  {
   "cell_type": "markdown",
   "metadata": {},
   "source": [
    "## Importing Libraries"
   ]
  },
  {
   "cell_type": "code",
   "execution_count": 2,
   "metadata": {},
   "outputs": [
    {
     "name": "stderr",
     "output_type": "stream",
     "text": [
      "c:\\Users\\cande\\anaconda3\\envs\\spatialenv\\lib\\site-packages\\tqdm\\auto.py:21: TqdmWarning: IProgress not found. Please update jupyter and ipywidgets. See https://ipywidgets.readthedocs.io/en/stable/user_install.html\n",
      "  from .autonotebook import tqdm as notebook_tqdm\n"
     ]
    }
   ],
   "source": [
    "import folium                                 # visualization\n",
    "import geopandas as gpd                        # data analysis and manipulation\n",
    "import glob                                   # data access\n",
    "import json                                   # JSON encoder and decoder\n",
    "import matplotlib.pyplot as plt               # create visualizations\n",
    "import numpy as np                            # scientific computing\n",
    "import os                                     # data access\n",
    "from datetime import date                     # dates, times and intervals\n",
    "from folium import plugins                    # visualization\n",
    "from scripts.credential import username_landsat, password_landsat, username_sentinel, password_sentinel\n",
    "from scripts.download_imagery import DownloadImagery\n",
    "from sentinelsat.sentinel import SentinelAPI, read_geojson, geojson_to_wkt  # interface to Open Access Hub\n",
    "from shapely.geometry import Polygon, Point\n",
    "from zipfile import ZipFile                   # file management\n",
    "import pandas as pd\n",
    "import time                                   # time assessment\n"
   ]
  },
  {
   "cell_type": "markdown",
   "metadata": {},
   "source": [
    "## Reading Area of Interest"
   ]
  },
  {
   "cell_type": "code",
   "execution_count": 3,
   "metadata": {},
   "outputs": [
    {
     "name": "stderr",
     "output_type": "stream",
     "text": [
      "Access violation - no RTTI data!\n"
     ]
    },
    {
     "ename": "OSError",
     "evalue": "exception: access violation reading 0x0000000000000000",
     "output_type": "error",
     "traceback": [
      "\u001b[1;31m---------------------------------------------------------------------------\u001b[0m",
      "\u001b[1;31mOSError\u001b[0m                                   Traceback (most recent call last)",
      "File \u001b[1;32mc:\\Users\\cande\\anaconda3\\envs\\spatialenv\\lib\\site-packages\\IPython\\core\\formatters.py:708\u001b[0m, in \u001b[0;36mPlainTextFormatter.__call__\u001b[1;34m(self, obj)\u001b[0m\n\u001b[0;32m    701\u001b[0m stream \u001b[39m=\u001b[39m StringIO()\n\u001b[0;32m    702\u001b[0m printer \u001b[39m=\u001b[39m pretty\u001b[39m.\u001b[39mRepresentationPrinter(stream, \u001b[39mself\u001b[39m\u001b[39m.\u001b[39mverbose,\n\u001b[0;32m    703\u001b[0m     \u001b[39mself\u001b[39m\u001b[39m.\u001b[39mmax_width, \u001b[39mself\u001b[39m\u001b[39m.\u001b[39mnewline,\n\u001b[0;32m    704\u001b[0m     max_seq_length\u001b[39m=\u001b[39m\u001b[39mself\u001b[39m\u001b[39m.\u001b[39mmax_seq_length,\n\u001b[0;32m    705\u001b[0m     singleton_pprinters\u001b[39m=\u001b[39m\u001b[39mself\u001b[39m\u001b[39m.\u001b[39msingleton_printers,\n\u001b[0;32m    706\u001b[0m     type_pprinters\u001b[39m=\u001b[39m\u001b[39mself\u001b[39m\u001b[39m.\u001b[39mtype_printers,\n\u001b[0;32m    707\u001b[0m     deferred_pprinters\u001b[39m=\u001b[39m\u001b[39mself\u001b[39m\u001b[39m.\u001b[39mdeferred_printers)\n\u001b[1;32m--> 708\u001b[0m printer\u001b[39m.\u001b[39;49mpretty(obj)\n\u001b[0;32m    709\u001b[0m printer\u001b[39m.\u001b[39mflush()\n\u001b[0;32m    710\u001b[0m \u001b[39mreturn\u001b[39;00m stream\u001b[39m.\u001b[39mgetvalue()\n",
      "File \u001b[1;32mc:\\Users\\cande\\anaconda3\\envs\\spatialenv\\lib\\site-packages\\IPython\\lib\\pretty.py:410\u001b[0m, in \u001b[0;36mRepresentationPrinter.pretty\u001b[1;34m(self, obj)\u001b[0m\n\u001b[0;32m    407\u001b[0m                         \u001b[39mreturn\u001b[39;00m meth(obj, \u001b[39mself\u001b[39m, cycle)\n\u001b[0;32m    408\u001b[0m                 \u001b[39mif\u001b[39;00m \u001b[39mcls\u001b[39m \u001b[39mis\u001b[39;00m \u001b[39mnot\u001b[39;00m \u001b[39mobject\u001b[39m \\\n\u001b[0;32m    409\u001b[0m                         \u001b[39mand\u001b[39;00m callable(\u001b[39mcls\u001b[39m\u001b[39m.\u001b[39m\u001b[39m__dict__\u001b[39m\u001b[39m.\u001b[39mget(\u001b[39m'\u001b[39m\u001b[39m__repr__\u001b[39m\u001b[39m'\u001b[39m)):\n\u001b[1;32m--> 410\u001b[0m                     \u001b[39mreturn\u001b[39;00m _repr_pprint(obj, \u001b[39mself\u001b[39;49m, cycle)\n\u001b[0;32m    412\u001b[0m     \u001b[39mreturn\u001b[39;00m _default_pprint(obj, \u001b[39mself\u001b[39m, cycle)\n\u001b[0;32m    413\u001b[0m \u001b[39mfinally\u001b[39;00m:\n",
      "File \u001b[1;32mc:\\Users\\cande\\anaconda3\\envs\\spatialenv\\lib\\site-packages\\IPython\\lib\\pretty.py:778\u001b[0m, in \u001b[0;36m_repr_pprint\u001b[1;34m(obj, p, cycle)\u001b[0m\n\u001b[0;32m    776\u001b[0m \u001b[39m\u001b[39m\u001b[39m\"\"\"A pprint that just redirects to the normal repr function.\"\"\"\u001b[39;00m\n\u001b[0;32m    777\u001b[0m \u001b[39m# Find newlines and replace them with p.break_()\u001b[39;00m\n\u001b[1;32m--> 778\u001b[0m output \u001b[39m=\u001b[39m \u001b[39mrepr\u001b[39;49m(obj)\n\u001b[0;32m    779\u001b[0m lines \u001b[39m=\u001b[39m output\u001b[39m.\u001b[39msplitlines()\n\u001b[0;32m    780\u001b[0m \u001b[39mwith\u001b[39;00m p\u001b[39m.\u001b[39mgroup():\n",
      "File \u001b[1;32mc:\\Users\\cande\\anaconda3\\envs\\spatialenv\\lib\\site-packages\\pandas\\core\\frame.py:1064\u001b[0m, in \u001b[0;36mDataFrame.__repr__\u001b[1;34m(self)\u001b[0m\n\u001b[0;32m   1061\u001b[0m     \u001b[39mreturn\u001b[39;00m buf\u001b[39m.\u001b[39mgetvalue()\n\u001b[0;32m   1063\u001b[0m repr_params \u001b[39m=\u001b[39m fmt\u001b[39m.\u001b[39mget_dataframe_repr_params()\n\u001b[1;32m-> 1064\u001b[0m \u001b[39mreturn\u001b[39;00m \u001b[39mself\u001b[39m\u001b[39m.\u001b[39mto_string(\u001b[39m*\u001b[39m\u001b[39m*\u001b[39mrepr_params)\n",
      "File \u001b[1;32mc:\\Users\\cande\\anaconda3\\envs\\spatialenv\\lib\\site-packages\\pandas\\core\\frame.py:1245\u001b[0m, in \u001b[0;36mDataFrame.to_string\u001b[1;34m(self, buf, columns, col_space, header, index, na_rep, formatters, float_format, sparsify, index_names, justify, max_rows, max_cols, show_dimensions, decimal, line_width, min_rows, max_colwidth, encoding)\u001b[0m\n\u001b[0;32m   1226\u001b[0m \u001b[39mwith\u001b[39;00m option_context(\u001b[39m\"\u001b[39m\u001b[39mdisplay.max_colwidth\u001b[39m\u001b[39m\"\u001b[39m, max_colwidth):\n\u001b[0;32m   1227\u001b[0m     formatter \u001b[39m=\u001b[39m fmt\u001b[39m.\u001b[39mDataFrameFormatter(\n\u001b[0;32m   1228\u001b[0m         \u001b[39mself\u001b[39m,\n\u001b[0;32m   1229\u001b[0m         columns\u001b[39m=\u001b[39mcolumns,\n\u001b[1;32m   (...)\u001b[0m\n\u001b[0;32m   1243\u001b[0m         decimal\u001b[39m=\u001b[39mdecimal,\n\u001b[0;32m   1244\u001b[0m     )\n\u001b[1;32m-> 1245\u001b[0m     \u001b[39mreturn\u001b[39;00m fmt\u001b[39m.\u001b[39;49mDataFrameRenderer(formatter)\u001b[39m.\u001b[39;49mto_string(\n\u001b[0;32m   1246\u001b[0m         buf\u001b[39m=\u001b[39;49mbuf,\n\u001b[0;32m   1247\u001b[0m         encoding\u001b[39m=\u001b[39;49mencoding,\n\u001b[0;32m   1248\u001b[0m         line_width\u001b[39m=\u001b[39;49mline_width,\n\u001b[0;32m   1249\u001b[0m     )\n",
      "File \u001b[1;32mc:\\Users\\cande\\anaconda3\\envs\\spatialenv\\lib\\site-packages\\pandas\\io\\formats\\format.py:1136\u001b[0m, in \u001b[0;36mDataFrameRenderer.to_string\u001b[1;34m(self, buf, encoding, line_width)\u001b[0m\n\u001b[0;32m   1133\u001b[0m \u001b[39mfrom\u001b[39;00m \u001b[39mpandas\u001b[39;00m\u001b[39m.\u001b[39;00m\u001b[39mio\u001b[39;00m\u001b[39m.\u001b[39;00m\u001b[39mformats\u001b[39;00m\u001b[39m.\u001b[39;00m\u001b[39mstring\u001b[39;00m \u001b[39mimport\u001b[39;00m StringFormatter\n\u001b[0;32m   1135\u001b[0m string_formatter \u001b[39m=\u001b[39m StringFormatter(\u001b[39mself\u001b[39m\u001b[39m.\u001b[39mfmt, line_width\u001b[39m=\u001b[39mline_width)\n\u001b[1;32m-> 1136\u001b[0m string \u001b[39m=\u001b[39m string_formatter\u001b[39m.\u001b[39;49mto_string()\n\u001b[0;32m   1137\u001b[0m \u001b[39mreturn\u001b[39;00m save_to_buffer(string, buf\u001b[39m=\u001b[39mbuf, encoding\u001b[39m=\u001b[39mencoding)\n",
      "File \u001b[1;32mc:\\Users\\cande\\anaconda3\\envs\\spatialenv\\lib\\site-packages\\pandas\\io\\formats\\string.py:30\u001b[0m, in \u001b[0;36mStringFormatter.to_string\u001b[1;34m(self)\u001b[0m\n\u001b[0;32m     29\u001b[0m \u001b[39mdef\u001b[39;00m \u001b[39mto_string\u001b[39m(\u001b[39mself\u001b[39m) \u001b[39m-\u001b[39m\u001b[39m>\u001b[39m \u001b[39mstr\u001b[39m:\n\u001b[1;32m---> 30\u001b[0m     text \u001b[39m=\u001b[39m \u001b[39mself\u001b[39;49m\u001b[39m.\u001b[39;49m_get_string_representation()\n\u001b[0;32m     31\u001b[0m     \u001b[39mif\u001b[39;00m \u001b[39mself\u001b[39m\u001b[39m.\u001b[39mfmt\u001b[39m.\u001b[39mshould_show_dimensions:\n\u001b[0;32m     32\u001b[0m         text \u001b[39m=\u001b[39m \u001b[39m\"\u001b[39m\u001b[39m\"\u001b[39m\u001b[39m.\u001b[39mjoin([text, \u001b[39mself\u001b[39m\u001b[39m.\u001b[39mfmt\u001b[39m.\u001b[39mdimensions_info])\n",
      "File \u001b[1;32mc:\\Users\\cande\\anaconda3\\envs\\spatialenv\\lib\\site-packages\\pandas\\io\\formats\\string.py:45\u001b[0m, in \u001b[0;36mStringFormatter._get_string_representation\u001b[1;34m(self)\u001b[0m\n\u001b[0;32m     42\u001b[0m \u001b[39mif\u001b[39;00m \u001b[39mself\u001b[39m\u001b[39m.\u001b[39mfmt\u001b[39m.\u001b[39mframe\u001b[39m.\u001b[39mempty:\n\u001b[0;32m     43\u001b[0m     \u001b[39mreturn\u001b[39;00m \u001b[39mself\u001b[39m\u001b[39m.\u001b[39m_empty_info_line\n\u001b[1;32m---> 45\u001b[0m strcols \u001b[39m=\u001b[39m \u001b[39mself\u001b[39;49m\u001b[39m.\u001b[39;49m_get_strcols()\n\u001b[0;32m     47\u001b[0m \u001b[39mif\u001b[39;00m \u001b[39mself\u001b[39m\u001b[39m.\u001b[39mline_width \u001b[39mis\u001b[39;00m \u001b[39mNone\u001b[39;00m:\n\u001b[0;32m     48\u001b[0m     \u001b[39m# no need to wrap around just print the whole frame\u001b[39;00m\n\u001b[0;32m     49\u001b[0m     \u001b[39mreturn\u001b[39;00m \u001b[39mself\u001b[39m\u001b[39m.\u001b[39madj\u001b[39m.\u001b[39madjoin(\u001b[39m1\u001b[39m, \u001b[39m*\u001b[39mstrcols)\n",
      "File \u001b[1;32mc:\\Users\\cande\\anaconda3\\envs\\spatialenv\\lib\\site-packages\\pandas\\io\\formats\\string.py:36\u001b[0m, in \u001b[0;36mStringFormatter._get_strcols\u001b[1;34m(self)\u001b[0m\n\u001b[0;32m     35\u001b[0m \u001b[39mdef\u001b[39;00m \u001b[39m_get_strcols\u001b[39m(\u001b[39mself\u001b[39m) \u001b[39m-\u001b[39m\u001b[39m>\u001b[39m \u001b[39mlist\u001b[39m[\u001b[39mlist\u001b[39m[\u001b[39mstr\u001b[39m]]:\n\u001b[1;32m---> 36\u001b[0m     strcols \u001b[39m=\u001b[39m \u001b[39mself\u001b[39;49m\u001b[39m.\u001b[39;49mfmt\u001b[39m.\u001b[39;49mget_strcols()\n\u001b[0;32m     37\u001b[0m     \u001b[39mif\u001b[39;00m \u001b[39mself\u001b[39m\u001b[39m.\u001b[39mfmt\u001b[39m.\u001b[39mis_truncated:\n\u001b[0;32m     38\u001b[0m         strcols \u001b[39m=\u001b[39m \u001b[39mself\u001b[39m\u001b[39m.\u001b[39m_insert_dot_separators(strcols)\n",
      "File \u001b[1;32mc:\\Users\\cande\\anaconda3\\envs\\spatialenv\\lib\\site-packages\\pandas\\io\\formats\\format.py:617\u001b[0m, in \u001b[0;36mDataFrameFormatter.get_strcols\u001b[1;34m(self)\u001b[0m\n\u001b[0;32m    613\u001b[0m \u001b[39mdef\u001b[39;00m \u001b[39mget_strcols\u001b[39m(\u001b[39mself\u001b[39m) \u001b[39m-\u001b[39m\u001b[39m>\u001b[39m \u001b[39mlist\u001b[39m[\u001b[39mlist\u001b[39m[\u001b[39mstr\u001b[39m]]:\n\u001b[0;32m    614\u001b[0m \u001b[39m    \u001b[39m\u001b[39m\"\"\"\u001b[39;00m\n\u001b[0;32m    615\u001b[0m \u001b[39m    Render a DataFrame to a list of columns (as lists of strings).\u001b[39;00m\n\u001b[0;32m    616\u001b[0m \u001b[39m    \"\"\"\u001b[39;00m\n\u001b[1;32m--> 617\u001b[0m     strcols \u001b[39m=\u001b[39m \u001b[39mself\u001b[39;49m\u001b[39m.\u001b[39;49m_get_strcols_without_index()\n\u001b[0;32m    619\u001b[0m     \u001b[39mif\u001b[39;00m \u001b[39mself\u001b[39m\u001b[39m.\u001b[39mindex:\n\u001b[0;32m    620\u001b[0m         str_index \u001b[39m=\u001b[39m \u001b[39mself\u001b[39m\u001b[39m.\u001b[39m_get_formatted_index(\u001b[39mself\u001b[39m\u001b[39m.\u001b[39mtr_frame)\n",
      "File \u001b[1;32mc:\\Users\\cande\\anaconda3\\envs\\spatialenv\\lib\\site-packages\\pandas\\io\\formats\\format.py:883\u001b[0m, in \u001b[0;36mDataFrameFormatter._get_strcols_without_index\u001b[1;34m(self)\u001b[0m\n\u001b[0;32m    879\u001b[0m cheader \u001b[39m=\u001b[39m str_columns[i]\n\u001b[0;32m    880\u001b[0m header_colwidth \u001b[39m=\u001b[39m \u001b[39mmax\u001b[39m(\n\u001b[0;32m    881\u001b[0m     \u001b[39mint\u001b[39m(\u001b[39mself\u001b[39m\u001b[39m.\u001b[39mcol_space\u001b[39m.\u001b[39mget(c, \u001b[39m0\u001b[39m)), \u001b[39m*\u001b[39m(\u001b[39mself\u001b[39m\u001b[39m.\u001b[39madj\u001b[39m.\u001b[39mlen(x) \u001b[39mfor\u001b[39;00m x \u001b[39min\u001b[39;00m cheader)\n\u001b[0;32m    882\u001b[0m )\n\u001b[1;32m--> 883\u001b[0m fmt_values \u001b[39m=\u001b[39m \u001b[39mself\u001b[39;49m\u001b[39m.\u001b[39;49mformat_col(i)\n\u001b[0;32m    884\u001b[0m fmt_values \u001b[39m=\u001b[39m _make_fixed_width(\n\u001b[0;32m    885\u001b[0m     fmt_values, \u001b[39mself\u001b[39m\u001b[39m.\u001b[39mjustify, minimum\u001b[39m=\u001b[39mheader_colwidth, adj\u001b[39m=\u001b[39m\u001b[39mself\u001b[39m\u001b[39m.\u001b[39madj\n\u001b[0;32m    886\u001b[0m )\n\u001b[0;32m    888\u001b[0m max_len \u001b[39m=\u001b[39m \u001b[39mmax\u001b[39m(\u001b[39mmax\u001b[39m(\u001b[39mself\u001b[39m\u001b[39m.\u001b[39madj\u001b[39m.\u001b[39mlen(x) \u001b[39mfor\u001b[39;00m x \u001b[39min\u001b[39;00m fmt_values), header_colwidth)\n",
      "File \u001b[1;32mc:\\Users\\cande\\anaconda3\\envs\\spatialenv\\lib\\site-packages\\pandas\\io\\formats\\format.py:897\u001b[0m, in \u001b[0;36mDataFrameFormatter.format_col\u001b[1;34m(self, i)\u001b[0m\n\u001b[0;32m    895\u001b[0m frame \u001b[39m=\u001b[39m \u001b[39mself\u001b[39m\u001b[39m.\u001b[39mtr_frame\n\u001b[0;32m    896\u001b[0m formatter \u001b[39m=\u001b[39m \u001b[39mself\u001b[39m\u001b[39m.\u001b[39m_get_formatter(i)\n\u001b[1;32m--> 897\u001b[0m \u001b[39mreturn\u001b[39;00m format_array(\n\u001b[0;32m    898\u001b[0m     frame\u001b[39m.\u001b[39;49miloc[:, i]\u001b[39m.\u001b[39;49m_values,\n\u001b[0;32m    899\u001b[0m     formatter,\n\u001b[0;32m    900\u001b[0m     float_format\u001b[39m=\u001b[39;49m\u001b[39mself\u001b[39;49m\u001b[39m.\u001b[39;49mfloat_format,\n\u001b[0;32m    901\u001b[0m     na_rep\u001b[39m=\u001b[39;49m\u001b[39mself\u001b[39;49m\u001b[39m.\u001b[39;49mna_rep,\n\u001b[0;32m    902\u001b[0m     space\u001b[39m=\u001b[39;49m\u001b[39mself\u001b[39;49m\u001b[39m.\u001b[39;49mcol_space\u001b[39m.\u001b[39;49mget(frame\u001b[39m.\u001b[39;49mcolumns[i]),\n\u001b[0;32m    903\u001b[0m     decimal\u001b[39m=\u001b[39;49m\u001b[39mself\u001b[39;49m\u001b[39m.\u001b[39;49mdecimal,\n\u001b[0;32m    904\u001b[0m     leading_space\u001b[39m=\u001b[39;49m\u001b[39mself\u001b[39;49m\u001b[39m.\u001b[39;49mindex,\n\u001b[0;32m    905\u001b[0m )\n",
      "File \u001b[1;32mc:\\Users\\cande\\anaconda3\\envs\\spatialenv\\lib\\site-packages\\pandas\\io\\formats\\format.py:1328\u001b[0m, in \u001b[0;36mformat_array\u001b[1;34m(values, formatter, float_format, na_rep, digits, space, justify, decimal, leading_space, quoting)\u001b[0m\n\u001b[0;32m   1313\u001b[0m     digits \u001b[39m=\u001b[39m get_option(\u001b[39m\"\u001b[39m\u001b[39mdisplay.precision\u001b[39m\u001b[39m\"\u001b[39m)\n\u001b[0;32m   1315\u001b[0m fmt_obj \u001b[39m=\u001b[39m fmt_klass(\n\u001b[0;32m   1316\u001b[0m     values,\n\u001b[0;32m   1317\u001b[0m     digits\u001b[39m=\u001b[39mdigits,\n\u001b[1;32m   (...)\u001b[0m\n\u001b[0;32m   1325\u001b[0m     quoting\u001b[39m=\u001b[39mquoting,\n\u001b[0;32m   1326\u001b[0m )\n\u001b[1;32m-> 1328\u001b[0m \u001b[39mreturn\u001b[39;00m fmt_obj\u001b[39m.\u001b[39;49mget_result()\n",
      "File \u001b[1;32mc:\\Users\\cande\\anaconda3\\envs\\spatialenv\\lib\\site-packages\\pandas\\io\\formats\\format.py:1359\u001b[0m, in \u001b[0;36mGenericArrayFormatter.get_result\u001b[1;34m(self)\u001b[0m\n\u001b[0;32m   1358\u001b[0m \u001b[39mdef\u001b[39;00m \u001b[39mget_result\u001b[39m(\u001b[39mself\u001b[39m) \u001b[39m-\u001b[39m\u001b[39m>\u001b[39m \u001b[39mlist\u001b[39m[\u001b[39mstr\u001b[39m]:\n\u001b[1;32m-> 1359\u001b[0m     fmt_values \u001b[39m=\u001b[39m \u001b[39mself\u001b[39;49m\u001b[39m.\u001b[39;49m_format_strings()\n\u001b[0;32m   1360\u001b[0m     \u001b[39mreturn\u001b[39;00m _make_fixed_width(fmt_values, \u001b[39mself\u001b[39m\u001b[39m.\u001b[39mjustify)\n",
      "File \u001b[1;32mc:\\Users\\cande\\anaconda3\\envs\\spatialenv\\lib\\site-packages\\pandas\\io\\formats\\format.py:1662\u001b[0m, in \u001b[0;36mExtensionArrayFormatter._format_strings\u001b[1;34m(self)\u001b[0m\n\u001b[0;32m   1659\u001b[0m \u001b[39melse\u001b[39;00m:\n\u001b[0;32m   1660\u001b[0m     array \u001b[39m=\u001b[39m np\u001b[39m.\u001b[39masarray(values)\n\u001b[1;32m-> 1662\u001b[0m fmt_values \u001b[39m=\u001b[39m format_array(\n\u001b[0;32m   1663\u001b[0m     array,\n\u001b[0;32m   1664\u001b[0m     formatter,\n\u001b[0;32m   1665\u001b[0m     float_format\u001b[39m=\u001b[39;49m\u001b[39mself\u001b[39;49m\u001b[39m.\u001b[39;49mfloat_format,\n\u001b[0;32m   1666\u001b[0m     na_rep\u001b[39m=\u001b[39;49m\u001b[39mself\u001b[39;49m\u001b[39m.\u001b[39;49mna_rep,\n\u001b[0;32m   1667\u001b[0m     digits\u001b[39m=\u001b[39;49m\u001b[39mself\u001b[39;49m\u001b[39m.\u001b[39;49mdigits,\n\u001b[0;32m   1668\u001b[0m     space\u001b[39m=\u001b[39;49m\u001b[39mself\u001b[39;49m\u001b[39m.\u001b[39;49mspace,\n\u001b[0;32m   1669\u001b[0m     justify\u001b[39m=\u001b[39;49m\u001b[39mself\u001b[39;49m\u001b[39m.\u001b[39;49mjustify,\n\u001b[0;32m   1670\u001b[0m     decimal\u001b[39m=\u001b[39;49m\u001b[39mself\u001b[39;49m\u001b[39m.\u001b[39;49mdecimal,\n\u001b[0;32m   1671\u001b[0m     leading_space\u001b[39m=\u001b[39;49m\u001b[39mself\u001b[39;49m\u001b[39m.\u001b[39;49mleading_space,\n\u001b[0;32m   1672\u001b[0m     quoting\u001b[39m=\u001b[39;49m\u001b[39mself\u001b[39;49m\u001b[39m.\u001b[39;49mquoting,\n\u001b[0;32m   1673\u001b[0m )\n\u001b[0;32m   1674\u001b[0m \u001b[39mreturn\u001b[39;00m fmt_values\n",
      "File \u001b[1;32mc:\\Users\\cande\\anaconda3\\envs\\spatialenv\\lib\\site-packages\\pandas\\io\\formats\\format.py:1328\u001b[0m, in \u001b[0;36mformat_array\u001b[1;34m(values, formatter, float_format, na_rep, digits, space, justify, decimal, leading_space, quoting)\u001b[0m\n\u001b[0;32m   1313\u001b[0m     digits \u001b[39m=\u001b[39m get_option(\u001b[39m\"\u001b[39m\u001b[39mdisplay.precision\u001b[39m\u001b[39m\"\u001b[39m)\n\u001b[0;32m   1315\u001b[0m fmt_obj \u001b[39m=\u001b[39m fmt_klass(\n\u001b[0;32m   1316\u001b[0m     values,\n\u001b[0;32m   1317\u001b[0m     digits\u001b[39m=\u001b[39mdigits,\n\u001b[1;32m   (...)\u001b[0m\n\u001b[0;32m   1325\u001b[0m     quoting\u001b[39m=\u001b[39mquoting,\n\u001b[0;32m   1326\u001b[0m )\n\u001b[1;32m-> 1328\u001b[0m \u001b[39mreturn\u001b[39;00m fmt_obj\u001b[39m.\u001b[39;49mget_result()\n",
      "File \u001b[1;32mc:\\Users\\cande\\anaconda3\\envs\\spatialenv\\lib\\site-packages\\pandas\\io\\formats\\format.py:1359\u001b[0m, in \u001b[0;36mGenericArrayFormatter.get_result\u001b[1;34m(self)\u001b[0m\n\u001b[0;32m   1358\u001b[0m \u001b[39mdef\u001b[39;00m \u001b[39mget_result\u001b[39m(\u001b[39mself\u001b[39m) \u001b[39m-\u001b[39m\u001b[39m>\u001b[39m \u001b[39mlist\u001b[39m[\u001b[39mstr\u001b[39m]:\n\u001b[1;32m-> 1359\u001b[0m     fmt_values \u001b[39m=\u001b[39m \u001b[39mself\u001b[39;49m\u001b[39m.\u001b[39;49m_format_strings()\n\u001b[0;32m   1360\u001b[0m     \u001b[39mreturn\u001b[39;00m _make_fixed_width(fmt_values, \u001b[39mself\u001b[39m\u001b[39m.\u001b[39mjustify)\n",
      "File \u001b[1;32mc:\\Users\\cande\\anaconda3\\envs\\spatialenv\\lib\\site-packages\\pandas\\io\\formats\\format.py:1422\u001b[0m, in \u001b[0;36mGenericArrayFormatter._format_strings\u001b[1;34m(self)\u001b[0m\n\u001b[0;32m   1420\u001b[0m \u001b[39mfor\u001b[39;00m i, v \u001b[39min\u001b[39;00m \u001b[39menumerate\u001b[39m(vals):\n\u001b[0;32m   1421\u001b[0m     \u001b[39mif\u001b[39;00m \u001b[39mnot\u001b[39;00m is_float_type[i] \u001b[39mand\u001b[39;00m leading_space:\n\u001b[1;32m-> 1422\u001b[0m         fmt_values\u001b[39m.\u001b[39mappend(\u001b[39mf\u001b[39m\u001b[39m\"\u001b[39m\u001b[39m \u001b[39m\u001b[39m{\u001b[39;00m_format(v)\u001b[39m}\u001b[39;00m\u001b[39m\"\u001b[39m)\n\u001b[0;32m   1423\u001b[0m     \u001b[39melif\u001b[39;00m is_float_type[i]:\n\u001b[0;32m   1424\u001b[0m         fmt_values\u001b[39m.\u001b[39mappend(float_format(v))\n",
      "File \u001b[1;32mc:\\Users\\cande\\anaconda3\\envs\\spatialenv\\lib\\site-packages\\pandas\\io\\formats\\format.py:1402\u001b[0m, in \u001b[0;36mGenericArrayFormatter._format_strings.<locals>._format\u001b[1;34m(x)\u001b[0m\n\u001b[0;32m   1399\u001b[0m     \u001b[39mreturn\u001b[39;00m \u001b[39mstr\u001b[39m(x)\n\u001b[0;32m   1400\u001b[0m \u001b[39melse\u001b[39;00m:\n\u001b[0;32m   1401\u001b[0m     \u001b[39m# object dtype\u001b[39;00m\n\u001b[1;32m-> 1402\u001b[0m     \u001b[39mreturn\u001b[39;00m \u001b[39mstr\u001b[39m(formatter(x))\n",
      "File \u001b[1;32mc:\\Users\\cande\\anaconda3\\envs\\spatialenv\\lib\\site-packages\\geopandas\\array.py:1306\u001b[0m, in \u001b[0;36mGeometryArray._formatter.<locals>.<lambda>\u001b[1;34m(geom)\u001b[0m\n\u001b[0;32m   1302\u001b[0m             \u001b[39melse\u001b[39;00m:\n\u001b[0;32m   1303\u001b[0m                 \u001b[39m# typically projected coordinates\u001b[39;00m\n\u001b[0;32m   1304\u001b[0m                 \u001b[39m# (in case of unit meter: mm precision)\u001b[39;00m\n\u001b[0;32m   1305\u001b[0m                 precision \u001b[39m=\u001b[39m \u001b[39m3\u001b[39m\n\u001b[1;32m-> 1306\u001b[0m     \u001b[39mreturn\u001b[39;00m \u001b[39mlambda\u001b[39;00m geom: shapely\u001b[39m.\u001b[39;49mwkt\u001b[39m.\u001b[39;49mdumps(geom, rounding_precision\u001b[39m=\u001b[39;49mprecision)\n\u001b[0;32m   1307\u001b[0m \u001b[39mreturn\u001b[39;00m \u001b[39mrepr\u001b[39m\n",
      "File \u001b[1;32mc:\\Users\\cande\\anaconda3\\envs\\spatialenv\\lib\\site-packages\\shapely\\wkt.py:62\u001b[0m, in \u001b[0;36mdumps\u001b[1;34m(ob, trim, **kw)\u001b[0m\n\u001b[0;32m     42\u001b[0m \u001b[39mdef\u001b[39;00m \u001b[39mdumps\u001b[39m(ob, trim\u001b[39m=\u001b[39m\u001b[39mFalse\u001b[39;00m, \u001b[39m*\u001b[39m\u001b[39m*\u001b[39mkw):\n\u001b[0;32m     43\u001b[0m \u001b[39m    \u001b[39m\u001b[39m\"\"\"\u001b[39;00m\n\u001b[0;32m     44\u001b[0m \u001b[39m    Dump a WKT representation of a geometry to a string.\u001b[39;00m\n\u001b[0;32m     45\u001b[0m \n\u001b[1;32m   (...)\u001b[0m\n\u001b[0;32m     60\u001b[0m \u001b[39m    input geometry as WKT string\u001b[39;00m\n\u001b[0;32m     61\u001b[0m \u001b[39m    \"\"\"\u001b[39;00m\n\u001b[1;32m---> 62\u001b[0m     \u001b[39mreturn\u001b[39;00m geos\u001b[39m.\u001b[39;49mWKTWriter(geos\u001b[39m.\u001b[39;49mlgeos, trim\u001b[39m=\u001b[39;49mtrim, \u001b[39m*\u001b[39;49m\u001b[39m*\u001b[39;49mkw)\u001b[39m.\u001b[39;49mwrite(ob)\n",
      "File \u001b[1;32mc:\\Users\\cande\\anaconda3\\envs\\spatialenv\\lib\\site-packages\\shapely\\geos.py:436\u001b[0m, in \u001b[0;36mWKTWriter.write\u001b[1;34m(self, geom)\u001b[0m\n\u001b[0;32m    434\u001b[0m     \u001b[39mraise\u001b[39;00m InvalidGeometryError(\u001b[39m\"\u001b[39m\u001b[39mNull geometry supports no operations\u001b[39m\u001b[39m\"\u001b[39m)\n\u001b[0;32m    435\u001b[0m result \u001b[39m=\u001b[39m \u001b[39mself\u001b[39m\u001b[39m.\u001b[39m_lgeos\u001b[39m.\u001b[39mGEOSWKTWriter_write(\u001b[39mself\u001b[39m\u001b[39m.\u001b[39m_writer, geom\u001b[39m.\u001b[39m_geom)\n\u001b[1;32m--> 436\u001b[0m text \u001b[39m=\u001b[39m string_at(result)\n\u001b[0;32m    437\u001b[0m lgeos\u001b[39m.\u001b[39mGEOSFree(result)\n\u001b[0;32m    438\u001b[0m \u001b[39mreturn\u001b[39;00m text\u001b[39m.\u001b[39mdecode(\u001b[39m'\u001b[39m\u001b[39mascii\u001b[39m\u001b[39m'\u001b[39m)\n",
      "File \u001b[1;32mc:\\Users\\cande\\anaconda3\\envs\\spatialenv\\lib\\ctypes\\__init__.py:517\u001b[0m, in \u001b[0;36mstring_at\u001b[1;34m(ptr, size)\u001b[0m\n\u001b[0;32m    513\u001b[0m \u001b[39mdef\u001b[39;00m \u001b[39mstring_at\u001b[39m(ptr, size\u001b[39m=\u001b[39m\u001b[39m-\u001b[39m\u001b[39m1\u001b[39m):\n\u001b[0;32m    514\u001b[0m \u001b[39m    \u001b[39m\u001b[39m\"\"\"string_at(addr[, size]) -> string\u001b[39;00m\n\u001b[0;32m    515\u001b[0m \n\u001b[0;32m    516\u001b[0m \u001b[39m    Return the string at addr.\"\"\"\u001b[39;00m\n\u001b[1;32m--> 517\u001b[0m     \u001b[39mreturn\u001b[39;00m _string_at(ptr, size)\n",
      "\u001b[1;31mOSError\u001b[0m: exception: access violation reading 0x0000000000000000"
     ]
    },
    {
     "ename": "OSError",
     "evalue": "exception: access violation reading 0xFFFFFFFFFFFFFFFF",
     "output_type": "error",
     "traceback": [
      "\u001b[1;31m---------------------------------------------------------------------------\u001b[0m",
      "\u001b[1;31mOSError\u001b[0m                                   Traceback (most recent call last)",
      "File \u001b[1;32mc:\\Users\\cande\\anaconda3\\envs\\spatialenv\\lib\\site-packages\\IPython\\core\\formatters.py:344\u001b[0m, in \u001b[0;36mBaseFormatter.__call__\u001b[1;34m(self, obj)\u001b[0m\n\u001b[0;32m    342\u001b[0m     method \u001b[39m=\u001b[39m get_real_method(obj, \u001b[39mself\u001b[39m\u001b[39m.\u001b[39mprint_method)\n\u001b[0;32m    343\u001b[0m     \u001b[39mif\u001b[39;00m method \u001b[39mis\u001b[39;00m \u001b[39mnot\u001b[39;00m \u001b[39mNone\u001b[39;00m:\n\u001b[1;32m--> 344\u001b[0m         \u001b[39mreturn\u001b[39;00m method()\n\u001b[0;32m    345\u001b[0m     \u001b[39mreturn\u001b[39;00m \u001b[39mNone\u001b[39;00m\n\u001b[0;32m    346\u001b[0m \u001b[39melse\u001b[39;00m:\n",
      "File \u001b[1;32mc:\\Users\\cande\\anaconda3\\envs\\spatialenv\\lib\\site-packages\\pandas\\core\\frame.py:1106\u001b[0m, in \u001b[0;36mDataFrame._repr_html_\u001b[1;34m(self)\u001b[0m\n\u001b[0;32m   1084\u001b[0m     show_dimensions \u001b[39m=\u001b[39m get_option(\u001b[39m\"\u001b[39m\u001b[39mdisplay.show_dimensions\u001b[39m\u001b[39m\"\u001b[39m)\n\u001b[0;32m   1086\u001b[0m     formatter \u001b[39m=\u001b[39m fmt\u001b[39m.\u001b[39mDataFrameFormatter(\n\u001b[0;32m   1087\u001b[0m         \u001b[39mself\u001b[39m,\n\u001b[0;32m   1088\u001b[0m         columns\u001b[39m=\u001b[39m\u001b[39mNone\u001b[39;00m,\n\u001b[1;32m   (...)\u001b[0m\n\u001b[0;32m   1104\u001b[0m         decimal\u001b[39m=\u001b[39m\u001b[39m\"\u001b[39m\u001b[39m.\u001b[39m\u001b[39m\"\u001b[39m,\n\u001b[0;32m   1105\u001b[0m     )\n\u001b[1;32m-> 1106\u001b[0m     \u001b[39mreturn\u001b[39;00m fmt\u001b[39m.\u001b[39;49mDataFrameRenderer(formatter)\u001b[39m.\u001b[39;49mto_html(notebook\u001b[39m=\u001b[39;49m\u001b[39mTrue\u001b[39;49;00m)\n\u001b[0;32m   1107\u001b[0m \u001b[39melse\u001b[39;00m:\n\u001b[0;32m   1108\u001b[0m     \u001b[39mreturn\u001b[39;00m \u001b[39mNone\u001b[39;00m\n",
      "File \u001b[1;32mc:\\Users\\cande\\anaconda3\\envs\\spatialenv\\lib\\site-packages\\pandas\\io\\formats\\format.py:1110\u001b[0m, in \u001b[0;36mDataFrameRenderer.to_html\u001b[1;34m(self, buf, encoding, classes, notebook, border, table_id, render_links)\u001b[0m\n\u001b[0;32m   1101\u001b[0m Klass \u001b[39m=\u001b[39m NotebookFormatter \u001b[39mif\u001b[39;00m notebook \u001b[39melse\u001b[39;00m HTMLFormatter\n\u001b[0;32m   1103\u001b[0m html_formatter \u001b[39m=\u001b[39m Klass(\n\u001b[0;32m   1104\u001b[0m     \u001b[39mself\u001b[39m\u001b[39m.\u001b[39mfmt,\n\u001b[0;32m   1105\u001b[0m     classes\u001b[39m=\u001b[39mclasses,\n\u001b[1;32m   (...)\u001b[0m\n\u001b[0;32m   1108\u001b[0m     render_links\u001b[39m=\u001b[39mrender_links,\n\u001b[0;32m   1109\u001b[0m )\n\u001b[1;32m-> 1110\u001b[0m string \u001b[39m=\u001b[39m html_formatter\u001b[39m.\u001b[39;49mto_string()\n\u001b[0;32m   1111\u001b[0m \u001b[39mreturn\u001b[39;00m save_to_buffer(string, buf\u001b[39m=\u001b[39mbuf, encoding\u001b[39m=\u001b[39mencoding)\n",
      "File \u001b[1;32mc:\\Users\\cande\\anaconda3\\envs\\spatialenv\\lib\\site-packages\\pandas\\io\\formats\\html.py:77\u001b[0m, in \u001b[0;36mHTMLFormatter.to_string\u001b[1;34m(self)\u001b[0m\n\u001b[0;32m     76\u001b[0m \u001b[39mdef\u001b[39;00m \u001b[39mto_string\u001b[39m(\u001b[39mself\u001b[39m) \u001b[39m-\u001b[39m\u001b[39m>\u001b[39m \u001b[39mstr\u001b[39m:\n\u001b[1;32m---> 77\u001b[0m     lines \u001b[39m=\u001b[39m \u001b[39mself\u001b[39;49m\u001b[39m.\u001b[39;49mrender()\n\u001b[0;32m     78\u001b[0m     \u001b[39mif\u001b[39;00m \u001b[39many\u001b[39m(\u001b[39misinstance\u001b[39m(x, \u001b[39mstr\u001b[39m) \u001b[39mfor\u001b[39;00m x \u001b[39min\u001b[39;00m lines):\n\u001b[0;32m     79\u001b[0m         lines \u001b[39m=\u001b[39m [\u001b[39mstr\u001b[39m(x) \u001b[39mfor\u001b[39;00m x \u001b[39min\u001b[39;00m lines]\n",
      "File \u001b[1;32mc:\\Users\\cande\\anaconda3\\envs\\spatialenv\\lib\\site-packages\\pandas\\io\\formats\\html.py:632\u001b[0m, in \u001b[0;36mNotebookFormatter.render\u001b[1;34m(self)\u001b[0m\n\u001b[0;32m    630\u001b[0m \u001b[39mself\u001b[39m\u001b[39m.\u001b[39mwrite(\u001b[39m\"\u001b[39m\u001b[39m<div>\u001b[39m\u001b[39m\"\u001b[39m)\n\u001b[0;32m    631\u001b[0m \u001b[39mself\u001b[39m\u001b[39m.\u001b[39mwrite_style()\n\u001b[1;32m--> 632\u001b[0m \u001b[39msuper\u001b[39;49m()\u001b[39m.\u001b[39;49mrender()\n\u001b[0;32m    633\u001b[0m \u001b[39mself\u001b[39m\u001b[39m.\u001b[39mwrite(\u001b[39m\"\u001b[39m\u001b[39m</div>\u001b[39m\u001b[39m\"\u001b[39m)\n\u001b[0;32m    634\u001b[0m \u001b[39mreturn\u001b[39;00m \u001b[39mself\u001b[39m\u001b[39m.\u001b[39melements\n",
      "File \u001b[1;32mc:\\Users\\cande\\anaconda3\\envs\\spatialenv\\lib\\site-packages\\pandas\\io\\formats\\html.py:83\u001b[0m, in \u001b[0;36mHTMLFormatter.render\u001b[1;34m(self)\u001b[0m\n\u001b[0;32m     82\u001b[0m \u001b[39mdef\u001b[39;00m \u001b[39mrender\u001b[39m(\u001b[39mself\u001b[39m) \u001b[39m-\u001b[39m\u001b[39m>\u001b[39m \u001b[39mlist\u001b[39m[\u001b[39mstr\u001b[39m]:\n\u001b[1;32m---> 83\u001b[0m     \u001b[39mself\u001b[39;49m\u001b[39m.\u001b[39;49m_write_table()\n\u001b[0;32m     85\u001b[0m     \u001b[39mif\u001b[39;00m \u001b[39mself\u001b[39m\u001b[39m.\u001b[39mshould_show_dimensions:\n\u001b[0;32m     86\u001b[0m         by \u001b[39m=\u001b[39m \u001b[39mchr\u001b[39m(\u001b[39m215\u001b[39m)  \u001b[39m# ×\u001b[39;00m\n",
      "File \u001b[1;32mc:\\Users\\cande\\anaconda3\\envs\\spatialenv\\lib\\site-packages\\pandas\\io\\formats\\html.py:258\u001b[0m, in \u001b[0;36mHTMLFormatter._write_table\u001b[1;34m(self, indent)\u001b[0m\n\u001b[0;32m    255\u001b[0m \u001b[39mif\u001b[39;00m \u001b[39mself\u001b[39m\u001b[39m.\u001b[39mfmt\u001b[39m.\u001b[39mheader \u001b[39mor\u001b[39;00m \u001b[39mself\u001b[39m\u001b[39m.\u001b[39mshow_row_idx_names:\n\u001b[0;32m    256\u001b[0m     \u001b[39mself\u001b[39m\u001b[39m.\u001b[39m_write_header(indent \u001b[39m+\u001b[39m \u001b[39mself\u001b[39m\u001b[39m.\u001b[39mindent_delta)\n\u001b[1;32m--> 258\u001b[0m \u001b[39mself\u001b[39;49m\u001b[39m.\u001b[39;49m_write_body(indent \u001b[39m+\u001b[39;49m \u001b[39mself\u001b[39;49m\u001b[39m.\u001b[39;49mindent_delta)\n\u001b[0;32m    260\u001b[0m \u001b[39mself\u001b[39m\u001b[39m.\u001b[39mwrite(\u001b[39m\"\u001b[39m\u001b[39m</table>\u001b[39m\u001b[39m\"\u001b[39m, indent)\n",
      "File \u001b[1;32mc:\\Users\\cande\\anaconda3\\envs\\spatialenv\\lib\\site-packages\\pandas\\io\\formats\\html.py:406\u001b[0m, in \u001b[0;36mHTMLFormatter._write_body\u001b[1;34m(self, indent)\u001b[0m\n\u001b[0;32m    404\u001b[0m \u001b[39mdef\u001b[39;00m \u001b[39m_write_body\u001b[39m(\u001b[39mself\u001b[39m, indent: \u001b[39mint\u001b[39m) \u001b[39m-\u001b[39m\u001b[39m>\u001b[39m \u001b[39mNone\u001b[39;00m:\n\u001b[0;32m    405\u001b[0m     \u001b[39mself\u001b[39m\u001b[39m.\u001b[39mwrite(\u001b[39m\"\u001b[39m\u001b[39m<tbody>\u001b[39m\u001b[39m\"\u001b[39m, indent)\n\u001b[1;32m--> 406\u001b[0m     fmt_values \u001b[39m=\u001b[39m \u001b[39mself\u001b[39;49m\u001b[39m.\u001b[39;49m_get_formatted_values()\n\u001b[0;32m    408\u001b[0m     \u001b[39m# write values\u001b[39;00m\n\u001b[0;32m    409\u001b[0m     \u001b[39mif\u001b[39;00m \u001b[39mself\u001b[39m\u001b[39m.\u001b[39mfmt\u001b[39m.\u001b[39mindex \u001b[39mand\u001b[39;00m \u001b[39misinstance\u001b[39m(\u001b[39mself\u001b[39m\u001b[39m.\u001b[39mframe\u001b[39m.\u001b[39mindex, MultiIndex):\n",
      "File \u001b[1;32mc:\\Users\\cande\\anaconda3\\envs\\spatialenv\\lib\\site-packages\\pandas\\io\\formats\\html.py:596\u001b[0m, in \u001b[0;36mNotebookFormatter._get_formatted_values\u001b[1;34m(self)\u001b[0m\n\u001b[0;32m    595\u001b[0m \u001b[39mdef\u001b[39;00m \u001b[39m_get_formatted_values\u001b[39m(\u001b[39mself\u001b[39m) \u001b[39m-\u001b[39m\u001b[39m>\u001b[39m \u001b[39mdict\u001b[39m[\u001b[39mint\u001b[39m, \u001b[39mlist\u001b[39m[\u001b[39mstr\u001b[39m]]:\n\u001b[1;32m--> 596\u001b[0m     \u001b[39mreturn\u001b[39;00m {i: \u001b[39mself\u001b[39m\u001b[39m.\u001b[39mfmt\u001b[39m.\u001b[39mformat_col(i) \u001b[39mfor\u001b[39;00m i \u001b[39min\u001b[39;00m \u001b[39mrange\u001b[39m(\u001b[39mself\u001b[39m\u001b[39m.\u001b[39mncols)}\n",
      "File \u001b[1;32mc:\\Users\\cande\\anaconda3\\envs\\spatialenv\\lib\\site-packages\\pandas\\io\\formats\\html.py:596\u001b[0m, in \u001b[0;36m<dictcomp>\u001b[1;34m(.0)\u001b[0m\n\u001b[0;32m    595\u001b[0m \u001b[39mdef\u001b[39;00m \u001b[39m_get_formatted_values\u001b[39m(\u001b[39mself\u001b[39m) \u001b[39m-\u001b[39m\u001b[39m>\u001b[39m \u001b[39mdict\u001b[39m[\u001b[39mint\u001b[39m, \u001b[39mlist\u001b[39m[\u001b[39mstr\u001b[39m]]:\n\u001b[1;32m--> 596\u001b[0m     \u001b[39mreturn\u001b[39;00m {i: \u001b[39mself\u001b[39;49m\u001b[39m.\u001b[39;49mfmt\u001b[39m.\u001b[39;49mformat_col(i) \u001b[39mfor\u001b[39;00m i \u001b[39min\u001b[39;00m \u001b[39mrange\u001b[39m(\u001b[39mself\u001b[39m\u001b[39m.\u001b[39mncols)}\n",
      "File \u001b[1;32mc:\\Users\\cande\\anaconda3\\envs\\spatialenv\\lib\\site-packages\\pandas\\io\\formats\\format.py:897\u001b[0m, in \u001b[0;36mDataFrameFormatter.format_col\u001b[1;34m(self, i)\u001b[0m\n\u001b[0;32m    895\u001b[0m frame \u001b[39m=\u001b[39m \u001b[39mself\u001b[39m\u001b[39m.\u001b[39mtr_frame\n\u001b[0;32m    896\u001b[0m formatter \u001b[39m=\u001b[39m \u001b[39mself\u001b[39m\u001b[39m.\u001b[39m_get_formatter(i)\n\u001b[1;32m--> 897\u001b[0m \u001b[39mreturn\u001b[39;00m format_array(\n\u001b[0;32m    898\u001b[0m     frame\u001b[39m.\u001b[39;49miloc[:, i]\u001b[39m.\u001b[39;49m_values,\n\u001b[0;32m    899\u001b[0m     formatter,\n\u001b[0;32m    900\u001b[0m     float_format\u001b[39m=\u001b[39;49m\u001b[39mself\u001b[39;49m\u001b[39m.\u001b[39;49mfloat_format,\n\u001b[0;32m    901\u001b[0m     na_rep\u001b[39m=\u001b[39;49m\u001b[39mself\u001b[39;49m\u001b[39m.\u001b[39;49mna_rep,\n\u001b[0;32m    902\u001b[0m     space\u001b[39m=\u001b[39;49m\u001b[39mself\u001b[39;49m\u001b[39m.\u001b[39;49mcol_space\u001b[39m.\u001b[39;49mget(frame\u001b[39m.\u001b[39;49mcolumns[i]),\n\u001b[0;32m    903\u001b[0m     decimal\u001b[39m=\u001b[39;49m\u001b[39mself\u001b[39;49m\u001b[39m.\u001b[39;49mdecimal,\n\u001b[0;32m    904\u001b[0m     leading_space\u001b[39m=\u001b[39;49m\u001b[39mself\u001b[39;49m\u001b[39m.\u001b[39;49mindex,\n\u001b[0;32m    905\u001b[0m )\n",
      "File \u001b[1;32mc:\\Users\\cande\\anaconda3\\envs\\spatialenv\\lib\\site-packages\\pandas\\io\\formats\\format.py:1328\u001b[0m, in \u001b[0;36mformat_array\u001b[1;34m(values, formatter, float_format, na_rep, digits, space, justify, decimal, leading_space, quoting)\u001b[0m\n\u001b[0;32m   1313\u001b[0m     digits \u001b[39m=\u001b[39m get_option(\u001b[39m\"\u001b[39m\u001b[39mdisplay.precision\u001b[39m\u001b[39m\"\u001b[39m)\n\u001b[0;32m   1315\u001b[0m fmt_obj \u001b[39m=\u001b[39m fmt_klass(\n\u001b[0;32m   1316\u001b[0m     values,\n\u001b[0;32m   1317\u001b[0m     digits\u001b[39m=\u001b[39mdigits,\n\u001b[1;32m   (...)\u001b[0m\n\u001b[0;32m   1325\u001b[0m     quoting\u001b[39m=\u001b[39mquoting,\n\u001b[0;32m   1326\u001b[0m )\n\u001b[1;32m-> 1328\u001b[0m \u001b[39mreturn\u001b[39;00m fmt_obj\u001b[39m.\u001b[39;49mget_result()\n",
      "File \u001b[1;32mc:\\Users\\cande\\anaconda3\\envs\\spatialenv\\lib\\site-packages\\pandas\\io\\formats\\format.py:1359\u001b[0m, in \u001b[0;36mGenericArrayFormatter.get_result\u001b[1;34m(self)\u001b[0m\n\u001b[0;32m   1358\u001b[0m \u001b[39mdef\u001b[39;00m \u001b[39mget_result\u001b[39m(\u001b[39mself\u001b[39m) \u001b[39m-\u001b[39m\u001b[39m>\u001b[39m \u001b[39mlist\u001b[39m[\u001b[39mstr\u001b[39m]:\n\u001b[1;32m-> 1359\u001b[0m     fmt_values \u001b[39m=\u001b[39m \u001b[39mself\u001b[39;49m\u001b[39m.\u001b[39;49m_format_strings()\n\u001b[0;32m   1360\u001b[0m     \u001b[39mreturn\u001b[39;00m _make_fixed_width(fmt_values, \u001b[39mself\u001b[39m\u001b[39m.\u001b[39mjustify)\n",
      "File \u001b[1;32mc:\\Users\\cande\\anaconda3\\envs\\spatialenv\\lib\\site-packages\\pandas\\io\\formats\\format.py:1662\u001b[0m, in \u001b[0;36mExtensionArrayFormatter._format_strings\u001b[1;34m(self)\u001b[0m\n\u001b[0;32m   1659\u001b[0m \u001b[39melse\u001b[39;00m:\n\u001b[0;32m   1660\u001b[0m     array \u001b[39m=\u001b[39m np\u001b[39m.\u001b[39masarray(values)\n\u001b[1;32m-> 1662\u001b[0m fmt_values \u001b[39m=\u001b[39m format_array(\n\u001b[0;32m   1663\u001b[0m     array,\n\u001b[0;32m   1664\u001b[0m     formatter,\n\u001b[0;32m   1665\u001b[0m     float_format\u001b[39m=\u001b[39;49m\u001b[39mself\u001b[39;49m\u001b[39m.\u001b[39;49mfloat_format,\n\u001b[0;32m   1666\u001b[0m     na_rep\u001b[39m=\u001b[39;49m\u001b[39mself\u001b[39;49m\u001b[39m.\u001b[39;49mna_rep,\n\u001b[0;32m   1667\u001b[0m     digits\u001b[39m=\u001b[39;49m\u001b[39mself\u001b[39;49m\u001b[39m.\u001b[39;49mdigits,\n\u001b[0;32m   1668\u001b[0m     space\u001b[39m=\u001b[39;49m\u001b[39mself\u001b[39;49m\u001b[39m.\u001b[39;49mspace,\n\u001b[0;32m   1669\u001b[0m     justify\u001b[39m=\u001b[39;49m\u001b[39mself\u001b[39;49m\u001b[39m.\u001b[39;49mjustify,\n\u001b[0;32m   1670\u001b[0m     decimal\u001b[39m=\u001b[39;49m\u001b[39mself\u001b[39;49m\u001b[39m.\u001b[39;49mdecimal,\n\u001b[0;32m   1671\u001b[0m     leading_space\u001b[39m=\u001b[39;49m\u001b[39mself\u001b[39;49m\u001b[39m.\u001b[39;49mleading_space,\n\u001b[0;32m   1672\u001b[0m     quoting\u001b[39m=\u001b[39;49m\u001b[39mself\u001b[39;49m\u001b[39m.\u001b[39;49mquoting,\n\u001b[0;32m   1673\u001b[0m )\n\u001b[0;32m   1674\u001b[0m \u001b[39mreturn\u001b[39;00m fmt_values\n",
      "File \u001b[1;32mc:\\Users\\cande\\anaconda3\\envs\\spatialenv\\lib\\site-packages\\pandas\\io\\formats\\format.py:1328\u001b[0m, in \u001b[0;36mformat_array\u001b[1;34m(values, formatter, float_format, na_rep, digits, space, justify, decimal, leading_space, quoting)\u001b[0m\n\u001b[0;32m   1313\u001b[0m     digits \u001b[39m=\u001b[39m get_option(\u001b[39m\"\u001b[39m\u001b[39mdisplay.precision\u001b[39m\u001b[39m\"\u001b[39m)\n\u001b[0;32m   1315\u001b[0m fmt_obj \u001b[39m=\u001b[39m fmt_klass(\n\u001b[0;32m   1316\u001b[0m     values,\n\u001b[0;32m   1317\u001b[0m     digits\u001b[39m=\u001b[39mdigits,\n\u001b[1;32m   (...)\u001b[0m\n\u001b[0;32m   1325\u001b[0m     quoting\u001b[39m=\u001b[39mquoting,\n\u001b[0;32m   1326\u001b[0m )\n\u001b[1;32m-> 1328\u001b[0m \u001b[39mreturn\u001b[39;00m fmt_obj\u001b[39m.\u001b[39;49mget_result()\n",
      "File \u001b[1;32mc:\\Users\\cande\\anaconda3\\envs\\spatialenv\\lib\\site-packages\\pandas\\io\\formats\\format.py:1359\u001b[0m, in \u001b[0;36mGenericArrayFormatter.get_result\u001b[1;34m(self)\u001b[0m\n\u001b[0;32m   1358\u001b[0m \u001b[39mdef\u001b[39;00m \u001b[39mget_result\u001b[39m(\u001b[39mself\u001b[39m) \u001b[39m-\u001b[39m\u001b[39m>\u001b[39m \u001b[39mlist\u001b[39m[\u001b[39mstr\u001b[39m]:\n\u001b[1;32m-> 1359\u001b[0m     fmt_values \u001b[39m=\u001b[39m \u001b[39mself\u001b[39;49m\u001b[39m.\u001b[39;49m_format_strings()\n\u001b[0;32m   1360\u001b[0m     \u001b[39mreturn\u001b[39;00m _make_fixed_width(fmt_values, \u001b[39mself\u001b[39m\u001b[39m.\u001b[39mjustify)\n",
      "File \u001b[1;32mc:\\Users\\cande\\anaconda3\\envs\\spatialenv\\lib\\site-packages\\pandas\\io\\formats\\format.py:1422\u001b[0m, in \u001b[0;36mGenericArrayFormatter._format_strings\u001b[1;34m(self)\u001b[0m\n\u001b[0;32m   1420\u001b[0m \u001b[39mfor\u001b[39;00m i, v \u001b[39min\u001b[39;00m \u001b[39menumerate\u001b[39m(vals):\n\u001b[0;32m   1421\u001b[0m     \u001b[39mif\u001b[39;00m \u001b[39mnot\u001b[39;00m is_float_type[i] \u001b[39mand\u001b[39;00m leading_space:\n\u001b[1;32m-> 1422\u001b[0m         fmt_values\u001b[39m.\u001b[39mappend(\u001b[39mf\u001b[39m\u001b[39m\"\u001b[39m\u001b[39m \u001b[39m\u001b[39m{\u001b[39;00m_format(v)\u001b[39m}\u001b[39;00m\u001b[39m\"\u001b[39m)\n\u001b[0;32m   1423\u001b[0m     \u001b[39melif\u001b[39;00m is_float_type[i]:\n\u001b[0;32m   1424\u001b[0m         fmt_values\u001b[39m.\u001b[39mappend(float_format(v))\n",
      "File \u001b[1;32mc:\\Users\\cande\\anaconda3\\envs\\spatialenv\\lib\\site-packages\\pandas\\io\\formats\\format.py:1402\u001b[0m, in \u001b[0;36mGenericArrayFormatter._format_strings.<locals>._format\u001b[1;34m(x)\u001b[0m\n\u001b[0;32m   1399\u001b[0m     \u001b[39mreturn\u001b[39;00m \u001b[39mstr\u001b[39m(x)\n\u001b[0;32m   1400\u001b[0m \u001b[39melse\u001b[39;00m:\n\u001b[0;32m   1401\u001b[0m     \u001b[39m# object dtype\u001b[39;00m\n\u001b[1;32m-> 1402\u001b[0m     \u001b[39mreturn\u001b[39;00m \u001b[39mstr\u001b[39m(formatter(x))\n",
      "File \u001b[1;32mc:\\Users\\cande\\anaconda3\\envs\\spatialenv\\lib\\site-packages\\geopandas\\array.py:1306\u001b[0m, in \u001b[0;36mGeometryArray._formatter.<locals>.<lambda>\u001b[1;34m(geom)\u001b[0m\n\u001b[0;32m   1302\u001b[0m             \u001b[39melse\u001b[39;00m:\n\u001b[0;32m   1303\u001b[0m                 \u001b[39m# typically projected coordinates\u001b[39;00m\n\u001b[0;32m   1304\u001b[0m                 \u001b[39m# (in case of unit meter: mm precision)\u001b[39;00m\n\u001b[0;32m   1305\u001b[0m                 precision \u001b[39m=\u001b[39m \u001b[39m3\u001b[39m\n\u001b[1;32m-> 1306\u001b[0m     \u001b[39mreturn\u001b[39;00m \u001b[39mlambda\u001b[39;00m geom: shapely\u001b[39m.\u001b[39;49mwkt\u001b[39m.\u001b[39;49mdumps(geom, rounding_precision\u001b[39m=\u001b[39;49mprecision)\n\u001b[0;32m   1307\u001b[0m \u001b[39mreturn\u001b[39;00m \u001b[39mrepr\u001b[39m\n",
      "File \u001b[1;32mc:\\Users\\cande\\anaconda3\\envs\\spatialenv\\lib\\site-packages\\shapely\\wkt.py:62\u001b[0m, in \u001b[0;36mdumps\u001b[1;34m(ob, trim, **kw)\u001b[0m\n\u001b[0;32m     42\u001b[0m \u001b[39mdef\u001b[39;00m \u001b[39mdumps\u001b[39m(ob, trim\u001b[39m=\u001b[39m\u001b[39mFalse\u001b[39;00m, \u001b[39m*\u001b[39m\u001b[39m*\u001b[39mkw):\n\u001b[0;32m     43\u001b[0m \u001b[39m    \u001b[39m\u001b[39m\"\"\"\u001b[39;00m\n\u001b[0;32m     44\u001b[0m \u001b[39m    Dump a WKT representation of a geometry to a string.\u001b[39;00m\n\u001b[0;32m     45\u001b[0m \n\u001b[1;32m   (...)\u001b[0m\n\u001b[0;32m     60\u001b[0m \u001b[39m    input geometry as WKT string\u001b[39;00m\n\u001b[0;32m     61\u001b[0m \u001b[39m    \"\"\"\u001b[39;00m\n\u001b[1;32m---> 62\u001b[0m     \u001b[39mreturn\u001b[39;00m geos\u001b[39m.\u001b[39;49mWKTWriter(geos\u001b[39m.\u001b[39;49mlgeos, trim\u001b[39m=\u001b[39;49mtrim, \u001b[39m*\u001b[39;49m\u001b[39m*\u001b[39;49mkw)\u001b[39m.\u001b[39;49mwrite(ob)\n",
      "File \u001b[1;32mc:\\Users\\cande\\anaconda3\\envs\\spatialenv\\lib\\site-packages\\shapely\\geos.py:435\u001b[0m, in \u001b[0;36mWKTWriter.write\u001b[1;34m(self, geom)\u001b[0m\n\u001b[0;32m    433\u001b[0m \u001b[39mif\u001b[39;00m geom \u001b[39mis\u001b[39;00m \u001b[39mNone\u001b[39;00m \u001b[39mor\u001b[39;00m geom\u001b[39m.\u001b[39m_geom \u001b[39mis\u001b[39;00m \u001b[39mNone\u001b[39;00m:\n\u001b[0;32m    434\u001b[0m     \u001b[39mraise\u001b[39;00m InvalidGeometryError(\u001b[39m\"\u001b[39m\u001b[39mNull geometry supports no operations\u001b[39m\u001b[39m\"\u001b[39m)\n\u001b[1;32m--> 435\u001b[0m result \u001b[39m=\u001b[39m \u001b[39mself\u001b[39;49m\u001b[39m.\u001b[39;49m_lgeos\u001b[39m.\u001b[39;49mGEOSWKTWriter_write(\u001b[39mself\u001b[39;49m\u001b[39m.\u001b[39;49m_writer, geom\u001b[39m.\u001b[39;49m_geom)\n\u001b[0;32m    436\u001b[0m text \u001b[39m=\u001b[39m string_at(result)\n\u001b[0;32m    437\u001b[0m lgeos\u001b[39m.\u001b[39mGEOSFree(result)\n",
      "\u001b[1;31mOSError\u001b[0m: exception: access violation reading 0xFFFFFFFFFFFFFFFF"
     ]
    }
   ],
   "source": [
    "geom = gpd.read_file('../raw_data/flooded_areas.geojson')\n",
    "geom.head()"
   ]
  },
  {
   "cell_type": "markdown",
   "metadata": {},
   "source": [
    "## Downloading Sentinel Imagery"
   ]
  },
  {
   "cell_type": "code",
   "execution_count": 4,
   "metadata": {},
   "outputs": [
    {
     "name": "stderr",
     "output_type": "stream",
     "text": [
      "Access violation - no RTTI data!\n"
     ]
    },
    {
     "ename": "OSError",
     "evalue": "exception: access violation reading 0x0000000000000000",
     "output_type": "error",
     "traceback": [
      "\u001b[1;31m---------------------------------------------------------------------------\u001b[0m",
      "\u001b[1;31mOSError\u001b[0m                                   Traceback (most recent call last)",
      "Cell \u001b[1;32mIn[4], line 1\u001b[0m\n\u001b[1;32m----> 1\u001b[0m sentinel_gdf \u001b[39m=\u001b[39m DownloadImagery\u001b[39m.\u001b[39;49msearch_sentinel(username \u001b[39m=\u001b[39;49m username_sentinel,\n\u001b[0;32m      2\u001b[0m                                                 password \u001b[39m=\u001b[39;49m password_sentinel,\n\u001b[0;32m      3\u001b[0m                                                 boundary\u001b[39m=\u001b[39;49m geom,\n\u001b[0;32m      4\u001b[0m                                                 start_date\u001b[39m=\u001b[39;49m \u001b[39m'\u001b[39;49m\u001b[39m20230520\u001b[39;49m\u001b[39m'\u001b[39;49m,\n\u001b[0;32m      5\u001b[0m                                                 end_date\u001b[39m=\u001b[39;49m \u001b[39m'\u001b[39;49m\u001b[39m20230620\u001b[39;49m\u001b[39m'\u001b[39;49m,\n\u001b[0;32m      6\u001b[0m                                                 max_cloud_cover\u001b[39m=\u001b[39;49m \u001b[39m10\u001b[39;49m)\n",
      "File \u001b[1;32md:\\Documentos\\ERASMUS CMDE\\PLUS\\SS 23\\Software Development\\Final Project\\satellite_flood_detection\\notebooks\\scripts\\download_imagery.py:132\u001b[0m, in \u001b[0;36mDownloadImagery.search_sentinel\u001b[1;34m(username, password, boundary, start_date, end_date, max_cloud_cover)\u001b[0m\n\u001b[0;32m    126\u001b[0m geom \u001b[39m=\u001b[39m boundary[\u001b[39m'\u001b[39m\u001b[39mgeometry\u001b[39m\u001b[39m'\u001b[39m]\u001b[39m.\u001b[39miloc[\u001b[39m0\u001b[39m]\n\u001b[0;32m    128\u001b[0m api \u001b[39m=\u001b[39m SentinelAPI(username,\n\u001b[0;32m    129\u001b[0m                 password,\n\u001b[0;32m    130\u001b[0m                 \u001b[39m'\u001b[39m\u001b[39mhttps://scihub.copernicus.eu/dhus\u001b[39m\u001b[39m'\u001b[39m)\n\u001b[1;32m--> 132\u001b[0m products \u001b[39m=\u001b[39m api\u001b[39m.\u001b[39;49mquery(geom,\n\u001b[0;32m    133\u001b[0m                     date \u001b[39m=\u001b[39;49m (start_date, end_date),\n\u001b[0;32m    134\u001b[0m                     platformname \u001b[39m=\u001b[39;49m \u001b[39m'\u001b[39;49m\u001b[39mSentinel-2\u001b[39;49m\u001b[39m'\u001b[39;49m,\n\u001b[0;32m    135\u001b[0m                     processinglevel \u001b[39m=\u001b[39;49m \u001b[39m'\u001b[39;49m\u001b[39mLevel-2A\u001b[39;49m\u001b[39m'\u001b[39;49m,\n\u001b[0;32m    136\u001b[0m                     cloudcoverpercentage \u001b[39m=\u001b[39;49m (\u001b[39m0\u001b[39;49m, max_cloud_cover)\n\u001b[0;32m    137\u001b[0m                     )\n\u001b[0;32m    139\u001b[0m gdf \u001b[39m=\u001b[39m api\u001b[39m.\u001b[39mto_geodataframe(products)\n\u001b[0;32m    140\u001b[0m gdf_sorted \u001b[39m=\u001b[39m gdf\u001b[39m.\u001b[39msort_values(by\u001b[39m=\u001b[39m\u001b[39m'\u001b[39m\u001b[39mingestiondate\u001b[39m\u001b[39m'\u001b[39m)\n",
      "File \u001b[1;32mc:\\Users\\cande\\anaconda3\\envs\\spatialenv\\lib\\site-packages\\sentinelsat\\sentinel.py:261\u001b[0m, in \u001b[0;36mSentinelAPI.query\u001b[1;34m(self, area, date, raw, area_relation, order_by, limit, offset, **keywords)\u001b[0m\n\u001b[0;32m    184\u001b[0m \u001b[39mdef\u001b[39;00m \u001b[39mquery\u001b[39m(\n\u001b[0;32m    185\u001b[0m     \u001b[39mself\u001b[39m,\n\u001b[0;32m    186\u001b[0m     area\u001b[39m=\u001b[39m\u001b[39mNone\u001b[39;00m,\n\u001b[1;32m   (...)\u001b[0m\n\u001b[0;32m    193\u001b[0m     \u001b[39m*\u001b[39m\u001b[39m*\u001b[39mkeywords\n\u001b[0;32m    194\u001b[0m ):\n\u001b[0;32m    195\u001b[0m \u001b[39m    \u001b[39m\u001b[39m\"\"\"Query the OpenSearch API with the coordinates of an area, a date interval\u001b[39;00m\n\u001b[0;32m    196\u001b[0m \u001b[39m    and any other search keywords accepted by the API.\u001b[39;00m\n\u001b[0;32m    197\u001b[0m \n\u001b[1;32m   (...)\u001b[0m\n\u001b[0;32m    259\u001b[0m \u001b[39m        the product's attributes (a dictionary) as the value.\u001b[39;00m\n\u001b[0;32m    260\u001b[0m \u001b[39m    \"\"\"\u001b[39;00m\n\u001b[1;32m--> 261\u001b[0m     query \u001b[39m=\u001b[39m \u001b[39mself\u001b[39m\u001b[39m.\u001b[39mformat_query(area, date, raw, area_relation, \u001b[39m*\u001b[39m\u001b[39m*\u001b[39mkeywords)\n\u001b[0;32m    263\u001b[0m     \u001b[39mif\u001b[39;00m query\u001b[39m.\u001b[39mstrip() \u001b[39m==\u001b[39m \u001b[39m\"\u001b[39m\u001b[39m\"\u001b[39m:\n\u001b[0;32m    264\u001b[0m         \u001b[39m# An empty query should return the full set of products on the server, which is a bit unreasonable.\u001b[39;00m\n\u001b[0;32m    265\u001b[0m         \u001b[39m# The server actually raises an error instead and it's better to fail early in the client.\u001b[39;00m\n\u001b[0;32m    266\u001b[0m         \u001b[39mraise\u001b[39;00m \u001b[39mValueError\u001b[39;00m(\u001b[39m\"\u001b[39m\u001b[39mEmpty query.\u001b[39m\u001b[39m\"\u001b[39m)\n",
      "File \u001b[1;32mc:\\Users\\cande\\anaconda3\\envs\\spatialenv\\lib\\site-packages\\sentinelsat\\sentinel.py:328\u001b[0m, in \u001b[0;36mSentinelAPI.format_query\u001b[1;34m(area, date, raw, area_relation, **keywords)\u001b[0m\n\u001b[0;32m    325\u001b[0m     query_parts\u001b[39m.\u001b[39mappend(raw)\n\u001b[0;32m    327\u001b[0m \u001b[39mif\u001b[39;00m area \u001b[39mis\u001b[39;00m \u001b[39mnot\u001b[39;00m \u001b[39mNone\u001b[39;00m:\n\u001b[1;32m--> 328\u001b[0m     query_parts\u001b[39m.\u001b[39mappend(\u001b[39m'\u001b[39;49m\u001b[39mfootprint:\u001b[39;49m\u001b[39m\"\u001b[39;49m\u001b[39m{}\u001b[39;49;00m\u001b[39m(\u001b[39;49m\u001b[39m{}\u001b[39;49;00m\u001b[39m)\u001b[39;49m\u001b[39m\"\u001b[39;49m\u001b[39m'\u001b[39;49m\u001b[39m.\u001b[39;49mformat(area_relation, area))\n\u001b[0;32m    330\u001b[0m \u001b[39mreturn\u001b[39;00m \u001b[39m\"\u001b[39m\u001b[39m \u001b[39m\u001b[39m\"\u001b[39m\u001b[39m.\u001b[39mjoin(query_parts)\n",
      "File \u001b[1;32mc:\\Users\\cande\\anaconda3\\envs\\spatialenv\\lib\\site-packages\\shapely\\geometry\\base.py:213\u001b[0m, in \u001b[0;36mBaseGeometry.__str__\u001b[1;34m(self)\u001b[0m\n\u001b[0;32m    212\u001b[0m \u001b[39mdef\u001b[39;00m \u001b[39m__str__\u001b[39m(\u001b[39mself\u001b[39m):\n\u001b[1;32m--> 213\u001b[0m     \u001b[39mreturn\u001b[39;00m \u001b[39mself\u001b[39;49m\u001b[39m.\u001b[39;49mwkt\n",
      "File \u001b[1;32mc:\\Users\\cande\\anaconda3\\envs\\spatialenv\\lib\\site-packages\\shapely\\geometry\\base.py:371\u001b[0m, in \u001b[0;36mBaseGeometry.wkt\u001b[1;34m(self)\u001b[0m\n\u001b[0;32m    368\u001b[0m \u001b[39m@property\u001b[39m\n\u001b[0;32m    369\u001b[0m \u001b[39mdef\u001b[39;00m \u001b[39mwkt\u001b[39m(\u001b[39mself\u001b[39m):\n\u001b[0;32m    370\u001b[0m \u001b[39m    \u001b[39m\u001b[39m\"\"\"WKT representation of the geometry\"\"\"\u001b[39;00m\n\u001b[1;32m--> 371\u001b[0m     \u001b[39mreturn\u001b[39;00m WKTWriter(lgeos)\u001b[39m.\u001b[39;49mwrite(\u001b[39mself\u001b[39;49m)\n",
      "File \u001b[1;32mc:\\Users\\cande\\anaconda3\\envs\\spatialenv\\lib\\site-packages\\shapely\\geos.py:436\u001b[0m, in \u001b[0;36mWKTWriter.write\u001b[1;34m(self, geom)\u001b[0m\n\u001b[0;32m    434\u001b[0m     \u001b[39mraise\u001b[39;00m InvalidGeometryError(\u001b[39m\"\u001b[39m\u001b[39mNull geometry supports no operations\u001b[39m\u001b[39m\"\u001b[39m)\n\u001b[0;32m    435\u001b[0m result \u001b[39m=\u001b[39m \u001b[39mself\u001b[39m\u001b[39m.\u001b[39m_lgeos\u001b[39m.\u001b[39mGEOSWKTWriter_write(\u001b[39mself\u001b[39m\u001b[39m.\u001b[39m_writer, geom\u001b[39m.\u001b[39m_geom)\n\u001b[1;32m--> 436\u001b[0m text \u001b[39m=\u001b[39m string_at(result)\n\u001b[0;32m    437\u001b[0m lgeos\u001b[39m.\u001b[39mGEOSFree(result)\n\u001b[0;32m    438\u001b[0m \u001b[39mreturn\u001b[39;00m text\u001b[39m.\u001b[39mdecode(\u001b[39m'\u001b[39m\u001b[39mascii\u001b[39m\u001b[39m'\u001b[39m)\n",
      "File \u001b[1;32mc:\\Users\\cande\\anaconda3\\envs\\spatialenv\\lib\\ctypes\\__init__.py:517\u001b[0m, in \u001b[0;36mstring_at\u001b[1;34m(ptr, size)\u001b[0m\n\u001b[0;32m    513\u001b[0m \u001b[39mdef\u001b[39;00m \u001b[39mstring_at\u001b[39m(ptr, size\u001b[39m=\u001b[39m\u001b[39m-\u001b[39m\u001b[39m1\u001b[39m):\n\u001b[0;32m    514\u001b[0m \u001b[39m    \u001b[39m\u001b[39m\"\"\"string_at(addr[, size]) -> string\u001b[39;00m\n\u001b[0;32m    515\u001b[0m \n\u001b[0;32m    516\u001b[0m \u001b[39m    Return the string at addr.\"\"\"\u001b[39;00m\n\u001b[1;32m--> 517\u001b[0m     \u001b[39mreturn\u001b[39;00m _string_at(ptr, size)\n",
      "\u001b[1;31mOSError\u001b[0m: exception: access violation reading 0x0000000000000000"
     ]
    }
   ],
   "source": [
    "sentinel_gdf = DownloadImagery.search_sentinel(username = username_sentinel,\n",
    "                                                password = password_sentinel,\n",
    "                                                boundary= geom,\n",
    "                                                start_date= '20230520',\n",
    "                                                end_date= '20230620',\n",
    "                                                max_cloud_cover= 10)"
   ]
  },
  {
   "cell_type": "code",
   "execution_count": 15,
   "metadata": {},
   "outputs": [
    {
     "ename": "NameError",
     "evalue": "name 'sentinel_gdf' is not defined",
     "output_type": "error",
     "traceback": [
      "\u001b[1;31m---------------------------------------------------------------------------\u001b[0m",
      "\u001b[1;31mNameError\u001b[0m                                 Traceback (most recent call last)",
      "Cell \u001b[1;32mIn[15], line 1\u001b[0m\n\u001b[1;32m----> 1\u001b[0m sentinel_gdf\n",
      "\u001b[1;31mNameError\u001b[0m: name 'sentinel_gdf' is not defined"
     ]
    }
   ],
   "source": [
    "sentinel_gdf"
   ]
  },
  {
   "cell_type": "code",
   "execution_count": 14,
   "metadata": {},
   "outputs": [
    {
     "ename": "NameError",
     "evalue": "name 'sentinel_gdf' is not defined",
     "output_type": "error",
     "traceback": [
      "\u001b[1;31m---------------------------------------------------------------------------\u001b[0m",
      "\u001b[1;31mNameError\u001b[0m                                 Traceback (most recent call last)",
      "Cell \u001b[1;32mIn[14], line 1\u001b[0m\n\u001b[1;32m----> 1\u001b[0m ax \u001b[39m=\u001b[39m sentinel_gdf\u001b[39m.\u001b[39mplot(\u001b[39m'\u001b[39m\u001b[39mplatformidentifier\u001b[39m\u001b[39m'\u001b[39m,\n\u001b[0;32m      2\u001b[0m                     alpha \u001b[39m=\u001b[39m \u001b[39m0.5\u001b[39m,\n\u001b[0;32m      3\u001b[0m                     cmap \u001b[39m=\u001b[39m \u001b[39m'\u001b[39m\u001b[39mSet1\u001b[39m\u001b[39m'\u001b[39m,\n\u001b[0;32m      4\u001b[0m                     \u001b[39m#legend = True\u001b[39;00m\n\u001b[0;32m      5\u001b[0m                      )\n\u001b[0;32m      6\u001b[0m geom\u001b[39m.\u001b[39mplot(ax\u001b[39m=\u001b[39max)\n\u001b[0;32m      8\u001b[0m square_geom \u001b[39m=\u001b[39m DownloadImagery\u001b[39m.\u001b[39mcreate_square_bbox(geom[\u001b[39m'\u001b[39m\u001b[39mgeometry\u001b[39m\u001b[39m'\u001b[39m])\n",
      "\u001b[1;31mNameError\u001b[0m: name 'sentinel_gdf' is not defined"
     ]
    }
   ],
   "source": [
    "ax = sentinel_gdf.plot('platformidentifier',\n",
    "                    alpha = 0.5,\n",
    "                    cmap = 'Set1',\n",
    "                    #legend = True\n",
    "                     )\n",
    "geom.plot(ax=ax)\n",
    "\n",
    "square_geom = DownloadImagery.create_square_bbox(geom['geometry'])\n",
    "\n",
    "square_geom.plot(ax=ax, color = 'yellow')"
   ]
  },
  {
   "cell_type": "code",
   "execution_count": 10,
   "metadata": {},
   "outputs": [
    {
     "name": "stdout",
     "output_type": "stream",
     "text": [
      "Unzipping images\n",
      "Unzipping completed.\n"
     ]
    },
    {
     "data": {
      "text/plain": [
       "{'id': '13c56caf-4d73-46cc-8260-2af61031dc09',\n",
       " 'title': 'S2A_MSIL2A_20200125T085241_N0213_R107_T36TVS_20200125T114313',\n",
       " 'size': 1080751401,\n",
       " 'md5': '9f8f2ffc4187ca359bc50261003849e9',\n",
       " 'date': datetime.datetime(2020, 1, 25, 8, 52, 41, 24000),\n",
       " 'footprint': 'POLYGON((31.68543924708906 46.946162221065514,33.12826694512443 46.95363733424615,33.12596726307574 45.96548172662488,31.70899987025029 45.958258688896564,31.68543924708906 46.946162221065514))',\n",
       " 'url': \"https://scihub.copernicus.eu/dhus/odata/v1/Products('13c56caf-4d73-46cc-8260-2af61031dc09')/$value\",\n",
       " 'Online': True,\n",
       " 'Creation Date': datetime.datetime(2020, 1, 25, 16, 17, 14, 773000),\n",
       " 'Ingestion Date': datetime.datetime(2020, 1, 25, 16, 16, 34, 670000),\n",
       " 'manifest_name': 'manifest.safe',\n",
       " 'product_root_dir': 'S2A_MSIL2A_20200125T085241_N0213_R107_T36TVS_20200125T114313.SAFE',\n",
       " 'quicklook_url': \"https://scihub.copernicus.eu/dhus/odata/v1/Products('13c56caf-4d73-46cc-8260-2af61031dc09')/Products('Quicklook')/$value\",\n",
       " 'path': 'S2A_MSIL2A_20200125T085241_N0213_R107_T36TVS_20200125T114313.zip',\n",
       " 'downloaded_bytes': 0}"
      ]
     },
     "execution_count": 10,
     "metadata": {},
     "output_type": "execute_result"
    }
   ],
   "source": [
    "for i in sentinel_gdf['identifier']:\n",
    "    try:\n",
    "        DownloadImagery.download_sentinel(username = username_sentinel,\n",
    "                                password = password_sentinel,\n",
    "                                gdf = sentinel_gdf,\n",
    "                                idx = 0,\n",
    "                                bound_crs= geom)\n",
    "    except:\n",
    "        print(f'Not possible to download {i}.')\n",
    "        pass"
   ]
  },
  {
   "cell_type": "markdown",
   "metadata": {},
   "source": [
    "## Downloading Landsat imagery"
   ]
  },
  {
   "cell_type": "code",
   "execution_count": 5,
   "metadata": {},
   "outputs": [
    {
     "name": "stderr",
     "output_type": "stream",
     "text": [
      "C:\\Users\\rodri\\AppData\\Local\\Temp\\ipykernel_21768\\1844159588.py:1: UserWarning: Geometry is in a geographic CRS. Results from 'centroid' are likely incorrect. Use 'GeoSeries.to_crs()' to re-project geometries to a projected CRS before this operation.\n",
      "\n",
      "  centroidx, centroidy = geom.centroid.x, geom.centroid.y\n",
      "C:\\Users\\rodri\\AppData\\Local\\Temp\\ipykernel_21768\\1844159588.py:1: UserWarning: Geometry is in a geographic CRS. Results from 'centroid' are likely incorrect. Use 'GeoSeries.to_crs()' to re-project geometries to a projected CRS before this operation.\n",
      "\n",
      "  centroidx, centroidy = geom.centroid.x, geom.centroid.y\n"
     ]
    }
   ],
   "source": [
    "centroidx, centroidy = geom.centroid.x, geom.centroid.y"
   ]
  },
  {
   "cell_type": "code",
   "execution_count": 6,
   "metadata": {},
   "outputs": [
    {
     "name": "stdout",
     "output_type": "stream",
     "text": [
      "8 scenes found.\n"
     ]
    }
   ],
   "source": [
    "landsat_search = DownloadImagery.search_landast(lat = centroidy[0],\n",
    "                               long = centroidx[0],\n",
    "                               start_date = '2023-05-20', \n",
    "                               end_date = '2023-06-20',\n",
    "                               dataset='landsat_ot_c2_l2', \n",
    "                               max_cloud_cover=30)"
   ]
  },
  {
   "cell_type": "code",
   "execution_count": 7,
   "metadata": {},
   "outputs": [
    {
     "data": {
      "text/html": [
       "<div>\n",
       "<style scoped>\n",
       "    .dataframe tbody tr th:only-of-type {\n",
       "        vertical-align: middle;\n",
       "    }\n",
       "\n",
       "    .dataframe tbody tr th {\n",
       "        vertical-align: top;\n",
       "    }\n",
       "\n",
       "    .dataframe thead th {\n",
       "        text-align: right;\n",
       "    }\n",
       "</style>\n",
       "<table border=\"1\" class=\"dataframe\">\n",
       "  <thead>\n",
       "    <tr style=\"text-align: right;\">\n",
       "      <th></th>\n",
       "      <th>cloud_cover</th>\n",
       "      <th>entity_id</th>\n",
       "      <th>display_id</th>\n",
       "      <th>ordering_id</th>\n",
       "      <th>landsat_product_id</th>\n",
       "      <th>landsat_scene_id</th>\n",
       "      <th>acquisition_date</th>\n",
       "      <th>collection_category</th>\n",
       "      <th>collection_number</th>\n",
       "      <th>wrs_path</th>\n",
       "      <th>...</th>\n",
       "      <th>corner_lower_right_latitude</th>\n",
       "      <th>corner_lower_right_longitude</th>\n",
       "      <th>has_customized_metadata</th>\n",
       "      <th>options</th>\n",
       "      <th>selected</th>\n",
       "      <th>spatial_bounds</th>\n",
       "      <th>spatial_coverage</th>\n",
       "      <th>temporal_coverage</th>\n",
       "      <th>publish_date</th>\n",
       "      <th>geometry</th>\n",
       "    </tr>\n",
       "  </thead>\n",
       "  <tbody>\n",
       "    <tr>\n",
       "      <th>0</th>\n",
       "      <td>27</td>\n",
       "      <td>LC91780282023169LGN00</td>\n",
       "      <td>LC09_L2SP_178028_20230618_20230620_02_T1</td>\n",
       "      <td>None</td>\n",
       "      <td>LC09_L1TP_178028_20230618_20230618_02_T1</td>\n",
       "      <td>LC91780282023169LGN00</td>\n",
       "      <td>2023-06-18</td>\n",
       "      <td>2023-07-01</td>\n",
       "      <td>2</td>\n",
       "      <td>178</td>\n",
       "      <td>...</td>\n",
       "      <td>44.94254</td>\n",
       "      <td>35.14211</td>\n",
       "      <td>None</td>\n",
       "      <td>{'bulk': True, 'download': True, 'order': Fals...</td>\n",
       "      <td>{'bulk': False, 'compare': False, 'order': False}</td>\n",
       "      <td>(32.17911, 44.95323, 35.20709, 47.08946)</td>\n",
       "      <td>POLYGON ((32.17911 45.38061, 34.53682 44.95323...</td>\n",
       "      <td>[2023-06-18 00:00:00, 2023-06-18 00:00:00]</td>\n",
       "      <td>2023-06-19 23:25:58-05:00</td>\n",
       "      <td>POLYGON ((32.17911 45.38061, 34.53682 44.95323...</td>\n",
       "    </tr>\n",
       "    <tr>\n",
       "      <th>1</th>\n",
       "      <td>6</td>\n",
       "      <td>LC81790272023168LGN00</td>\n",
       "      <td>LC08_L2SP_179027_20230617_20230623_02_T1</td>\n",
       "      <td>None</td>\n",
       "      <td>LC08_L1TP_179027_20230617_20230623_02_T1</td>\n",
       "      <td>LC81790272023168LGN00</td>\n",
       "      <td>2023-06-17</td>\n",
       "      <td>2023-07-01</td>\n",
       "      <td>2</td>\n",
       "      <td>179</td>\n",
       "      <td>...</td>\n",
       "      <td>46.36282</td>\n",
       "      <td>34.23368</td>\n",
       "      <td>None</td>\n",
       "      <td>{'bulk': True, 'download': True, 'order': Fals...</td>\n",
       "      <td>{'bulk': False, 'compare': False, 'order': False}</td>\n",
       "      <td>(31.15435, 46.36901, 34.27195, 48.51251)</td>\n",
       "      <td>POLYGON ((31.15435 46.80589, 33.57115 46.36901...</td>\n",
       "      <td>[2023-06-17 00:00:00, 2023-06-17 00:00:00]</td>\n",
       "      <td>2023-06-23 00:45:48-05:00</td>\n",
       "      <td>POLYGON ((31.15435 46.80589, 33.57115 46.36901...</td>\n",
       "    </tr>\n",
       "    <tr>\n",
       "      <th>2</th>\n",
       "      <td>4</td>\n",
       "      <td>LC81790282023168LGN00</td>\n",
       "      <td>LC08_L2SP_179028_20230617_20230623_02_T1</td>\n",
       "      <td>None</td>\n",
       "      <td>LC08_L1TP_179028_20230617_20230623_02_T1</td>\n",
       "      <td>LC81790282023168LGN00</td>\n",
       "      <td>2023-06-17</td>\n",
       "      <td>2023-07-01</td>\n",
       "      <td>2</td>\n",
       "      <td>179</td>\n",
       "      <td>...</td>\n",
       "      <td>44.94989</td>\n",
       "      <td>33.66680</td>\n",
       "      <td>None</td>\n",
       "      <td>{'bulk': True, 'download': True, 'order': Fals...</td>\n",
       "      <td>{'bulk': False, 'compare': False, 'order': False}</td>\n",
       "      <td>(30.6585, 44.95226, 33.68665, 47.09115)</td>\n",
       "      <td>POLYGON ((30.6585 45.38224, 33.01614 44.95226,...</td>\n",
       "      <td>[2023-06-17 00:00:00, 2023-06-17 00:00:00]</td>\n",
       "      <td>2023-06-23 00:44:36-05:00</td>\n",
       "      <td>POLYGON ((30.65850 45.38224, 33.01614 44.95226...</td>\n",
       "    </tr>\n",
       "    <tr>\n",
       "      <th>3</th>\n",
       "      <td>2</td>\n",
       "      <td>LC91790272023160LGN00</td>\n",
       "      <td>LC09_L2SP_179027_20230609_20230611_02_T1</td>\n",
       "      <td>None</td>\n",
       "      <td>LC09_L1TP_179027_20230609_20230610_02_T1</td>\n",
       "      <td>LC91790272023160LGN00</td>\n",
       "      <td>2023-06-09</td>\n",
       "      <td>2023-07-01</td>\n",
       "      <td>2</td>\n",
       "      <td>179</td>\n",
       "      <td>...</td>\n",
       "      <td>46.36641</td>\n",
       "      <td>34.14796</td>\n",
       "      <td>None</td>\n",
       "      <td>{'bulk': True, 'download': True, 'order': Fals...</td>\n",
       "      <td>{'bulk': False, 'compare': False, 'order': False}</td>\n",
       "      <td>(31.06915, 46.37124, 34.18426, 48.51054)</td>\n",
       "      <td>POLYGON ((31.06915 46.80355, 33.48655 46.37124...</td>\n",
       "      <td>[2023-06-09 00:00:00, 2023-06-09 00:00:00]</td>\n",
       "      <td>2023-06-10 23:50:20-05:00</td>\n",
       "      <td>POLYGON ((31.06915 46.80355, 33.48655 46.37124...</td>\n",
       "    </tr>\n",
       "    <tr>\n",
       "      <th>4</th>\n",
       "      <td>14</td>\n",
       "      <td>LC91790282023160LGN00</td>\n",
       "      <td>LC09_L2SP_179028_20230609_20230611_02_T1</td>\n",
       "      <td>None</td>\n",
       "      <td>LC09_L1TP_179028_20230609_20230610_02_T1</td>\n",
       "      <td>LC91790282023160LGN00</td>\n",
       "      <td>2023-06-09</td>\n",
       "      <td>2023-07-01</td>\n",
       "      <td>2</td>\n",
       "      <td>179</td>\n",
       "      <td>...</td>\n",
       "      <td>44.95033</td>\n",
       "      <td>33.58694</td>\n",
       "      <td>None</td>\n",
       "      <td>{'bulk': True, 'download': True, 'order': Fals...</td>\n",
       "      <td>{'bulk': False, 'compare': False, 'order': False}</td>\n",
       "      <td>(30.57594, 44.95405, 33.60158, 47.0888)</td>\n",
       "      <td>POLYGON ((30.57594 45.37953, 32.9341 44.95405,...</td>\n",
       "      <td>[2023-06-09 00:00:00, 2023-06-09 00:00:00]</td>\n",
       "      <td>2023-06-10 23:48:21-05:00</td>\n",
       "      <td>POLYGON ((30.57594 45.37953, 32.93410 44.95405...</td>\n",
       "    </tr>\n",
       "    <tr>\n",
       "      <th>5</th>\n",
       "      <td>16</td>\n",
       "      <td>LC91780282023153LGN00</td>\n",
       "      <td>LC09_L2SP_178028_20230602_20230604_02_T1</td>\n",
       "      <td>None</td>\n",
       "      <td>LC09_L1TP_178028_20230602_20230602_02_T1</td>\n",
       "      <td>LC91780282023153LGN00</td>\n",
       "      <td>2023-06-02</td>\n",
       "      <td>2023-07-01</td>\n",
       "      <td>2</td>\n",
       "      <td>178</td>\n",
       "      <td>...</td>\n",
       "      <td>44.94353</td>\n",
       "      <td>35.08891</td>\n",
       "      <td>None</td>\n",
       "      <td>{'bulk': True, 'download': True, 'order': Fals...</td>\n",
       "      <td>{'bulk': False, 'compare': False, 'order': False}</td>\n",
       "      <td>(32.12664, 44.9544, 35.1524, 47.08915)</td>\n",
       "      <td>POLYGON ((32.12664 45.37994, 34.48485 44.9544,...</td>\n",
       "      <td>[2023-06-02 00:00:00, 2023-06-02 00:00:00]</td>\n",
       "      <td>2023-06-04 00:19:17-05:00</td>\n",
       "      <td>POLYGON ((32.12664 45.37994, 34.48485 44.95440...</td>\n",
       "    </tr>\n",
       "    <tr>\n",
       "      <th>6</th>\n",
       "      <td>3</td>\n",
       "      <td>LC81790272023152LGN00</td>\n",
       "      <td>LC08_L2SP_179027_20230601_20230607_02_T1</td>\n",
       "      <td>None</td>\n",
       "      <td>LC08_L1TP_179027_20230601_20230607_02_T1</td>\n",
       "      <td>LC81790272023152LGN00</td>\n",
       "      <td>2023-06-01</td>\n",
       "      <td>2023-07-01</td>\n",
       "      <td>2</td>\n",
       "      <td>179</td>\n",
       "      <td>...</td>\n",
       "      <td>46.36274</td>\n",
       "      <td>34.24148</td>\n",
       "      <td>None</td>\n",
       "      <td>{'bulk': True, 'download': True, 'order': Fals...</td>\n",
       "      <td>{'bulk': False, 'compare': False, 'order': False}</td>\n",
       "      <td>(31.16167, 46.36892, 34.27944, 48.51241)</td>\n",
       "      <td>POLYGON ((31.16167 46.80583, 33.57862 46.36892...</td>\n",
       "      <td>[2023-06-01 00:00:00, 2023-06-01 00:00:00]</td>\n",
       "      <td>2023-06-07 05:43:19-05:00</td>\n",
       "      <td>POLYGON ((31.16167 46.80583, 33.57862 46.36892...</td>\n",
       "    </tr>\n",
       "    <tr>\n",
       "      <th>7</th>\n",
       "      <td>1</td>\n",
       "      <td>LC81790282023152LGN00</td>\n",
       "      <td>LC08_L2SP_179028_20230601_20230607_02_T1</td>\n",
       "      <td>None</td>\n",
       "      <td>LC08_L1TP_179028_20230601_20230607_02_T1</td>\n",
       "      <td>LC81790282023152LGN00</td>\n",
       "      <td>2023-06-01</td>\n",
       "      <td>2023-07-01</td>\n",
       "      <td>2</td>\n",
       "      <td>179</td>\n",
       "      <td>...</td>\n",
       "      <td>44.94984</td>\n",
       "      <td>33.67441</td>\n",
       "      <td>None</td>\n",
       "      <td>{'bulk': True, 'download': True, 'order': Fals...</td>\n",
       "      <td>{'bulk': False, 'compare': False, 'order': False}</td>\n",
       "      <td>(30.66583, 44.9522, 33.69417, 47.09108)</td>\n",
       "      <td>POLYGON ((30.66583 45.38222, 33.0236 44.9522, ...</td>\n",
       "      <td>[2023-06-01 00:00:00, 2023-06-01 00:00:00]</td>\n",
       "      <td>2023-06-07 05:44:13-05:00</td>\n",
       "      <td>POLYGON ((30.66583 45.38222, 33.02360 44.95220...</td>\n",
       "    </tr>\n",
       "  </tbody>\n",
       "</table>\n",
       "<p>8 rows × 56 columns</p>\n",
       "</div>"
      ],
      "text/plain": [
       "   cloud_cover              entity_id  \\\n",
       "0           27  LC91780282023169LGN00   \n",
       "1            6  LC81790272023168LGN00   \n",
       "2            4  LC81790282023168LGN00   \n",
       "3            2  LC91790272023160LGN00   \n",
       "4           14  LC91790282023160LGN00   \n",
       "5           16  LC91780282023153LGN00   \n",
       "6            3  LC81790272023152LGN00   \n",
       "7            1  LC81790282023152LGN00   \n",
       "\n",
       "                                 display_id ordering_id  \\\n",
       "0  LC09_L2SP_178028_20230618_20230620_02_T1        None   \n",
       "1  LC08_L2SP_179027_20230617_20230623_02_T1        None   \n",
       "2  LC08_L2SP_179028_20230617_20230623_02_T1        None   \n",
       "3  LC09_L2SP_179027_20230609_20230611_02_T1        None   \n",
       "4  LC09_L2SP_179028_20230609_20230611_02_T1        None   \n",
       "5  LC09_L2SP_178028_20230602_20230604_02_T1        None   \n",
       "6  LC08_L2SP_179027_20230601_20230607_02_T1        None   \n",
       "7  LC08_L2SP_179028_20230601_20230607_02_T1        None   \n",
       "\n",
       "                         landsat_product_id       landsat_scene_id  \\\n",
       "0  LC09_L1TP_178028_20230618_20230618_02_T1  LC91780282023169LGN00   \n",
       "1  LC08_L1TP_179027_20230617_20230623_02_T1  LC81790272023168LGN00   \n",
       "2  LC08_L1TP_179028_20230617_20230623_02_T1  LC81790282023168LGN00   \n",
       "3  LC09_L1TP_179027_20230609_20230610_02_T1  LC91790272023160LGN00   \n",
       "4  LC09_L1TP_179028_20230609_20230610_02_T1  LC91790282023160LGN00   \n",
       "5  LC09_L1TP_178028_20230602_20230602_02_T1  LC91780282023153LGN00   \n",
       "6  LC08_L1TP_179027_20230601_20230607_02_T1  LC81790272023152LGN00   \n",
       "7  LC08_L1TP_179028_20230601_20230607_02_T1  LC81790282023152LGN00   \n",
       "\n",
       "  acquisition_date collection_category  collection_number  wrs_path  ...  \\\n",
       "0       2023-06-18          2023-07-01                  2       178  ...   \n",
       "1       2023-06-17          2023-07-01                  2       179  ...   \n",
       "2       2023-06-17          2023-07-01                  2       179  ...   \n",
       "3       2023-06-09          2023-07-01                  2       179  ...   \n",
       "4       2023-06-09          2023-07-01                  2       179  ...   \n",
       "5       2023-06-02          2023-07-01                  2       178  ...   \n",
       "6       2023-06-01          2023-07-01                  2       179  ...   \n",
       "7       2023-06-01          2023-07-01                  2       179  ...   \n",
       "\n",
       "   corner_lower_right_latitude  corner_lower_right_longitude  \\\n",
       "0                     44.94254                      35.14211   \n",
       "1                     46.36282                      34.23368   \n",
       "2                     44.94989                      33.66680   \n",
       "3                     46.36641                      34.14796   \n",
       "4                     44.95033                      33.58694   \n",
       "5                     44.94353                      35.08891   \n",
       "6                     46.36274                      34.24148   \n",
       "7                     44.94984                      33.67441   \n",
       "\n",
       "   has_customized_metadata                                            options  \\\n",
       "0                     None  {'bulk': True, 'download': True, 'order': Fals...   \n",
       "1                     None  {'bulk': True, 'download': True, 'order': Fals...   \n",
       "2                     None  {'bulk': True, 'download': True, 'order': Fals...   \n",
       "3                     None  {'bulk': True, 'download': True, 'order': Fals...   \n",
       "4                     None  {'bulk': True, 'download': True, 'order': Fals...   \n",
       "5                     None  {'bulk': True, 'download': True, 'order': Fals...   \n",
       "6                     None  {'bulk': True, 'download': True, 'order': Fals...   \n",
       "7                     None  {'bulk': True, 'download': True, 'order': Fals...   \n",
       "\n",
       "                                            selected  \\\n",
       "0  {'bulk': False, 'compare': False, 'order': False}   \n",
       "1  {'bulk': False, 'compare': False, 'order': False}   \n",
       "2  {'bulk': False, 'compare': False, 'order': False}   \n",
       "3  {'bulk': False, 'compare': False, 'order': False}   \n",
       "4  {'bulk': False, 'compare': False, 'order': False}   \n",
       "5  {'bulk': False, 'compare': False, 'order': False}   \n",
       "6  {'bulk': False, 'compare': False, 'order': False}   \n",
       "7  {'bulk': False, 'compare': False, 'order': False}   \n",
       "\n",
       "                             spatial_bounds  \\\n",
       "0  (32.17911, 44.95323, 35.20709, 47.08946)   \n",
       "1  (31.15435, 46.36901, 34.27195, 48.51251)   \n",
       "2   (30.6585, 44.95226, 33.68665, 47.09115)   \n",
       "3  (31.06915, 46.37124, 34.18426, 48.51054)   \n",
       "4   (30.57594, 44.95405, 33.60158, 47.0888)   \n",
       "5    (32.12664, 44.9544, 35.1524, 47.08915)   \n",
       "6  (31.16167, 46.36892, 34.27944, 48.51241)   \n",
       "7   (30.66583, 44.9522, 33.69417, 47.09108)   \n",
       "\n",
       "                                    spatial_coverage  \\\n",
       "0  POLYGON ((32.17911 45.38061, 34.53682 44.95323...   \n",
       "1  POLYGON ((31.15435 46.80589, 33.57115 46.36901...   \n",
       "2  POLYGON ((30.6585 45.38224, 33.01614 44.95226,...   \n",
       "3  POLYGON ((31.06915 46.80355, 33.48655 46.37124...   \n",
       "4  POLYGON ((30.57594 45.37953, 32.9341 44.95405,...   \n",
       "5  POLYGON ((32.12664 45.37994, 34.48485 44.9544,...   \n",
       "6  POLYGON ((31.16167 46.80583, 33.57862 46.36892...   \n",
       "7  POLYGON ((30.66583 45.38222, 33.0236 44.9522, ...   \n",
       "\n",
       "                            temporal_coverage              publish_date  \\\n",
       "0  [2023-06-18 00:00:00, 2023-06-18 00:00:00] 2023-06-19 23:25:58-05:00   \n",
       "1  [2023-06-17 00:00:00, 2023-06-17 00:00:00] 2023-06-23 00:45:48-05:00   \n",
       "2  [2023-06-17 00:00:00, 2023-06-17 00:00:00] 2023-06-23 00:44:36-05:00   \n",
       "3  [2023-06-09 00:00:00, 2023-06-09 00:00:00] 2023-06-10 23:50:20-05:00   \n",
       "4  [2023-06-09 00:00:00, 2023-06-09 00:00:00] 2023-06-10 23:48:21-05:00   \n",
       "5  [2023-06-02 00:00:00, 2023-06-02 00:00:00] 2023-06-04 00:19:17-05:00   \n",
       "6  [2023-06-01 00:00:00, 2023-06-01 00:00:00] 2023-06-07 05:43:19-05:00   \n",
       "7  [2023-06-01 00:00:00, 2023-06-01 00:00:00] 2023-06-07 05:44:13-05:00   \n",
       "\n",
       "                                            geometry  \n",
       "0  POLYGON ((32.17911 45.38061, 34.53682 44.95323...  \n",
       "1  POLYGON ((31.15435 46.80589, 33.57115 46.36901...  \n",
       "2  POLYGON ((30.65850 45.38224, 33.01614 44.95226...  \n",
       "3  POLYGON ((31.06915 46.80355, 33.48655 46.37124...  \n",
       "4  POLYGON ((30.57594 45.37953, 32.93410 44.95405...  \n",
       "5  POLYGON ((32.12664 45.37994, 34.48485 44.95440...  \n",
       "6  POLYGON ((31.16167 46.80583, 33.57862 46.36892...  \n",
       "7  POLYGON ((30.66583 45.38222, 33.02360 44.95220...  \n",
       "\n",
       "[8 rows x 56 columns]"
      ]
     },
     "execution_count": 7,
     "metadata": {},
     "output_type": "execute_result"
    }
   ],
   "source": [
    "landsat_search"
   ]
  },
  {
   "cell_type": "code",
   "execution_count": 12,
   "metadata": {},
   "outputs": [
    {
     "data": {
      "text/plain": [
       "<Axes: >"
      ]
     },
     "execution_count": 12,
     "metadata": {},
     "output_type": "execute_result"
    },
    {
     "data": {
      "image/png": "[encoded data removed]",
      "text/plain": [
       "<Figure size 640x480 with 1 Axes>"
      ]
     },
     "metadata": {},
     "output_type": "display_data"
    }
   ],
   "source": [
    "ax = landsat_search.plot('entity_id',\n",
    "                    alpha = 0.5,\n",
    "                    cmap = 'Set1',\n",
    "                    #legend = True\n",
    "                     )\n",
    "geom.plot(ax=ax)"
   ]
  },
  {
   "cell_type": "code",
   "execution_count": 13,
   "metadata": {},
   "outputs": [
    {
     "name": "stdout",
     "output_type": "stream",
     "text": [
      "Not possible to download LC91780282023169LGN00.\n",
      "Not possible to download LC81790272023168LGN00.\n",
      "Not possible to download LC81790282023168LGN00.\n",
      "Not possible to download LC91790272023160LGN00.\n",
      "Not possible to download LC91790282023160LGN00.\n",
      "Not possible to download LC91780282023153LGN00.\n",
      "Not possible to download LC81790272023152LGN00.\n",
      "Not possible to download LC81790282023152LGN00.\n"
     ]
    }
   ],
   "source": [
    "for i in landsat_search['entity_id']:\n",
    "    try:\n",
    "        DownloadImagery.download_landsat(username = username_landsat,\n",
    "                                 password = password_landsat,\n",
    "                                 id = i,\n",
    "                                 output_dir = f'.././output/{i}')\n",
    "    except:\n",
    "        print(f'Not possible to download {i}.')\n",
    "        pass"
   ]
  },
  {
   "cell_type": "code",
   "execution_count": null,
   "metadata": {},
   "outputs": [],
   "source": []
  },
  {
   "cell_type": "code",
   "execution_count": null,
   "metadata": {},
   "outputs": [],
   "source": []
  }
 ],
 "metadata": {
  "kernelspec": {
   "display_name": "flooding",
   "language": "python",
   "name": "python3"
  },
  "language_info": {
   "codemirror_mode": {
    "name": "ipython",
    "version": 3
   },
   "file_extension": ".py",
   "mimetype": "text/x-python",
   "name": "python",
   "nbconvert_exporter": "python",
   "pygments_lexer": "ipython3",
   "version": "3.9.16"
  },
  "orig_nbformat": 4
 },
 "nbformat": 4,
 "nbformat_minor": 2
}
