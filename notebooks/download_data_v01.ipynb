{
 "cells": [
  {
   "cell_type": "markdown",
   "metadata": {},
   "source": [
    "## Importing Libraries"
   ]
  },
  {
   "cell_type": "code",
   "execution_count": 15,
   "metadata": {},
   "outputs": [],
   "source": [
    "#import folium                                 # visualization\n",
    "import geopandas as gpd                        # data analysis and manipulation\n",
    "import glob                                   # data access\n",
    "import json                                   # JSON encoder and decoder\n",
    "import matplotlib.pyplot as plt               # create visualizations\n",
    "import numpy as np                            # scientific computing\n",
    "import os                                     # data access\n",
    "from datetime import date                     # dates, times and intervals\n",
    "from folium import plugins                    # visualization\n",
    "from scripts.credential import username_landsat, password_landsat, username_sentinel, password_sentinel\n",
    "from scripts.download_imagery import DownloadImagery\n",
    "from sentinelsat.sentinel import SentinelAPI, read_geojson, geojson_to_wkt  # interface to Open Access Hub\n",
    "from shapely.geometry import Polygon, Point\n",
    "from zipfile import ZipFile                   # file management\n",
    "import pandas as pd\n",
    "import time                                   # time assessment\n"
   ]
  },
  {
   "cell_type": "markdown",
   "metadata": {},
   "source": [
    "## Reading Area of Interest"
   ]
  },
  {
   "cell_type": "code",
   "execution_count": 16,
   "metadata": {},
   "outputs": [
    {
     "data": {
      "text/html": [
       "<div>\n",
       "<style scoped>\n",
       "    .dataframe tbody tr th:only-of-type {\n",
       "        vertical-align: middle;\n",
       "    }\n",
       "\n",
       "    .dataframe tbody tr th {\n",
       "        vertical-align: top;\n",
       "    }\n",
       "\n",
       "    .dataframe thead th {\n",
       "        text-align: right;\n",
       "    }\n",
       "</style>\n",
       "<table border=\"1\" class=\"dataframe\">\n",
       "  <thead>\n",
       "    <tr style=\"text-align: right;\">\n",
       "      <th></th>\n",
       "      <th>fid</th>\n",
       "      <th>geometry</th>\n",
       "    </tr>\n",
       "  </thead>\n",
       "  <tbody>\n",
       "    <tr>\n",
       "      <th>0</th>\n",
       "      <td>1</td>\n",
       "      <td>POLYGON ((32.47466 46.53912, 32.47466 46.79573...</td>\n",
       "    </tr>\n",
       "  </tbody>\n",
       "</table>\n",
       "</div>"
      ],
      "text/plain": [
       "   fid                                           geometry\n",
       "0    1  POLYGON ((32.47466 46.53912, 32.47466 46.79573..."
      ]
     },
     "execution_count": 16,
     "metadata": {},
     "output_type": "execute_result"
    }
   ],
   "source": [
    "geom = gpd.read_file('../raw_data/flooded_areas.geojson')\n",
    "geom.head()"
   ]
  },
  {
   "cell_type": "markdown",
   "metadata": {},
   "source": [
    "## Downloading Sentinel Imagery"
   ]
  },
  {
   "cell_type": "code",
   "execution_count": 17,
   "metadata": {},
   "outputs": [],
   "source": [
    "sentinel_gdf = DownloadImagery.search_sentinel(username = username_sentinel,\n",
    "                                                password = password_sentinel,\n",
    "                                                boundary= geom,\n",
    "                                                start_date= '20230520',\n",
    "                                                end_date= '20230620',\n",
    "                                                max_cloud_cover= 10)"
   ]
  },
  {
   "cell_type": "code",
   "execution_count": 18,
   "metadata": {},
   "outputs": [
    {
     "data": {
      "text/html": [
       "<div>\n",
       "<style scoped>\n",
       "    .dataframe tbody tr th:only-of-type {\n",
       "        vertical-align: middle;\n",
       "    }\n",
       "\n",
       "    .dataframe tbody tr th {\n",
       "        vertical-align: top;\n",
       "    }\n",
       "\n",
       "    .dataframe thead th {\n",
       "        text-align: right;\n",
       "    }\n",
       "</style>\n",
       "<table border=\"1\" class=\"dataframe\">\n",
       "  <thead>\n",
       "    <tr style=\"text-align: right;\">\n",
       "      <th></th>\n",
       "      <th>title</th>\n",
       "      <th>link</th>\n",
       "      <th>link_alternative</th>\n",
       "      <th>link_icon</th>\n",
       "      <th>summary</th>\n",
       "      <th>ondemand</th>\n",
       "      <th>generationdate</th>\n",
       "      <th>beginposition</th>\n",
       "      <th>endposition</th>\n",
       "      <th>ingestiondate</th>\n",
       "      <th>...</th>\n",
       "      <th>platformidentifier</th>\n",
       "      <th>orbitdirection</th>\n",
       "      <th>platformserialidentifier</th>\n",
       "      <th>processinglevel</th>\n",
       "      <th>datastripidentifier</th>\n",
       "      <th>granuleidentifier</th>\n",
       "      <th>identifier</th>\n",
       "      <th>uuid</th>\n",
       "      <th>geometry</th>\n",
       "      <th>contains</th>\n",
       "    </tr>\n",
       "  </thead>\n",
       "  <tbody>\n",
       "    <tr>\n",
       "      <th>04a3420b-ec7a-4906-b2bb-7b6b265bad2b</th>\n",
       "      <td>S2B_MSIL2A_20230603T084559_N0509_R107_T36TVS_2...</td>\n",
       "      <td>https://scihub.copernicus.eu/dhus/odata/v1/Pro...</td>\n",
       "      <td>https://scihub.copernicus.eu/dhus/odata/v1/Pro...</td>\n",
       "      <td>https://scihub.copernicus.eu/dhus/odata/v1/Pro...</td>\n",
       "      <td>Date: 2023-06-03T08:45:59.024Z, Instrument: MS...</td>\n",
       "      <td>false</td>\n",
       "      <td>2023-06-03 10:23:06</td>\n",
       "      <td>2023-06-03 08:45:59.024</td>\n",
       "      <td>2023-06-03 08:45:59.024</td>\n",
       "      <td>2023-06-03 13:43:33.314</td>\n",
       "      <td>...</td>\n",
       "      <td>2017-013A</td>\n",
       "      <td>DESCENDING</td>\n",
       "      <td>Sentinel-2B</td>\n",
       "      <td>Level-2A</td>\n",
       "      <td>S2B_OPER_MSI_L2A_DS_2BPS_20230603T102306_S2023...</td>\n",
       "      <td>S2B_OPER_MSI_L2A_TL_2BPS_20230603T102306_A0325...</td>\n",
       "      <td>S2B_MSIL2A_20230603T084559_N0509_R107_T36TVS_2...</td>\n",
       "      <td>04a3420b-ec7a-4906-b2bb-7b6b265bad2b</td>\n",
       "      <td>MULTIPOLYGON (((31.70900 45.95826, 33.12597 45...</td>\n",
       "      <td>True</td>\n",
       "    </tr>\n",
       "    <tr>\n",
       "      <th>f6938ec2-4851-4a4b-ad8f-f8ec10edbcfd</th>\n",
       "      <td>S2A_MSIL2A_20230618T084601_N0509_R107_T36TVS_2...</td>\n",
       "      <td>https://scihub.copernicus.eu/dhus/odata/v1/Pro...</td>\n",
       "      <td>https://scihub.copernicus.eu/dhus/odata/v1/Pro...</td>\n",
       "      <td>https://scihub.copernicus.eu/dhus/odata/v1/Pro...</td>\n",
       "      <td>Date: 2023-06-18T08:46:01.024Z, Instrument: MS...</td>\n",
       "      <td>false</td>\n",
       "      <td>2023-06-18 15:16:02</td>\n",
       "      <td>2023-06-18 08:46:01.024</td>\n",
       "      <td>2023-06-18 08:46:01.024</td>\n",
       "      <td>2023-06-18 17:26:08.614</td>\n",
       "      <td>...</td>\n",
       "      <td>2015-028A</td>\n",
       "      <td>DESCENDING</td>\n",
       "      <td>Sentinel-2A</td>\n",
       "      <td>Level-2A</td>\n",
       "      <td>S2A_OPER_MSI_L2A_DS_2APS_20230618T151602_S2023...</td>\n",
       "      <td>S2A_OPER_MSI_L2A_TL_2APS_20230618T151602_A0417...</td>\n",
       "      <td>S2A_MSIL2A_20230618T084601_N0509_R107_T36TVS_2...</td>\n",
       "      <td>f6938ec2-4851-4a4b-ad8f-f8ec10edbcfd</td>\n",
       "      <td>MULTIPOLYGON (((31.70900 45.95826, 33.12597 45...</td>\n",
       "      <td>True</td>\n",
       "    </tr>\n",
       "  </tbody>\n",
       "</table>\n",
       "<p>2 rows × 42 columns</p>\n",
       "</div>"
      ],
      "text/plain": [
       "                                                                                  title  \\\n",
       "04a3420b-ec7a-4906-b2bb-7b6b265bad2b  S2B_MSIL2A_20230603T084559_N0509_R107_T36TVS_2...   \n",
       "f6938ec2-4851-4a4b-ad8f-f8ec10edbcfd  S2A_MSIL2A_20230618T084601_N0509_R107_T36TVS_2...   \n",
       "\n",
       "                                                                                   link  \\\n",
       "04a3420b-ec7a-4906-b2bb-7b6b265bad2b  https://scihub.copernicus.eu/dhus/odata/v1/Pro...   \n",
       "f6938ec2-4851-4a4b-ad8f-f8ec10edbcfd  https://scihub.copernicus.eu/dhus/odata/v1/Pro...   \n",
       "\n",
       "                                                                       link_alternative  \\\n",
       "04a3420b-ec7a-4906-b2bb-7b6b265bad2b  https://scihub.copernicus.eu/dhus/odata/v1/Pro...   \n",
       "f6938ec2-4851-4a4b-ad8f-f8ec10edbcfd  https://scihub.copernicus.eu/dhus/odata/v1/Pro...   \n",
       "\n",
       "                                                                              link_icon  \\\n",
       "04a3420b-ec7a-4906-b2bb-7b6b265bad2b  https://scihub.copernicus.eu/dhus/odata/v1/Pro...   \n",
       "f6938ec2-4851-4a4b-ad8f-f8ec10edbcfd  https://scihub.copernicus.eu/dhus/odata/v1/Pro...   \n",
       "\n",
       "                                                                                summary  \\\n",
       "04a3420b-ec7a-4906-b2bb-7b6b265bad2b  Date: 2023-06-03T08:45:59.024Z, Instrument: MS...   \n",
       "f6938ec2-4851-4a4b-ad8f-f8ec10edbcfd  Date: 2023-06-18T08:46:01.024Z, Instrument: MS...   \n",
       "\n",
       "                                     ondemand      generationdate  \\\n",
       "04a3420b-ec7a-4906-b2bb-7b6b265bad2b    false 2023-06-03 10:23:06   \n",
       "f6938ec2-4851-4a4b-ad8f-f8ec10edbcfd    false 2023-06-18 15:16:02   \n",
       "\n",
       "                                               beginposition  \\\n",
       "04a3420b-ec7a-4906-b2bb-7b6b265bad2b 2023-06-03 08:45:59.024   \n",
       "f6938ec2-4851-4a4b-ad8f-f8ec10edbcfd 2023-06-18 08:46:01.024   \n",
       "\n",
       "                                                 endposition  \\\n",
       "04a3420b-ec7a-4906-b2bb-7b6b265bad2b 2023-06-03 08:45:59.024   \n",
       "f6938ec2-4851-4a4b-ad8f-f8ec10edbcfd 2023-06-18 08:46:01.024   \n",
       "\n",
       "                                               ingestiondate  ...  \\\n",
       "04a3420b-ec7a-4906-b2bb-7b6b265bad2b 2023-06-03 13:43:33.314  ...   \n",
       "f6938ec2-4851-4a4b-ad8f-f8ec10edbcfd 2023-06-18 17:26:08.614  ...   \n",
       "\n",
       "                                      platformidentifier  orbitdirection  \\\n",
       "04a3420b-ec7a-4906-b2bb-7b6b265bad2b           2017-013A      DESCENDING   \n",
       "f6938ec2-4851-4a4b-ad8f-f8ec10edbcfd           2015-028A      DESCENDING   \n",
       "\n",
       "                                      platformserialidentifier  \\\n",
       "04a3420b-ec7a-4906-b2bb-7b6b265bad2b               Sentinel-2B   \n",
       "f6938ec2-4851-4a4b-ad8f-f8ec10edbcfd               Sentinel-2A   \n",
       "\n",
       "                                      processinglevel  \\\n",
       "04a3420b-ec7a-4906-b2bb-7b6b265bad2b         Level-2A   \n",
       "f6938ec2-4851-4a4b-ad8f-f8ec10edbcfd         Level-2A   \n",
       "\n",
       "                                                                    datastripidentifier  \\\n",
       "04a3420b-ec7a-4906-b2bb-7b6b265bad2b  S2B_OPER_MSI_L2A_DS_2BPS_20230603T102306_S2023...   \n",
       "f6938ec2-4851-4a4b-ad8f-f8ec10edbcfd  S2A_OPER_MSI_L2A_DS_2APS_20230618T151602_S2023...   \n",
       "\n",
       "                                                                      granuleidentifier  \\\n",
       "04a3420b-ec7a-4906-b2bb-7b6b265bad2b  S2B_OPER_MSI_L2A_TL_2BPS_20230603T102306_A0325...   \n",
       "f6938ec2-4851-4a4b-ad8f-f8ec10edbcfd  S2A_OPER_MSI_L2A_TL_2APS_20230618T151602_A0417...   \n",
       "\n",
       "                                                                             identifier  \\\n",
       "04a3420b-ec7a-4906-b2bb-7b6b265bad2b  S2B_MSIL2A_20230603T084559_N0509_R107_T36TVS_2...   \n",
       "f6938ec2-4851-4a4b-ad8f-f8ec10edbcfd  S2A_MSIL2A_20230618T084601_N0509_R107_T36TVS_2...   \n",
       "\n",
       "                                                                      uuid  \\\n",
       "04a3420b-ec7a-4906-b2bb-7b6b265bad2b  04a3420b-ec7a-4906-b2bb-7b6b265bad2b   \n",
       "f6938ec2-4851-4a4b-ad8f-f8ec10edbcfd  f6938ec2-4851-4a4b-ad8f-f8ec10edbcfd   \n",
       "\n",
       "                                                                               geometry  \\\n",
       "04a3420b-ec7a-4906-b2bb-7b6b265bad2b  MULTIPOLYGON (((31.70900 45.95826, 33.12597 45...   \n",
       "f6938ec2-4851-4a4b-ad8f-f8ec10edbcfd  MULTIPOLYGON (((31.70900 45.95826, 33.12597 45...   \n",
       "\n",
       "                                      contains  \n",
       "04a3420b-ec7a-4906-b2bb-7b6b265bad2b      True  \n",
       "f6938ec2-4851-4a4b-ad8f-f8ec10edbcfd      True  \n",
       "\n",
       "[2 rows x 42 columns]"
      ]
     },
     "execution_count": 18,
     "metadata": {},
     "output_type": "execute_result"
    }
   ],
   "source": [
    "sentinel_gdf"
   ]
  },
  {
   "cell_type": "code",
   "execution_count": 20,
   "metadata": {},
   "outputs": [
    {
     "data": {
      "text/plain": [
       "<Axes: >"
      ]
     },
     "execution_count": 20,
     "metadata": {},
     "output_type": "execute_result"
    },
    {
     "data": {
      "image/png": "[encoded data removed]",
      "text/plain": [
       "<Figure size 640x480 with 1 Axes>"
      ]
     },
     "metadata": {},
     "output_type": "display_data"
    }
   ],
   "source": [
    "ax = sentinel_gdf.plot('platformidentifier',\n",
    "                    alpha = 0.5,\n",
    "                    cmap = 'Set1',\n",
    "                    #legend = True\n",
    "                     )\n",
    "geom.plot(ax=ax)\n",
    "\n",
    "square_geom = DownloadImagery.create_square_bbox(geom['geometry'])\n",
    "\n",
    "square_geom.plot(ax=ax, color = 'yellow')"
   ]
  },
  {
   "cell_type": "code",
   "execution_count": 21,
   "metadata": {},
   "outputs": [
    {
     "name": "stdout",
     "output_type": "stream",
     "text": [
      "Not possible to download S2B_MSIL2A_20230603T084559_N0509_R107_T36TVS_20230603T102306.\n",
      "Not possible to download S2A_MSIL2A_20230618T084601_N0509_R107_T36TVS_20230618T151602.\n"
     ]
    }
   ],
   "source": [
    "for i in sentinel_gdf['identifier']:\n",
    "    try:\n",
    "        DownloadImagery.download_sentinel(username = username_sentinel,\n",
    "                                password = password_sentinel,\n",
    "                                gdf = sentinel_gdf,\n",
    "                                idx = 0,\n",
    "                                bound_crs= geom)\n",
    "    except:\n",
    "        print(f'Not possible to download {i}.')\n",
    "        pass"
   ]
  },
  {
   "cell_type": "markdown",
   "metadata": {},
   "source": [
    "## Downloading Landsat imagery"
   ]
  },
  {
   "cell_type": "code",
   "execution_count": 22,
   "metadata": {},
   "outputs": [
    {
     "name": "stderr",
     "output_type": "stream",
     "text": [
      "C:\\Users\\cande\\AppData\\Local\\Temp\\ipykernel_12872\\1844159588.py:1: UserWarning: Geometry is in a geographic CRS. Results from 'centroid' are likely incorrect. Use 'GeoSeries.to_crs()' to re-project geometries to a projected CRS before this operation.\n",
      "\n",
      "  centroidx, centroidy = geom.centroid.x, geom.centroid.y\n"
     ]
    }
   ],
   "source": [
    "centroidx, centroidy = geom.centroid.x, geom.centroid.y"
   ]
  },
  {
   "cell_type": "code",
   "execution_count": 29,
   "metadata": {},
   "outputs": [
    {
     "name": "stdout",
     "output_type": "stream",
     "text": [
      "4 scenes found.\n"
     ]
    }
   ],
   "source": [
    "landsat_search = DownloadImagery.search_landast(lat = centroidy[0],\n",
    "                               long = centroidx[0],\n",
    "                               start_date = '2023-05-20', \n",
    "                               end_date = '2023-06-20',\n",
    "                               dataset='landsat_ot_c2_l2', \n",
    "                               max_cloud_cover=5)"
   ]
  },
  {
   "cell_type": "code",
   "execution_count": 30,
   "metadata": {},
   "outputs": [
    {
     "data": {
      "text/html": [
       "<div>\n",
       "<style scoped>\n",
       "    .dataframe tbody tr th:only-of-type {\n",
       "        vertical-align: middle;\n",
       "    }\n",
       "\n",
       "    .dataframe tbody tr th {\n",
       "        vertical-align: top;\n",
       "    }\n",
       "\n",
       "    .dataframe thead th {\n",
       "        text-align: right;\n",
       "    }\n",
       "</style>\n",
       "<table border=\"1\" class=\"dataframe\">\n",
       "  <thead>\n",
       "    <tr style=\"text-align: right;\">\n",
       "      <th></th>\n",
       "      <th>cloud_cover</th>\n",
       "      <th>entity_id</th>\n",
       "      <th>display_id</th>\n",
       "      <th>ordering_id</th>\n",
       "      <th>landsat_product_id</th>\n",
       "      <th>landsat_scene_id</th>\n",
       "      <th>acquisition_date</th>\n",
       "      <th>collection_category</th>\n",
       "      <th>collection_number</th>\n",
       "      <th>wrs_path</th>\n",
       "      <th>...</th>\n",
       "      <th>corner_lower_right_latitude</th>\n",
       "      <th>corner_lower_right_longitude</th>\n",
       "      <th>has_customized_metadata</th>\n",
       "      <th>options</th>\n",
       "      <th>selected</th>\n",
       "      <th>spatial_bounds</th>\n",
       "      <th>spatial_coverage</th>\n",
       "      <th>temporal_coverage</th>\n",
       "      <th>publish_date</th>\n",
       "      <th>geometry</th>\n",
       "    </tr>\n",
       "  </thead>\n",
       "  <tbody>\n",
       "    <tr>\n",
       "      <th>0</th>\n",
       "      <td>4</td>\n",
       "      <td>LC81790282023168LGN00</td>\n",
       "      <td>LC08_L2SP_179028_20230617_20230623_02_T1</td>\n",
       "      <td>None</td>\n",
       "      <td>LC08_L1TP_179028_20230617_20230623_02_T1</td>\n",
       "      <td>LC81790282023168LGN00</td>\n",
       "      <td>2023-06-17</td>\n",
       "      <td>2023-07-01</td>\n",
       "      <td>2</td>\n",
       "      <td>179</td>\n",
       "      <td>...</td>\n",
       "      <td>44.94989</td>\n",
       "      <td>33.66680</td>\n",
       "      <td>None</td>\n",
       "      <td>{'bulk': True, 'download': True, 'order': Fals...</td>\n",
       "      <td>{'bulk': False, 'compare': False, 'order': False}</td>\n",
       "      <td>(30.6585, 44.95226, 33.68665, 47.09115)</td>\n",
       "      <td>POLYGON ((30.6585 45.38224, 33.01614 44.95226,...</td>\n",
       "      <td>[2023-06-17 00:00:00, 2023-06-17 00:00:00]</td>\n",
       "      <td>2023-06-23 00:44:36-05:00</td>\n",
       "      <td>POLYGON ((30.65850 45.38224, 33.01614 44.95226...</td>\n",
       "    </tr>\n",
       "    <tr>\n",
       "      <th>1</th>\n",
       "      <td>2</td>\n",
       "      <td>LC91790272023160LGN00</td>\n",
       "      <td>LC09_L2SP_179027_20230609_20230611_02_T1</td>\n",
       "      <td>None</td>\n",
       "      <td>LC09_L1TP_179027_20230609_20230610_02_T1</td>\n",
       "      <td>LC91790272023160LGN00</td>\n",
       "      <td>2023-06-09</td>\n",
       "      <td>2023-07-01</td>\n",
       "      <td>2</td>\n",
       "      <td>179</td>\n",
       "      <td>...</td>\n",
       "      <td>46.36641</td>\n",
       "      <td>34.14796</td>\n",
       "      <td>None</td>\n",
       "      <td>{'bulk': True, 'download': True, 'order': Fals...</td>\n",
       "      <td>{'bulk': False, 'compare': False, 'order': False}</td>\n",
       "      <td>(31.06915, 46.37124, 34.18426, 48.51054)</td>\n",
       "      <td>POLYGON ((31.06915 46.80355, 33.48655 46.37124...</td>\n",
       "      <td>[2023-06-09 00:00:00, 2023-06-09 00:00:00]</td>\n",
       "      <td>2023-06-10 23:50:20-05:00</td>\n",
       "      <td>POLYGON ((31.06915 46.80355, 33.48655 46.37124...</td>\n",
       "    </tr>\n",
       "    <tr>\n",
       "      <th>2</th>\n",
       "      <td>3</td>\n",
       "      <td>LC81790272023152LGN00</td>\n",
       "      <td>LC08_L2SP_179027_20230601_20230607_02_T1</td>\n",
       "      <td>None</td>\n",
       "      <td>LC08_L1TP_179027_20230601_20230607_02_T1</td>\n",
       "      <td>LC81790272023152LGN00</td>\n",
       "      <td>2023-06-01</td>\n",
       "      <td>2023-07-01</td>\n",
       "      <td>2</td>\n",
       "      <td>179</td>\n",
       "      <td>...</td>\n",
       "      <td>46.36274</td>\n",
       "      <td>34.24148</td>\n",
       "      <td>None</td>\n",
       "      <td>{'bulk': True, 'download': True, 'order': Fals...</td>\n",
       "      <td>{'bulk': False, 'compare': False, 'order': False}</td>\n",
       "      <td>(31.16167, 46.36892, 34.27944, 48.51241)</td>\n",
       "      <td>POLYGON ((31.16167 46.80583, 33.57862 46.36892...</td>\n",
       "      <td>[2023-06-01 00:00:00, 2023-06-01 00:00:00]</td>\n",
       "      <td>2023-06-07 05:43:19-05:00</td>\n",
       "      <td>POLYGON ((31.16167 46.80583, 33.57862 46.36892...</td>\n",
       "    </tr>\n",
       "    <tr>\n",
       "      <th>3</th>\n",
       "      <td>1</td>\n",
       "      <td>LC81790282023152LGN00</td>\n",
       "      <td>LC08_L2SP_179028_20230601_20230607_02_T1</td>\n",
       "      <td>None</td>\n",
       "      <td>LC08_L1TP_179028_20230601_20230607_02_T1</td>\n",
       "      <td>LC81790282023152LGN00</td>\n",
       "      <td>2023-06-01</td>\n",
       "      <td>2023-07-01</td>\n",
       "      <td>2</td>\n",
       "      <td>179</td>\n",
       "      <td>...</td>\n",
       "      <td>44.94984</td>\n",
       "      <td>33.67441</td>\n",
       "      <td>None</td>\n",
       "      <td>{'bulk': True, 'download': True, 'order': Fals...</td>\n",
       "      <td>{'bulk': False, 'compare': False, 'order': False}</td>\n",
       "      <td>(30.66583, 44.9522, 33.69417, 47.09108)</td>\n",
       "      <td>POLYGON ((30.66583 45.38222, 33.0236 44.9522, ...</td>\n",
       "      <td>[2023-06-01 00:00:00, 2023-06-01 00:00:00]</td>\n",
       "      <td>2023-06-07 05:44:13-05:00</td>\n",
       "      <td>POLYGON ((30.66583 45.38222, 33.02360 44.95220...</td>\n",
       "    </tr>\n",
       "  </tbody>\n",
       "</table>\n",
       "<p>4 rows × 56 columns</p>\n",
       "</div>"
      ],
      "text/plain": [
       "   cloud_cover              entity_id  \\\n",
       "0            4  LC81790282023168LGN00   \n",
       "1            2  LC91790272023160LGN00   \n",
       "2            3  LC81790272023152LGN00   \n",
       "3            1  LC81790282023152LGN00   \n",
       "\n",
       "                                 display_id ordering_id  \\\n",
       "0  LC08_L2SP_179028_20230617_20230623_02_T1        None   \n",
       "1  LC09_L2SP_179027_20230609_20230611_02_T1        None   \n",
       "2  LC08_L2SP_179027_20230601_20230607_02_T1        None   \n",
       "3  LC08_L2SP_179028_20230601_20230607_02_T1        None   \n",
       "\n",
       "                         landsat_product_id       landsat_scene_id  \\\n",
       "0  LC08_L1TP_179028_20230617_20230623_02_T1  LC81790282023168LGN00   \n",
       "1  LC09_L1TP_179027_20230609_20230610_02_T1  LC91790272023160LGN00   \n",
       "2  LC08_L1TP_179027_20230601_20230607_02_T1  LC81790272023152LGN00   \n",
       "3  LC08_L1TP_179028_20230601_20230607_02_T1  LC81790282023152LGN00   \n",
       "\n",
       "  acquisition_date collection_category  collection_number  wrs_path  ...  \\\n",
       "0       2023-06-17          2023-07-01                  2       179  ...   \n",
       "1       2023-06-09          2023-07-01                  2       179  ...   \n",
       "2       2023-06-01          2023-07-01                  2       179  ...   \n",
       "3       2023-06-01          2023-07-01                  2       179  ...   \n",
       "\n",
       "   corner_lower_right_latitude  corner_lower_right_longitude  \\\n",
       "0                     44.94989                      33.66680   \n",
       "1                     46.36641                      34.14796   \n",
       "2                     46.36274                      34.24148   \n",
       "3                     44.94984                      33.67441   \n",
       "\n",
       "   has_customized_metadata                                            options  \\\n",
       "0                     None  {'bulk': True, 'download': True, 'order': Fals...   \n",
       "1                     None  {'bulk': True, 'download': True, 'order': Fals...   \n",
       "2                     None  {'bulk': True, 'download': True, 'order': Fals...   \n",
       "3                     None  {'bulk': True, 'download': True, 'order': Fals...   \n",
       "\n",
       "                                            selected  \\\n",
       "0  {'bulk': False, 'compare': False, 'order': False}   \n",
       "1  {'bulk': False, 'compare': False, 'order': False}   \n",
       "2  {'bulk': False, 'compare': False, 'order': False}   \n",
       "3  {'bulk': False, 'compare': False, 'order': False}   \n",
       "\n",
       "                             spatial_bounds  \\\n",
       "0   (30.6585, 44.95226, 33.68665, 47.09115)   \n",
       "1  (31.06915, 46.37124, 34.18426, 48.51054)   \n",
       "2  (31.16167, 46.36892, 34.27944, 48.51241)   \n",
       "3   (30.66583, 44.9522, 33.69417, 47.09108)   \n",
       "\n",
       "                                    spatial_coverage  \\\n",
       "0  POLYGON ((30.6585 45.38224, 33.01614 44.95226,...   \n",
       "1  POLYGON ((31.06915 46.80355, 33.48655 46.37124...   \n",
       "2  POLYGON ((31.16167 46.80583, 33.57862 46.36892...   \n",
       "3  POLYGON ((30.66583 45.38222, 33.0236 44.9522, ...   \n",
       "\n",
       "                            temporal_coverage              publish_date  \\\n",
       "0  [2023-06-17 00:00:00, 2023-06-17 00:00:00] 2023-06-23 00:44:36-05:00   \n",
       "1  [2023-06-09 00:00:00, 2023-06-09 00:00:00] 2023-06-10 23:50:20-05:00   \n",
       "2  [2023-06-01 00:00:00, 2023-06-01 00:00:00] 2023-06-07 05:43:19-05:00   \n",
       "3  [2023-06-01 00:00:00, 2023-06-01 00:00:00] 2023-06-07 05:44:13-05:00   \n",
       "\n",
       "                                            geometry  \n",
       "0  POLYGON ((30.65850 45.38224, 33.01614 44.95226...  \n",
       "1  POLYGON ((31.06915 46.80355, 33.48655 46.37124...  \n",
       "2  POLYGON ((31.16167 46.80583, 33.57862 46.36892...  \n",
       "3  POLYGON ((30.66583 45.38222, 33.02360 44.95220...  \n",
       "\n",
       "[4 rows x 56 columns]"
      ]
     },
     "execution_count": 30,
     "metadata": {},
     "output_type": "execute_result"
    }
   ],
   "source": [
    "landsat_search"
   ]
  },
  {
   "cell_type": "code",
   "execution_count": 25,
   "metadata": {},
   "outputs": [
    {
     "data": {
      "text/plain": [
       "<Axes: >"
      ]
     },
     "execution_count": 25,
     "metadata": {},
     "output_type": "execute_result"
    },
    {
     "data": {
      "image/png": "[encoded data removed]",
      "text/plain": [
       "<Figure size 640x480 with 1 Axes>"
      ]
     },
     "metadata": {},
     "output_type": "display_data"
    }
   ],
   "source": [
    "ax = landsat_search.plot('entity_id',\n",
    "                    alpha = 0.5,\n",
    "                    cmap = 'Set1',\n",
    "                    #legend = True\n",
    "                     )\n",
    "geom.plot(ax=ax)"
   ]
  },
  {
   "cell_type": "code",
   "execution_count": 37,
   "metadata": {},
   "outputs": [
    {
     "name": "stdout",
     "output_type": "stream",
     "text": [
      "Not possible to download LC81790282023168LGN00.\n",
      "Not possible to download LC91790272023160LGN00.\n",
      "Not possible to download LC81790272023152LGN00.\n",
      "Not possible to download LC81790282023152LGN00.\n"
     ]
    }
   ],
   "source": [
    "for i in landsat_search['entity_id']:\n",
    "    try:\n",
    "        DownloadImagery.download_landsat(username = username_landsat,\n",
    "                                 password = password_landsat,\n",
    "                                 id = i,\n",
    "                                 output_dir = f'.././output/{i}')\n",
    "    except:\n",
    "        print(f'Not possible to download {i}.')\n",
    "        pass"
   ]
  },
  {
   "cell_type": "code",
   "execution_count": 36,
   "metadata": {},
   "outputs": [
    {
     "name": "stdout",
     "output_type": "stream",
     "text": [
      "Not possible to download LC81790282023152LGN00.\n"
     ]
    }
   ],
   "source": [
    "try:\n",
    "    DownloadImagery.download_landsat(username = username_landsat,\n",
    "                                 password = password_landsat,\n",
    "                                 id = 'LC91790272023160LGN00',\n",
    "                                 output_dir = f'.././output/{i}')\n",
    "except:\n",
    "    print(f'Not possible to download {i}.')\n",
    "    pass"
   ]
  }
 ],
 "metadata": {
  "kernelspec": {
   "display_name": "flooding",
   "language": "python",
   "name": "python3"
  },
  "language_info": {
   "codemirror_mode": {
    "name": "ipython",
    "version": 3
   },
   "file_extension": ".py",
   "mimetype": "text/x-python",
   "name": "python",
   "nbconvert_exporter": "python",
   "pygments_lexer": "ipython3",
   "version": "3.9.16"
  },
  "orig_nbformat": 4
 },
 "nbformat": 4,
 "nbformat_minor": 2
}
